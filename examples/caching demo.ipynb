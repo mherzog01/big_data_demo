{
 "cells": [
  {
   "cell_type": "code",
   "execution_count": 1,
   "id": "17aa5a4c-c74f-489a-aa2f-749237f1bf56",
   "metadata": {
    "execution": {
     "iopub.execute_input": "2022-04-20T06:16:47.035826Z",
     "iopub.status.busy": "2022-04-20T06:16:47.035598Z",
     "iopub.status.idle": "2022-04-20T06:18:57.189253Z",
     "shell.execute_reply": "2022-04-20T06:18:57.188582Z",
     "shell.execute_reply.started": "2022-04-20T06:16:47.035799Z"
    },
    "tags": []
   },
   "outputs": [
    {
     "data": {
      "application/vnd.jupyter.widget-view+json": {
       "model_id": "480ab6a0b27e43e7adf7661bf6b6a467",
       "version_major": 2,
       "version_minor": 0
      },
      "text/plain": [
       "VBox()"
      ]
     },
     "metadata": {},
     "output_type": "display_data"
    },
    {
     "name": "stdout",
     "output_type": "stream",
     "text": [
      "Starting Spark application\n"
     ]
    },
    {
     "data": {
      "text/html": [
       "<table>\n",
       "<tr><th>ID</th><th>YARN Application ID</th><th>Kind</th><th>State</th><th>Spark UI</th><th>Driver log</th><th>Current session?</th></tr><tr><td>8</td><td>application_1650412208045_0010</td><td>pyspark</td><td>idle</td><td><a target=\"_blank\" href=\"http://ip-172-31-22-251.us-east-2.compute.internal:20888/proxy/application_1650412208045_0010/\" class=\"emr-proxy-link\" emr-resource=\"j-2UAFSXFEUPG7O\n",
       "\" application-id=\"application_1650412208045_0010\">Link</a></td><td><a target=\"_blank\" href=\"http://ip-172-31-21-91.us-east-2.compute.internal:8042/node/containerlogs/container_1650412208045_0010_01_000001/livy\" >Link</a></td><td>✔</td></tr></table>"
      ],
      "text/plain": [
       "<IPython.core.display.HTML object>"
      ]
     },
     "metadata": {},
     "output_type": "display_data"
    },
    {
     "data": {
      "application/vnd.jupyter.widget-view+json": {
       "model_id": "",
       "version_major": 2,
       "version_minor": 0
      },
      "text/plain": [
       "FloatProgress(value=0.0, bar_style='info', description='Progress:', layout=Layout(height='25px', width='50%'),…"
      ]
     },
     "metadata": {},
     "output_type": "display_data"
    },
    {
     "name": "stdout",
     "output_type": "stream",
     "text": [
      "SparkSession available as 'spark'.\n"
     ]
    },
    {
     "data": {
      "application/vnd.jupyter.widget-view+json": {
       "model_id": "",
       "version_major": 2,
       "version_minor": 0
      },
      "text/plain": [
       "FloatProgress(value=0.0, bar_style='info', description='Progress:', layout=Layout(height='25px', width='50%'),…"
      ]
     },
     "metadata": {},
     "output_type": "display_data"
    },
    {
     "name": "stdout",
     "output_type": "stream",
     "text": [
      "root\n",
      " |-- image: struct (nullable = true)\n",
      " |    |-- origin: string (nullable = true)\n",
      " |    |-- height: integer (nullable = true)\n",
      " |    |-- width: integer (nullable = true)\n",
      " |    |-- nChannels: integer (nullable = true)\n",
      " |    |-- mode: integer (nullable = true)\n",
      " |    |-- data: binary (nullable = true)\n",
      "\n",
      "887"
     ]
    }
   ],
   "source": [
    "# https://sparkbyexamples.com/spark/spark-read-binary-file-into-dataframe/\n",
    "#df = spark.read.format(\"image\").option(\"recursiveFileLookup\", True).load(\"s3://multimedia-commons/data/images/{00*,01*}\")\n",
    "df = spark.read.format(\"image\").option(\"recursiveFileLookup\", True).load(\"s3://multimedia-commons/data/images/{00[0-9]}\").persist()\n",
    "df.printSchema()\n",
    "df.count()"
   ]
  },
  {
   "cell_type": "markdown",
   "id": "55f6a929-6f27-4bae-b744-119f7c5bf8d6",
   "metadata": {},
   "source": [
    "## Use the built-in ```toNDArray``` function"
   ]
  },
  {
   "cell_type": "code",
   "execution_count": 2,
   "id": "9efc654e-33e7-494f-82a2-f37013877a2c",
   "metadata": {
    "execution": {
     "iopub.execute_input": "2022-04-20T06:19:52.467703Z",
     "iopub.status.busy": "2022-04-20T06:19:52.467459Z",
     "iopub.status.idle": "2022-04-20T06:20:25.845556Z",
     "shell.execute_reply": "2022-04-20T06:20:25.844947Z",
     "shell.execute_reply.started": "2022-04-20T06:19:52.467679Z"
    },
    "tags": []
   },
   "outputs": [
    {
     "data": {
      "application/vnd.jupyter.widget-view+json": {
       "model_id": "0f3350ee342b4081ada52f15e698619b",
       "version_major": 2,
       "version_minor": 0
      },
      "text/plain": [
       "VBox()"
      ]
     },
     "metadata": {},
     "output_type": "display_data"
    },
    {
     "data": {
      "application/vnd.jupyter.widget-view+json": {
       "model_id": "",
       "version_major": 2,
       "version_minor": 0
      },
      "text/plain": [
       "FloatProgress(value=0.0, bar_style='info', description='Progress:', layout=Layout(height='25px', width='50%'),…"
      ]
     },
     "metadata": {},
     "output_type": "display_data"
    },
    {
     "name": "stdout",
     "output_type": "stream",
     "text": [
      "Image fields = ['origin', 'height', 'width', 'nChannels', 'mode', 'data']\n",
      "+--------------------+--------------------+\n",
      "|               image|                vecs|\n",
      "+--------------------+--------------------+\n",
      "|{s3://multimedia-...|[44.0,181.0,150.0...|\n",
      "|{s3://multimedia-...|[45.0,103.0,108.0...|\n",
      "|{s3://multimedia-...|[187.0,138.0,154....|\n",
      "|{s3://multimedia-...|[0.0,46.0,221.0,0...|\n",
      "|{s3://multimedia-...|[30.0,54.0,90.0,1...|\n",
      "|{s3://multimedia-...|[54.0,73.0,81.0,5...|\n",
      "|{s3://multimedia-...|[27.0,25.0,24.0,3...|\n",
      "|{s3://multimedia-...|[182.0,179.0,158....|\n",
      "|{s3://multimedia-...|[51.0,86.0,89.0,1...|\n",
      "|{s3://multimedia-...|[234.0,178.0,96.0...|\n",
      "|{s3://multimedia-...|[21.0,43.0,18.0,1...|\n",
      "|{s3://multimedia-...|[7.0,73.0,114.0,1...|\n",
      "|{s3://multimedia-...|[60.0,183.0,125.0...|\n",
      "|{s3://multimedia-...|[41.0,37.0,32.0,3...|\n",
      "|{s3://multimedia-...|[143.0,186.0,207....|\n",
      "|{s3://multimedia-...|[9.0,79.0,42.0,49...|\n",
      "|{s3://multimedia-...|[222.0,200.0,188....|\n",
      "|{s3://multimedia-...|[205.0,175.0,128....|\n",
      "|{s3://multimedia-...|[62.0,93.0,86.0,1...|\n",
      "|{s3://multimedia-...|[156.0,158.0,139....|\n",
      "+--------------------+--------------------+\n",
      "only showing top 20 rows"
     ]
    }
   ],
   "source": [
    "# https://stackoverflow.com/a/69215982/11262633\n",
    "import pyspark.sql.functions as F\n",
    "from pyspark.ml.image import ImageSchema\n",
    "from pyspark.ml.linalg import DenseVector, VectorUDT\n",
    "\n",
    "@F.udf(returnType=VectorUDT())\n",
    "def img2vec(x):\n",
    "    try:\n",
    "        image_np = DenseVector(ImageSchema.toNDArray(x).flatten())\n",
    "    except:\n",
    "        image_np = None\n",
    "    return image_np\n",
    "\n",
    "print(f'Image fields = {ImageSchema.imageFields}')\n",
    "df_new = df.withColumn('vecs',img2vec('image')).persist()\n",
    "df_new.show()\n",
    "#df_new.select('vecs').first().asDict().keys()"
   ]
  },
  {
   "cell_type": "markdown",
   "id": "487ba9e3-2eee-4c12-891f-6ccc06d4f603",
   "metadata": {},
   "source": [
    "### Q:  Why did this take >3 min?"
   ]
  },
  {
   "cell_type": "code",
   "execution_count": 3,
   "id": "557811fe-53e1-4cb9-92bb-4d51ac00c924",
   "metadata": {
    "execution": {
     "iopub.execute_input": "2022-04-20T06:21:40.784375Z",
     "iopub.status.busy": "2022-04-20T06:21:40.784147Z",
     "iopub.status.idle": "2022-04-20T06:25:08.560104Z",
     "shell.execute_reply": "2022-04-20T06:25:08.559362Z",
     "shell.execute_reply.started": "2022-04-20T06:21:40.784350Z"
    },
    "tags": []
   },
   "outputs": [
    {
     "data": {
      "application/vnd.jupyter.widget-view+json": {
       "model_id": "a7c3164f0a78475a95de809c9d793ae4",
       "version_major": 2,
       "version_minor": 0
      },
      "text/plain": [
       "VBox()"
      ]
     },
     "metadata": {},
     "output_type": "display_data"
    },
    {
     "data": {
      "application/vnd.jupyter.widget-view+json": {
       "model_id": "",
       "version_major": 2,
       "version_minor": 0
      },
      "text/plain": [
       "FloatProgress(value=0.0, bar_style='info', description='Progress:', layout=Layout(height='25px', width='50%'),…"
      ]
     },
     "metadata": {},
     "output_type": "display_data"
    },
    {
     "name": "stdout",
     "output_type": "stream",
     "text": [
      "+----------------------------------------------------------------------------+\n",
      "|origin                                                                      |\n",
      "+----------------------------------------------------------------------------+\n",
      "|s3://multimedia-commons/data/images/002/7ce/0027ce88ae5dc31b18e3245743e3.jpg|\n",
      "+----------------------------------------------------------------------------+"
     ]
    }
   ],
   "source": [
    "df_null = df_new.where(df_new.vecs.isNull()).select('image.origin')\n",
    "df_null.show(truncate=False)"
   ]
  },
  {
   "cell_type": "code",
   "execution_count": 6,
   "id": "5f12dce8-9058-4164-83e2-f76ab828b115",
   "metadata": {
    "execution": {
     "iopub.execute_input": "2022-04-20T06:28:43.604360Z",
     "iopub.status.busy": "2022-04-20T06:28:43.604137Z",
     "iopub.status.idle": "2022-04-20T06:28:43.863882Z",
     "shell.execute_reply": "2022-04-20T06:28:43.863321Z",
     "shell.execute_reply.started": "2022-04-20T06:28:43.604337Z"
    },
    "tags": []
   },
   "outputs": [
    {
     "data": {
      "application/vnd.jupyter.widget-view+json": {
       "model_id": "1df7ad121cc54bb5bf967d2ca6433796",
       "version_major": 2,
       "version_minor": 0
      },
      "text/plain": [
       "VBox()"
      ]
     },
     "metadata": {},
     "output_type": "display_data"
    },
    {
     "data": {
      "application/vnd.jupyter.widget-view+json": {
       "model_id": "",
       "version_major": 2,
       "version_minor": 0
      },
      "text/plain": [
       "FloatProgress(value=0.0, bar_style='info', description='Progress:', layout=Layout(height='25px', width='50%'),…"
      ]
     },
     "metadata": {},
     "output_type": "display_data"
    },
    {
     "name": "stdout",
     "output_type": "stream",
     "text": [
      "== Physical Plan ==\n",
      "*(1) Project [image#0.origin AS origin#123]\n",
      "+- *(1) Filter isnull(vecs#40)\n",
      "   +- InMemoryTableScan [image#0, vecs#40], [isnull(vecs#40)]\n",
      "         +- InMemoryRelation [image#0, vecs#40], StorageLevel(disk, memory, deserialized, 1 replicas)\n",
      "               +- *(1) Project [image#0, pythonUDF0#53 AS vecs#40]\n",
      "                  +- BatchEvalPython [img2vec(image#0)], [pythonUDF0#53]\n",
      "                     +- InMemoryTableScan [image#0]\n",
      "                           +- InMemoryRelation [image#0], StorageLevel(disk, memory, deserialized, 1 replicas)\n",
      "                                 +- FileScan image [image#0] Batched: false, DataFilters: [], Format: org.apache.spark.ml.source.image.ImageFileFormat@441229d6, Location: InMemoryFileIndex[s3://multimedia-commons/data/images/000, s3://multimedia-commons/data/images/00..., PartitionFilters: [], PushedFilters: [], ReadSchema: struct<image:struct<origin:string,height:int,width:int,nChannels:int,mode:int,data:binary>>"
     ]
    }
   ],
   "source": [
    "from py4j.java_gateway import java_import\n",
    "java_import(spark._sc._jvm, \"org.apache.spark.sql.api.python.*\")\n",
    "\n",
    "df_null.explain()"
   ]
  },
  {
   "cell_type": "code",
   "execution_count": 7,
   "id": "fcf09855-1934-4b6a-a721-ed57eefc0ff8",
   "metadata": {
    "execution": {
     "iopub.execute_input": "2022-04-20T06:29:57.336771Z",
     "iopub.status.busy": "2022-04-20T06:29:57.336540Z",
     "iopub.status.idle": "2022-04-20T06:29:57.594465Z",
     "shell.execute_reply": "2022-04-20T06:29:57.593713Z",
     "shell.execute_reply.started": "2022-04-20T06:29:57.336746Z"
    },
    "tags": []
   },
   "outputs": [
    {
     "data": {
      "application/vnd.jupyter.widget-view+json": {
       "model_id": "33ac059d86f843f8a7f3943a2404f630",
       "version_major": 2,
       "version_minor": 0
      },
      "text/plain": [
       "VBox()"
      ]
     },
     "metadata": {},
     "output_type": "display_data"
    },
    {
     "data": {
      "application/vnd.jupyter.widget-view+json": {
       "model_id": "",
       "version_major": 2,
       "version_minor": 0
      },
      "text/plain": [
       "FloatProgress(value=0.0, bar_style='info', description='Progress:', layout=Layout(height='25px', width='50%'),…"
      ]
     },
     "metadata": {},
     "output_type": "display_data"
    }
   ],
   "source": [
    "image = df_new.where(df_new.image.origin == 's3://multimedia-commons/data/images/002/7ce/0027ce88ae5dc31b18e3245743e3.jpg')"
   ]
  },
  {
   "cell_type": "markdown",
   "id": "1522eb0c-cee2-45bf-a68b-cf76293fc64b",
   "metadata": {},
   "source": [
    "## Offending image in DataFrame is 0 Bytes\n",
    "\n",
    "However, when downloaded, image is 99324 bytes"
   ]
  },
  {
   "cell_type": "code",
   "execution_count": 8,
   "id": "aa2680ce-056d-4a75-a475-05485d15dde6",
   "metadata": {
    "execution": {
     "iopub.execute_input": "2022-04-20T06:30:07.490842Z",
     "iopub.status.busy": "2022-04-20T06:30:07.490566Z",
     "iopub.status.idle": "2022-04-20T06:30:08.754794Z",
     "shell.execute_reply": "2022-04-20T06:30:08.754062Z",
     "shell.execute_reply.started": "2022-04-20T06:30:07.490816Z"
    },
    "tags": []
   },
   "outputs": [
    {
     "data": {
      "application/vnd.jupyter.widget-view+json": {
       "model_id": "93b517b226524674ba1bb7f4390b4581",
       "version_major": 2,
       "version_minor": 0
      },
      "text/plain": [
       "VBox()"
      ]
     },
     "metadata": {},
     "output_type": "display_data"
    },
    {
     "data": {
      "application/vnd.jupyter.widget-view+json": {
       "model_id": "",
       "version_major": 2,
       "version_minor": 0
      },
      "text/plain": [
       "FloatProgress(value=0.0, bar_style='info', description='Progress:', layout=Layout(height='25px', width='50%'),…"
      ]
     },
     "metadata": {},
     "output_type": "display_data"
    },
    {
     "name": "stdout",
     "output_type": "stream",
     "text": [
      "Image size=0"
     ]
    }
   ],
   "source": [
    "image_row = image.first()\n",
    "image_data = image_row.asDict()['image'].asDict()['data']\n",
    "len(image_data)\n",
    "print(f'Image size={len(image_data)}')"
   ]
  },
  {
   "cell_type": "code",
   "execution_count": 9,
   "id": "547ff680-b9bc-4d48-895e-48b186a87392",
   "metadata": {
    "execution": {
     "iopub.execute_input": "2022-04-20T06:30:12.571499Z",
     "iopub.status.busy": "2022-04-20T06:30:12.571269Z",
     "iopub.status.idle": "2022-04-20T06:30:12.619262Z",
     "shell.execute_reply": "2022-04-20T06:30:12.618566Z",
     "shell.execute_reply.started": "2022-04-20T06:30:12.571475Z"
    },
    "tags": []
   },
   "outputs": [
    {
     "data": {
      "application/vnd.jupyter.widget-view+json": {
       "model_id": "fdfc714d6f124c7b93f20b07df3fb3ec",
       "version_major": 2,
       "version_minor": 0
      },
      "text/plain": [
       "VBox()"
      ]
     },
     "metadata": {},
     "output_type": "display_data"
    },
    {
     "data": {
      "application/vnd.jupyter.widget-view+json": {
       "model_id": "",
       "version_major": 2,
       "version_minor": 0
      },
      "text/plain": [
       "FloatProgress(value=0.0, bar_style='info', description='Progress:', layout=Layout(height='25px', width='50%'),…"
      ]
     },
     "metadata": {},
     "output_type": "display_data"
    },
    {
     "name": "stdout",
     "output_type": "stream",
     "text": [
      "Row(image=Row(origin='s3://multimedia-commons/data/images/002/7ce/0027ce88ae5dc31b18e3245743e3.jpg', height=-1, width=-1, nChannels=-1, mode=-1, data=bytearray(b'')), vecs=None)"
     ]
    }
   ],
   "source": [
    "image_row"
   ]
  },
  {
   "cell_type": "code",
   "execution_count": 11,
   "id": "3a14b1e1-bbd6-4193-b3cf-61143ab2a5cf",
   "metadata": {
    "execution": {
     "iopub.execute_input": "2022-04-20T06:30:34.234638Z",
     "iopub.status.busy": "2022-04-20T06:30:34.234377Z",
     "iopub.status.idle": "2022-04-20T06:30:35.009593Z",
     "shell.execute_reply": "2022-04-20T06:30:35.008534Z",
     "shell.execute_reply.started": "2022-04-20T06:30:34.234585Z"
    },
    "tags": []
   },
   "outputs": [
    {
     "data": {
      "application/vnd.jupyter.widget-view+json": {
       "model_id": "daa1af8c758d4033bbb9578b39451844",
       "version_major": 2,
       "version_minor": 0
      },
      "text/plain": [
       "VBox()"
      ]
     },
     "metadata": {},
     "output_type": "display_data"
    },
    {
     "data": {
      "application/vnd.jupyter.widget-view+json": {
       "model_id": "",
       "version_major": 2,
       "version_minor": 0
      },
      "text/plain": [
       "FloatProgress(value=0.0, bar_style='info', description='Progress:', layout=Layout(height='25px', width='50%'),…"
      ]
     },
     "metadata": {},
     "output_type": "display_data"
    },
    {
     "name": "stdout",
     "output_type": "stream",
     "text": [
      "Image s3://multimedia-commons/data/images/007/1c6/0071c6b1b7a8e129824b3de084d4c.jpg size=516000"
     ]
    }
   ],
   "source": [
    "first_image = df_new.first()\n",
    "first_data = first_image.asDict()['image'].asDict()['data']\n",
    "print(f'Image {first_image.image.origin} size={len(first_data)}')"
   ]
  }
 ],
 "metadata": {
  "kernelspec": {
   "display_name": "PySpark",
   "language": "",
   "name": "pysparkkernel"
  },
  "language_info": {
   "codemirror_mode": {
    "name": "python",
    "version": 3
   },
   "mimetype": "text/x-python",
   "name": "pyspark",
   "pygments_lexer": "python3"
  }
 },
 "nbformat": 4,
 "nbformat_minor": 5
}
