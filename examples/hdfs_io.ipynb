{
 "cells": [
  {
   "cell_type": "code",
   "execution_count": 1,
   "id": "d84a875d-0dea-4fb4-9a36-830d5b42116e",
   "metadata": {
    "execution": {
     "iopub.execute_input": "2022-04-10T18:05:10.800402Z",
     "iopub.status.busy": "2022-04-10T18:05:10.800182Z",
     "iopub.status.idle": "2022-04-10T18:05:37.439672Z",
     "shell.execute_reply": "2022-04-10T18:05:37.439182Z",
     "shell.execute_reply.started": "2022-04-10T18:05:10.800376Z"
    },
    "tags": []
   },
   "outputs": [
    {
     "data": {
      "application/vnd.jupyter.widget-view+json": {
       "model_id": "8e97fb272a284cfbb72d960e42ab936d",
       "version_major": 2,
       "version_minor": 0
      },
      "text/plain": [
       "VBox()"
      ]
     },
     "metadata": {},
     "output_type": "display_data"
    },
    {
     "name": "stdout",
     "output_type": "stream",
     "text": [
      "Starting Spark application\n"
     ]
    },
    {
     "data": {
      "text/html": [
       "<table>\n",
       "<tr><th>ID</th><th>YARN Application ID</th><th>Kind</th><th>State</th><th>Spark UI</th><th>Driver log</th><th>Current session?</th></tr><tr><td>1</td><td>application_1649603212487_0003</td><td>pyspark</td><td>idle</td><td><a target=\"_blank\" href=\"http://ip-172-31-17-183.us-east-2.compute.internal:20888/proxy/application_1649603212487_0003/\" class=\"emr-proxy-link\" emr-resource=\"j-1VWBD4Q7M8QE0\n",
       "\" application-id=\"application_1649603212487_0003\">Link</a></td><td><a target=\"_blank\" href=\"http://ip-172-31-19-108.us-east-2.compute.internal:8042/node/containerlogs/container_1649603212487_0003_01_000001/livy\" >Link</a></td><td>✔</td></tr></table>"
      ],
      "text/plain": [
       "<IPython.core.display.HTML object>"
      ]
     },
     "metadata": {},
     "output_type": "display_data"
    },
    {
     "data": {
      "application/vnd.jupyter.widget-view+json": {
       "model_id": "",
       "version_major": 2,
       "version_minor": 0
      },
      "text/plain": [
       "FloatProgress(value=0.0, bar_style='info', description='Progress:', layout=Layout(height='25px', width='50%'),…"
      ]
     },
     "metadata": {},
     "output_type": "display_data"
    },
    {
     "name": "stdout",
     "output_type": "stream",
     "text": [
      "SparkSession available as 'spark'.\n"
     ]
    },
    {
     "data": {
      "application/vnd.jupyter.widget-view+json": {
       "model_id": "",
       "version_major": 2,
       "version_minor": 0
      },
      "text/plain": [
       "FloatProgress(value=0.0, bar_style='info', description='Progress:', layout=Layout(height='25px', width='50%'),…"
      ]
     },
     "metadata": {},
     "output_type": "display_data"
    }
   ],
   "source": [
    "import os"
   ]
  },
  {
   "cell_type": "code",
   "execution_count": 21,
   "id": "6e477742-d4c0-4437-9fce-404cb36b820b",
   "metadata": {
    "execution": {
     "iopub.execute_input": "2022-04-10T18:34:01.338204Z",
     "iopub.status.busy": "2022-04-10T18:34:01.337956Z",
     "iopub.status.idle": "2022-04-10T18:34:01.349215Z",
     "shell.execute_reply": "2022-04-10T18:34:01.348604Z",
     "shell.execute_reply.started": "2022-04-10T18:34:01.338181Z"
    },
    "tags": []
   },
   "outputs": [
    {
     "name": "stdout",
     "output_type": "stream",
     "text": [
      "1649603768116-0\n",
      "1649613934157-0\n",
      "7002467630638818348\n",
      "7364206898285743039\n",
      "blockmgr-1d2eda59-3add-45be-9f4e-a41c09f54364\n",
      "blockmgr-59b841b8-d377-4944-abc7-476265f8fd97\n",
      "blockmgr-8b6f17c6-e79d-4102-ab1b-89a0d5103bcc\n",
      "hadoop-hdfs-namenode.pid\n",
      "hadoop-state-pusher.config\n",
      "hadoop-yarn-yarn\n",
      "hsperfdata_emr-notebook\n",
      "hsperfdata_hadoop\n",
      "hsperfdata_hdfs\n",
      "hsperfdata_kms\n",
      "hsperfdata_livy\n",
      "hsperfdata_mapred\n",
      "hsperfdata_root\n",
      "hsperfdata_spark\n",
      "hsperfdata_yarn\n",
      "jetty-172_31_17_183-8088-_-any-69188706602102375.dir\n",
      "jetty-ip-172-31-17-183_us-east-2_compute_internal-19888-_-any-6943295675471287217.dir\n",
      "jetty-ip-172-31-17-183_us-east-2_compute_internal-20888-_-any-8390878317201690973.dir\n",
      "jetty-ip-172-31-17-183_us-east-2_compute_internal-8188-_-any-6445470360603456709.dir\n",
      "jetty-ip-172-31-17-183_us-east-2_compute_internal-9870-hdfs-_-any-7253595740607422041.dir\n",
      "libleveldbjni-64-1-8583846394274074828.8\n",
      "liblz4-java-5417858812988783083.so\n",
      "liblz4-java-5417858812988783083.so.lck\n",
      "livyConf3440113674903466731.properties\n",
      "livyConf7006776870520538895.properties\n",
      "motd.N8JGJ\n",
      "motd.TEDcn\n",
      "motd.part2076d\n",
      "motd.partexyef\n",
      "puppet_bigtop_file_merge\n",
      "rsc-tmp3502039846952415098\n",
      "rsc-tmp356301647852887505\n",
      "spark-0c42dce7-4900-420d-8c2c-481c5d24c7cb\n",
      "spark-2194e2a9-f8d8-4a92-ad72-f863119f3001\n",
      "spark-56bda578-da05-4402-87d0-90dd7dec3a37\n",
      "spark-9b3d05fb-817d-4791-8b3f-2dc1170419f1\n",
      "spark-9fa0a216-d867-4f5d-8574-2cb94df37eb6\n",
      "spark-b810e379-b9f1-4b45-859b-ec2f4667ef8f\n",
      "spark2043899607001933071\n",
      "spark6174826954344630031\n",
      "systemd-private-af87a7fbe0bf492cb2a5fd5b08105c5c-chronyd.service-4o7y8v\n",
      "systemd-private-af87a7fbe0bf492cb2a5fd5b08105c5c-httpd.service-jHJMD5\n",
      "systemd-private-af87a7fbe0bf492cb2a5fd5b08105c5c-nginx.service-7Sm78j\n",
      "tmp60t6k80m\n",
      "tmp9q3krevc\n"
     ]
    }
   ],
   "source": [
    "%%bash\n",
    "ls /tmp"
   ]
  },
  {
   "cell_type": "code",
   "execution_count": 67,
   "id": "ef0f00d8-e52e-4413-9f03-8383f73345df",
   "metadata": {
    "execution": {
     "iopub.execute_input": "2022-04-10T18:59:27.230432Z",
     "iopub.status.busy": "2022-04-10T18:59:27.230223Z",
     "iopub.status.idle": "2022-04-10T18:59:27.280107Z",
     "shell.execute_reply": "2022-04-10T18:59:27.279517Z",
     "shell.execute_reply.started": "2022-04-10T18:59:27.230409Z"
    },
    "tags": []
   },
   "outputs": [
    {
     "data": {
      "application/vnd.jupyter.widget-view+json": {
       "model_id": "665ea4bb2fa0441f8ae8f591d6a976a5",
       "version_major": 2,
       "version_minor": 0
      },
      "text/plain": [
       "VBox()"
      ]
     },
     "metadata": {},
     "output_type": "display_data"
    },
    {
     "data": {
      "application/vnd.jupyter.widget-view+json": {
       "model_id": "",
       "version_major": 2,
       "version_minor": 0
      },
      "text/plain": [
       "FloatProgress(value=0.0, bar_style='info', description='Progress:', layout=Layout(height='25px', width='50%'),…"
      ]
     },
     "metadata": {},
     "output_type": "display_data"
    }
   ],
   "source": [
    "hadoop = sc._jvm.org.apache.hadoop\n",
    "hdfs = hadoop.fs.FileSystem.get(sc._jsc.hadoopConfiguration())\n",
    "\n",
    "def hdfs_path(path_str):\n",
    "    return hadoop.fs.Path(path_str)\n",
    "\n",
    "\n",
    "def list_hdfs(path_str):\n",
    "    # https://stackoverflow.com/a/45178292/11262633\n",
    "\n",
    "    conf = hadoop.conf.Configuration() \n",
    "    path = hdfs_path(path_str)\n",
    "\n",
    "    for f in hdfs.listStatus(path):\n",
    "        print(f.getPath(), f.getLen())\n",
    "        \n"
   ]
  },
  {
   "cell_type": "code",
   "execution_count": 68,
   "id": "472ead89-0e6b-48cd-958e-66e1bf42ff5e",
   "metadata": {
    "execution": {
     "iopub.execute_input": "2022-04-10T18:59:27.863425Z",
     "iopub.status.busy": "2022-04-10T18:59:27.863196Z",
     "iopub.status.idle": "2022-04-10T18:59:27.920437Z",
     "shell.execute_reply": "2022-04-10T18:59:27.919904Z",
     "shell.execute_reply.started": "2022-04-10T18:59:27.863401Z"
    },
    "tags": []
   },
   "outputs": [
    {
     "data": {
      "application/vnd.jupyter.widget-view+json": {
       "model_id": "dc5fb40f0f274739a6b0a973595fdada",
       "version_major": 2,
       "version_minor": 0
      },
      "text/plain": [
       "VBox()"
      ]
     },
     "metadata": {},
     "output_type": "display_data"
    },
    {
     "data": {
      "application/vnd.jupyter.widget-view+json": {
       "model_id": "",
       "version_major": 2,
       "version_minor": 0
      },
      "text/plain": [
       "FloatProgress(value=0.0, bar_style='info', description='Progress:', layout=Layout(height='25px', width='50%'),…"
      ]
     },
     "metadata": {},
     "output_type": "display_data"
    },
    {
     "name": "stdout",
     "output_type": "stream",
     "text": [
      "hdfs://ip-172-31-17-183.us-east-2.compute.internal:8020/tmp/date.txt 29\n",
      "hdfs://ip-172-31-17-183.us-east-2.compute.internal:8020/tmp/entity-file-history 0\n",
      "hdfs://ip-172-31-17-183.us-east-2.compute.internal:8020/tmp/hadoop-yarn 0\n",
      "hdfs://ip-172-31-17-183.us-east-2.compute.internal:8020/tmp/test_hdfs.txt 0"
     ]
    }
   ],
   "source": [
    "list_hdfs('/tmp')"
   ]
  },
  {
   "cell_type": "code",
   "execution_count": 61,
   "id": "1305d8f7-dd27-4f2a-bfe1-4ec9997c28a6",
   "metadata": {
    "execution": {
     "iopub.execute_input": "2022-04-10T18:56:41.254798Z",
     "iopub.status.busy": "2022-04-10T18:56:41.254579Z",
     "iopub.status.idle": "2022-04-10T18:56:41.311546Z",
     "shell.execute_reply": "2022-04-10T18:56:41.311012Z",
     "shell.execute_reply.started": "2022-04-10T18:56:41.254775Z"
    },
    "tags": []
   },
   "outputs": [
    {
     "data": {
      "application/vnd.jupyter.widget-view+json": {
       "model_id": "7d915386e84e49e19adf2f4dbcd71c30",
       "version_major": 2,
       "version_minor": 0
      },
      "text/plain": [
       "VBox()"
      ]
     },
     "metadata": {},
     "output_type": "display_data"
    },
    {
     "data": {
      "application/vnd.jupyter.widget-view+json": {
       "model_id": "",
       "version_major": 2,
       "version_minor": 0
      },
      "text/plain": [
       "FloatProgress(value=0.0, bar_style='info', description='Progress:', layout=Layout(height='25px', width='50%'),…"
      ]
     },
     "metadata": {},
     "output_type": "display_data"
    },
    {
     "name": "stdout",
     "output_type": "stream",
     "text": [
      "File /tmp/test2.txt not found"
     ]
    }
   ],
   "source": [
    "#https://sparkbyexamples.com/spark/spark-rename-and-delete-file-directory-from-hdfs/#:~:text=In%20order%20to%20delete%20a,()%20method%20of%20Hadoop%20FileSystem.&text=delete()%20method%20of%20FileSystem,both%20File%20and%20a%20Directory.\n",
    "\n",
    "targ_file_str = '/tmp/test2.txt'\n",
    "targ_file = hdfs_path(targ_file_str)\n",
    "\n",
    "if hdfs.exists(targ_file):\n",
    "    result = hdfs.delete(targ_file, True)\n",
    "    if result:\n",
    "        print(f'File {targ_file_str} deleted')\n",
    "    else:\n",
    "        print(f'Error deleting file {targ_file_str}')\n",
    "else:\n",
    "    print(f'File {targ_file_str} not found')    "
   ]
  },
  {
   "cell_type": "code",
   "execution_count": 70,
   "id": "2f128f76-4af5-4664-8cb3-a93bf88e3b0c",
   "metadata": {
    "execution": {
     "iopub.execute_input": "2022-04-10T19:00:24.972791Z",
     "iopub.status.busy": "2022-04-10T19:00:24.972575Z",
     "iopub.status.idle": "2022-04-10T19:00:25.733683Z",
     "shell.execute_reply": "2022-04-10T19:00:25.733026Z",
     "shell.execute_reply.started": "2022-04-10T19:00:24.972768Z"
    },
    "tags": []
   },
   "outputs": [
    {
     "data": {
      "application/vnd.jupyter.widget-view+json": {
       "model_id": "e0d7c25c65224f06b26cce3bf18524be",
       "version_major": 2,
       "version_minor": 0
      },
      "text/plain": [
       "VBox()"
      ]
     },
     "metadata": {},
     "output_type": "display_data"
    },
    {
     "data": {
      "application/vnd.jupyter.widget-view+json": {
       "model_id": "",
       "version_major": 2,
       "version_minor": 0
      },
      "text/plain": [
       "FloatProgress(value=0.0, bar_style='info', description='Progress:', layout=Layout(height='25px', width='50%'),…"
      ]
     },
     "metadata": {},
     "output_type": "display_data"
    },
    {
     "name": "stdout",
     "output_type": "stream",
     "text": [
      "hdfs://ip-172-31-17-183.us-east-2.compute.internal:8020/tmp/date.txt <class 'py4j.java_gateway.JavaObject'>"
     ]
    }
   ],
   "source": [
    "# https://stackoverflow.com/a/58912480/11262633\n",
    "\n",
    "raw_out = hdfs.create(targ_file)  # FSDataOutputStream\n",
    "out_stream = sc._jvm.java.io.BufferedOutputStream(raw_out)\n",
    "\n",
    "for f in hdfs.listStatus(hdfs_path('/tmp/')):\n",
    "    in_path = f.getPath()\n",
    "    if not str(in_path).endswith('.txt'):\n",
    "        continue\n",
    "    print(in_path, type(in_path))\n",
    "    raw_in = hdfs.open(in_path)\n",
    "    in_stream = sc._jvm.java.io.BufferedInputStream(raw_in)\n",
    "\n",
    "    while in_stream.available() > 0:\n",
    "        out_stream.write(in_stream.read()) \n",
    "        out_stream.flush()\n",
    "    in_stream.close()\n",
    "    break\n",
    "\n",
    "out_stream.close()"
   ]
  },
  {
   "cell_type": "code",
   "execution_count": 71,
   "id": "7e67a801-a938-4764-8649-2fdc0d5c049a",
   "metadata": {
    "execution": {
     "iopub.execute_input": "2022-04-10T19:00:33.858513Z",
     "iopub.status.busy": "2022-04-10T19:00:33.858280Z",
     "iopub.status.idle": "2022-04-10T19:00:33.912176Z",
     "shell.execute_reply": "2022-04-10T19:00:33.911530Z",
     "shell.execute_reply.started": "2022-04-10T19:00:33.858489Z"
    },
    "tags": []
   },
   "outputs": [
    {
     "data": {
      "application/vnd.jupyter.widget-view+json": {
       "model_id": "d73713154cea43f1a62bcfcc826de038",
       "version_major": 2,
       "version_minor": 0
      },
      "text/plain": [
       "VBox()"
      ]
     },
     "metadata": {},
     "output_type": "display_data"
    },
    {
     "data": {
      "application/vnd.jupyter.widget-view+json": {
       "model_id": "",
       "version_major": 2,
       "version_minor": 0
      },
      "text/plain": [
       "FloatProgress(value=0.0, bar_style='info', description='Progress:', layout=Layout(height='25px', width='50%'),…"
      ]
     },
     "metadata": {},
     "output_type": "display_data"
    },
    {
     "name": "stdout",
     "output_type": "stream",
     "text": [
      "hdfs://ip-172-31-17-183.us-east-2.compute.internal:8020/tmp/date.txt 29\n",
      "hdfs://ip-172-31-17-183.us-east-2.compute.internal:8020/tmp/entity-file-history 0\n",
      "hdfs://ip-172-31-17-183.us-east-2.compute.internal:8020/tmp/hadoop-yarn 0\n",
      "hdfs://ip-172-31-17-183.us-east-2.compute.internal:8020/tmp/test2.txt 29\n",
      "hdfs://ip-172-31-17-183.us-east-2.compute.internal:8020/tmp/test_hdfs.txt 0"
     ]
    }
   ],
   "source": [
    "list_hdfs('/tmp')"
   ]
  },
  {
   "cell_type": "code",
   "execution_count": 4,
   "id": "7532306c-3bd5-49f5-aa02-727d02f9bafd",
   "metadata": {
    "execution": {
     "iopub.execute_input": "2022-04-11T01:59:23.279398Z",
     "iopub.status.busy": "2022-04-11T01:59:23.279179Z",
     "iopub.status.idle": "2022-04-11T01:59:23.539681Z",
     "shell.execute_reply": "2022-04-11T01:59:23.539054Z",
     "shell.execute_reply.started": "2022-04-11T01:59:23.279375Z"
    },
    "tags": []
   },
   "outputs": [
    {
     "data": {
      "application/vnd.jupyter.widget-view+json": {
       "model_id": "232fe356fbb643bf8b0074d1ca2855c6",
       "version_major": 2,
       "version_minor": 0
      },
      "text/plain": [
       "VBox()"
      ]
     },
     "metadata": {},
     "output_type": "display_data"
    },
    {
     "data": {
      "application/vnd.jupyter.widget-view+json": {
       "model_id": "",
       "version_major": 2,
       "version_minor": 0
      },
      "text/plain": [
       "FloatProgress(value=0.0, bar_style='info', description='Progress:', layout=Layout(height='25px', width='50%'),…"
      ]
     },
     "metadata": {},
     "output_type": "display_data"
    },
    {
     "name": "stderr",
     "output_type": "stream",
     "text": [
      "An error was encountered:\n",
      "An error occurred while calling o140.save.\n",
      ": java.lang.ClassNotFoundException: Failed to find data source: binary. Please find packages at http://spark.apache.org/third-party-projects.html\n",
      "\tat org.apache.spark.sql.execution.datasources.DataSource$.lookupDataSource(DataSource.scala:692)\n",
      "\tat org.apache.spark.sql.execution.datasources.DataSource$.lookupDataSourceV2(DataSource.scala:746)\n",
      "\tat org.apache.spark.sql.DataFrameWriter.lookupV2Provider(DataFrameWriter.scala:993)\n",
      "\tat org.apache.spark.sql.DataFrameWriter.saveInternal(DataFrameWriter.scala:311)\n",
      "\tat org.apache.spark.sql.DataFrameWriter.save(DataFrameWriter.scala:293)\n",
      "\tat sun.reflect.NativeMethodAccessorImpl.invoke0(Native Method)\n",
      "\tat sun.reflect.NativeMethodAccessorImpl.invoke(NativeMethodAccessorImpl.java:62)\n",
      "\tat sun.reflect.DelegatingMethodAccessorImpl.invoke(DelegatingMethodAccessorImpl.java:43)\n",
      "\tat java.lang.reflect.Method.invoke(Method.java:498)\n",
      "\tat py4j.reflection.MethodInvoker.invoke(MethodInvoker.java:244)\n",
      "\tat py4j.reflection.ReflectionEngine.invoke(ReflectionEngine.java:357)\n",
      "\tat py4j.Gateway.invoke(Gateway.java:282)\n",
      "\tat py4j.commands.AbstractCommand.invokeMethod(AbstractCommand.java:132)\n",
      "\tat py4j.commands.CallCommand.execute(CallCommand.java:79)\n",
      "\tat py4j.GatewayConnection.run(GatewayConnection.java:238)\n",
      "\tat java.lang.Thread.run(Thread.java:750)\n",
      "Caused by: java.lang.ClassNotFoundException: binary.DefaultSource\n",
      "\tat java.net.URLClassLoader.findClass(URLClassLoader.java:387)\n",
      "\tat java.lang.ClassLoader.loadClass(ClassLoader.java:418)\n",
      "\tat java.lang.ClassLoader.loadClass(ClassLoader.java:351)\n",
      "\tat org.apache.spark.sql.execution.datasources.DataSource$.$anonfun$lookupDataSource$5(DataSource.scala:666)\n",
      "\tat scala.util.Try$.apply(Try.scala:213)\n",
      "\tat org.apache.spark.sql.execution.datasources.DataSource$.$anonfun$lookupDataSource$4(DataSource.scala:666)\n",
      "\tat scala.util.Failure.orElse(Try.scala:224)\n",
      "\tat org.apache.spark.sql.execution.datasources.DataSource$.lookupDataSource(DataSource.scala:666)\n",
      "\t... 15 more\n",
      "\n",
      "Traceback (most recent call last):\n",
      "  File \"/usr/lib/spark/python/lib/pyspark.zip/pyspark/sql/readwriter.py\", line 1109, in save\n",
      "    self._jwrite.save(path)\n",
      "  File \"/usr/lib/spark/python/lib/py4j-0.10.9-src.zip/py4j/java_gateway.py\", line 1305, in __call__\n",
      "    answer, self.gateway_client, self.target_id, self.name)\n",
      "  File \"/usr/lib/spark/python/lib/pyspark.zip/pyspark/sql/utils.py\", line 111, in deco\n",
      "    return f(*a, **kw)\n",
      "  File \"/usr/lib/spark/python/lib/py4j-0.10.9-src.zip/py4j/protocol.py\", line 328, in get_return_value\n",
      "    format(target_id, \".\", name), value)\n",
      "py4j.protocol.Py4JJavaError: An error occurred while calling o140.save.\n",
      ": java.lang.ClassNotFoundException: Failed to find data source: binary. Please find packages at http://spark.apache.org/third-party-projects.html\n",
      "\tat org.apache.spark.sql.execution.datasources.DataSource$.lookupDataSource(DataSource.scala:692)\n",
      "\tat org.apache.spark.sql.execution.datasources.DataSource$.lookupDataSourceV2(DataSource.scala:746)\n",
      "\tat org.apache.spark.sql.DataFrameWriter.lookupV2Provider(DataFrameWriter.scala:993)\n",
      "\tat org.apache.spark.sql.DataFrameWriter.saveInternal(DataFrameWriter.scala:311)\n",
      "\tat org.apache.spark.sql.DataFrameWriter.save(DataFrameWriter.scala:293)\n",
      "\tat sun.reflect.NativeMethodAccessorImpl.invoke0(Native Method)\n",
      "\tat sun.reflect.NativeMethodAccessorImpl.invoke(NativeMethodAccessorImpl.java:62)\n",
      "\tat sun.reflect.DelegatingMethodAccessorImpl.invoke(DelegatingMethodAccessorImpl.java:43)\n",
      "\tat java.lang.reflect.Method.invoke(Method.java:498)\n",
      "\tat py4j.reflection.MethodInvoker.invoke(MethodInvoker.java:244)\n",
      "\tat py4j.reflection.ReflectionEngine.invoke(ReflectionEngine.java:357)\n",
      "\tat py4j.Gateway.invoke(Gateway.java:282)\n",
      "\tat py4j.commands.AbstractCommand.invokeMethod(AbstractCommand.java:132)\n",
      "\tat py4j.commands.CallCommand.execute(CallCommand.java:79)\n",
      "\tat py4j.GatewayConnection.run(GatewayConnection.java:238)\n",
      "\tat java.lang.Thread.run(Thread.java:750)\n",
      "Caused by: java.lang.ClassNotFoundException: binary.DefaultSource\n",
      "\tat java.net.URLClassLoader.findClass(URLClassLoader.java:387)\n",
      "\tat java.lang.ClassLoader.loadClass(ClassLoader.java:418)\n",
      "\tat java.lang.ClassLoader.loadClass(ClassLoader.java:351)\n",
      "\tat org.apache.spark.sql.execution.datasources.DataSource$.$anonfun$lookupDataSource$5(DataSource.scala:666)\n",
      "\tat scala.util.Try$.apply(Try.scala:213)\n",
      "\tat org.apache.spark.sql.execution.datasources.DataSource$.$anonfun$lookupDataSource$4(DataSource.scala:666)\n",
      "\tat scala.util.Failure.orElse(Try.scala:224)\n",
      "\tat org.apache.spark.sql.execution.datasources.DataSource$.lookupDataSource(DataSource.scala:666)\n",
      "\t... 15 more\n",
      "\n",
      "\n"
     ]
    }
   ],
   "source": [
    "#https://stackoverflow.com/a/65455869/11262633\n",
    "from pyspark.sql.functions import base64, col\n",
    "img_df = spark.read.format(\"image\").load(\"s3://multimedia-commons/data/images/000/24a/00024a73d1a4c32fb29732d56a2.jpg\")\n",
    "proc_df = img_df.select(base64(col(\"image.data\"))).alias('encoded')\n",
    "\n",
    "#proc_df.coalesce(1).write.format(\"text\").save('/tmp/sample2.jpg')  *** Creates a base64 text file"
   ]
  }
 ],
 "metadata": {
  "kernelspec": {
   "display_name": "PySpark",
   "language": "",
   "name": "pysparkkernel"
  },
  "language_info": {
   "codemirror_mode": {
    "name": "python",
    "version": 3
   },
   "mimetype": "text/x-python",
   "name": "pyspark",
   "pygments_lexer": "python3"
  }
 },
 "nbformat": 4,
 "nbformat_minor": 5
}
