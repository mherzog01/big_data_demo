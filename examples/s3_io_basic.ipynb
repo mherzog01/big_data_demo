{
 "cells": [
  {
   "cell_type": "markdown",
   "id": "40d33410-af8a-44d0-a481-87133cad26f8",
   "metadata": {},
   "source": [
    "# Accessing S3 via PySpark\n",
    "## Setup"
   ]
  },
  {
   "cell_type": "markdown",
   "id": "76a17bb5-2da7-4244-a3ba-aef0546c2b04",
   "metadata": {},
   "source": [
    "Assume that we are using the PySpark kernel"
   ]
  },
  {
   "cell_type": "code",
   "execution_count": 1,
   "id": "e85680e9-1bd0-41a4-80c5-b10a4e3dca54",
   "metadata": {
    "execution": {
     "iopub.execute_input": "2022-04-14T01:17:53.269606Z",
     "iopub.status.busy": "2022-04-14T01:17:53.269371Z",
     "iopub.status.idle": "2022-04-14T01:18:21.890736Z",
     "shell.execute_reply": "2022-04-14T01:18:21.890169Z",
     "shell.execute_reply.started": "2022-04-14T01:17:53.269582Z"
    },
    "tags": []
   },
   "outputs": [
    {
     "data": {
      "application/vnd.jupyter.widget-view+json": {
       "model_id": "12147a8a059b4e1b90fd5fd48e4446e6",
       "version_major": 2,
       "version_minor": 0
      },
      "text/plain": [
       "VBox()"
      ]
     },
     "metadata": {},
     "output_type": "display_data"
    },
    {
     "name": "stdout",
     "output_type": "stream",
     "text": [
      "Starting Spark application\n"
     ]
    },
    {
     "data": {
      "text/html": [
       "<table>\n",
       "<tr><th>ID</th><th>YARN Application ID</th><th>Kind</th><th>State</th><th>Spark UI</th><th>Driver log</th><th>Current session?</th></tr><tr><td>8</td><td>application_1649886739542_0010</td><td>pyspark</td><td>idle</td><td><a target=\"_blank\" href=\"http://ip-172-31-22-43.us-east-2.compute.internal:20888/proxy/application_1649886739542_0010/\" class=\"emr-proxy-link\" emr-resource=\"j-R01V9M0V3HK7\n",
       "\" application-id=\"application_1649886739542_0010\">Link</a></td><td><a target=\"_blank\" href=\"http://ip-172-31-31-242.us-east-2.compute.internal:8042/node/containerlogs/container_1649886739542_0010_01_000001/livy\" >Link</a></td><td>✔</td></tr></table>"
      ],
      "text/plain": [
       "<IPython.core.display.HTML object>"
      ]
     },
     "metadata": {},
     "output_type": "display_data"
    },
    {
     "data": {
      "application/vnd.jupyter.widget-view+json": {
       "model_id": "",
       "version_major": 2,
       "version_minor": 0
      },
      "text/plain": [
       "FloatProgress(value=0.0, bar_style='info', description='Progress:', layout=Layout(height='25px', width='50%'),…"
      ]
     },
     "metadata": {},
     "output_type": "display_data"
    },
    {
     "name": "stdout",
     "output_type": "stream",
     "text": [
      "SparkSession available as 'spark'.\n"
     ]
    },
    {
     "data": {
      "application/vnd.jupyter.widget-view+json": {
       "model_id": "",
       "version_major": 2,
       "version_minor": 0
      },
      "text/plain": [
       "FloatProgress(value=0.0, bar_style='info', description='Progress:', layout=Layout(height='25px', width='50%'),…"
      ]
     },
     "metadata": {},
     "output_type": "display_data"
    }
   ],
   "source": [
    "import os"
   ]
  },
  {
   "cell_type": "markdown",
   "id": "39c3b742-0d81-4304-81ba-a982b976fb14",
   "metadata": {
    "execution": {
     "iopub.execute_input": "2022-04-10T15:35:32.028537Z",
     "iopub.status.busy": "2022-04-10T15:35:32.028290Z",
     "iopub.status.idle": "2022-04-10T15:35:39.351227Z",
     "shell.execute_reply": "2022-04-10T15:35:39.350556Z",
     "shell.execute_reply.started": "2022-04-10T15:35:32.028511Z"
    },
    "tags": []
   },
   "source": [
    "## Read from S3"
   ]
  },
  {
   "cell_type": "code",
   "execution_count": 2,
   "id": "a27e5177-4a5a-488b-9b68-3437b41e77a1",
   "metadata": {
    "execution": {
     "iopub.execute_input": "2022-04-14T01:18:21.891799Z",
     "iopub.status.busy": "2022-04-14T01:18:21.891628Z",
     "iopub.status.idle": "2022-04-14T01:18:27.183181Z",
     "shell.execute_reply": "2022-04-14T01:18:27.182585Z",
     "shell.execute_reply.started": "2022-04-14T01:18:21.891778Z"
    },
    "tags": []
   },
   "outputs": [
    {
     "data": {
      "application/vnd.jupyter.widget-view+json": {
       "model_id": "6999827c27e74dd9bbda62a742f51487",
       "version_major": 2,
       "version_minor": 0
      },
      "text/plain": [
       "VBox()"
      ]
     },
     "metadata": {},
     "output_type": "display_data"
    },
    {
     "data": {
      "application/vnd.jupyter.widget-view+json": {
       "model_id": "",
       "version_major": 2,
       "version_minor": 0
      },
      "text/plain": [
       "FloatProgress(value=0.0, bar_style='info', description='Progress:', layout=Layout(height='25px', width='50%'),…"
      ]
     },
     "metadata": {},
     "output_type": "display_data"
    }
   ],
   "source": [
    "s3File = spark.read.text(\"s3://multimedia-commons/index.html\")"
   ]
  },
  {
   "cell_type": "code",
   "execution_count": 3,
   "id": "8e2ba293-6383-43e2-949e-27859e203035",
   "metadata": {
    "execution": {
     "iopub.execute_input": "2022-04-14T01:18:27.184496Z",
     "iopub.status.busy": "2022-04-14T01:18:27.184328Z",
     "iopub.status.idle": "2022-04-14T01:18:32.771696Z",
     "shell.execute_reply": "2022-04-14T01:18:32.770949Z",
     "shell.execute_reply.started": "2022-04-14T01:18:27.184476Z"
    },
    "tags": []
   },
   "outputs": [
    {
     "data": {
      "application/vnd.jupyter.widget-view+json": {
       "model_id": "6e6c31a5b1264c71abfe3240caf0e171",
       "version_major": 2,
       "version_minor": 0
      },
      "text/plain": [
       "VBox()"
      ]
     },
     "metadata": {},
     "output_type": "display_data"
    },
    {
     "data": {
      "application/vnd.jupyter.widget-view+json": {
       "model_id": "",
       "version_major": 2,
       "version_minor": 0
      },
      "text/plain": [
       "FloatProgress(value=0.0, bar_style='info', description='Progress:', layout=Layout(height='25px', width='50%'),…"
      ]
     },
     "metadata": {},
     "output_type": "display_data"
    },
    {
     "name": "stdout",
     "output_type": "stream",
     "text": [
      "Row(value='<!DOCTYPE html>')"
     ]
    }
   ],
   "source": [
    "s3File.first()"
   ]
  },
  {
   "cell_type": "markdown",
   "id": "46283d58-9a16-4a2d-b980-26ed86876147",
   "metadata": {},
   "source": [
    "## Read binary files"
   ]
  },
  {
   "cell_type": "code",
   "execution_count": 4,
   "id": "17aa5a4c-c74f-489a-aa2f-749237f1bf56",
   "metadata": {
    "execution": {
     "iopub.execute_input": "2022-04-14T01:18:32.773450Z",
     "iopub.status.busy": "2022-04-14T01:18:32.773174Z",
     "iopub.status.idle": "2022-04-14T01:18:35.078419Z",
     "shell.execute_reply": "2022-04-14T01:18:35.077698Z",
     "shell.execute_reply.started": "2022-04-14T01:18:32.773379Z"
    },
    "tags": []
   },
   "outputs": [
    {
     "data": {
      "application/vnd.jupyter.widget-view+json": {
       "model_id": "3d12167436a844889d94c992358e2f40",
       "version_major": 2,
       "version_minor": 0
      },
      "text/plain": [
       "VBox()"
      ]
     },
     "metadata": {},
     "output_type": "display_data"
    },
    {
     "data": {
      "application/vnd.jupyter.widget-view+json": {
       "model_id": "",
       "version_major": 2,
       "version_minor": 0
      },
      "text/plain": [
       "FloatProgress(value=0.0, bar_style='info', description='Progress:', layout=Layout(height='25px', width='50%'),…"
      ]
     },
     "metadata": {},
     "output_type": "display_data"
    },
    {
     "name": "stdout",
     "output_type": "stream",
     "text": [
      "root\n",
      " |-- path: string (nullable = true)\n",
      " |-- modificationTime: timestamp (nullable = true)\n",
      " |-- length: long (nullable = true)\n",
      " |-- content: binary (nullable = true)\n",
      "\n",
      "+--------------------+-------------------+------+--------------------+\n",
      "|                path|   modificationTime|length|             content|\n",
      "+--------------------+-------------------+------+--------------------+\n",
      "|s3://multimedia-c...|2019-03-31 01:07:42| 40382|[FF D8 FF E0 00 1...|\n",
      "+--------------------+-------------------+------+--------------------+"
     ]
    }
   ],
   "source": [
    "# https://sparkbyexamples.com/spark/spark-read-binary-file-into-dataframe/\n",
    "df = spark.read.format(\"binaryFile\").load(\"s3://multimedia-commons/data/images/000/24a/00024a73d1a4c32fb29732d56a2.jpg\")\n",
    "df.printSchema()\n",
    "df.show()"
   ]
  },
  {
   "cell_type": "code",
   "execution_count": 5,
   "id": "88cc242b-15c8-43ad-bdee-59355dddf51f",
   "metadata": {
    "execution": {
     "iopub.execute_input": "2022-04-14T01:18:35.079797Z",
     "iopub.status.busy": "2022-04-14T01:18:35.079548Z",
     "iopub.status.idle": "2022-04-14T01:18:38.418544Z",
     "shell.execute_reply": "2022-04-14T01:18:38.417971Z",
     "shell.execute_reply.started": "2022-04-14T01:18:35.079763Z"
    },
    "tags": []
   },
   "outputs": [
    {
     "data": {
      "application/vnd.jupyter.widget-view+json": {
       "model_id": "cb64efae340945e5a8da3a612f557a3b",
       "version_major": 2,
       "version_minor": 0
      },
      "text/plain": [
       "VBox()"
      ]
     },
     "metadata": {},
     "output_type": "display_data"
    },
    {
     "data": {
      "application/vnd.jupyter.widget-view+json": {
       "model_id": "",
       "version_major": 2,
       "version_minor": 0
      },
      "text/plain": [
       "FloatProgress(value=0.0, bar_style='info', description='Progress:', layout=Layout(height='25px', width='50%'),…"
      ]
     },
     "metadata": {},
     "output_type": "display_data"
    },
    {
     "name": "stdout",
     "output_type": "stream",
     "text": [
      "root\n",
      " |-- image: struct (nullable = true)\n",
      " |    |-- origin: string (nullable = true)\n",
      " |    |-- height: integer (nullable = true)\n",
      " |    |-- width: integer (nullable = true)\n",
      " |    |-- nChannels: integer (nullable = true)\n",
      " |    |-- mode: integer (nullable = true)\n",
      " |    |-- data: binary (nullable = true)\n",
      "\n",
      "+------+-----+---------+----+--------------------+\n",
      "|height|width|nChannels|mode|                data|\n",
      "+------+-----+---------+----+--------------------+\n",
      "|   260|  500|        3|  16|[00 00 00 00 00 0...|\n",
      "+------+-----+---------+----+--------------------+"
     ]
    }
   ],
   "source": [
    "# https://stackoverflow.com/questions/58611888/how-is-spark-reading-my-image-using-the-image-format\n",
    "df = spark.read.format(\"image\").load(\"s3://multimedia-commons/data/images/000/24a/00024a73d1a4c32fb29732d56a2.jpg\")\n",
    "df.printSchema()\n",
    "df.select(\"image.height\",\"image.width\",\"image.nChannels\", \"image.mode\", \"image.data\").show()"
   ]
  },
  {
   "cell_type": "code",
   "execution_count": 6,
   "id": "b69a6862-d9d7-4423-b262-0ff75d7e81b2",
   "metadata": {
    "execution": {
     "iopub.execute_input": "2022-04-14T01:18:38.419628Z",
     "iopub.status.busy": "2022-04-14T01:18:38.419456Z",
     "iopub.status.idle": "2022-04-14T01:18:43.713385Z",
     "shell.execute_reply": "2022-04-14T01:18:43.712633Z",
     "shell.execute_reply.started": "2022-04-14T01:18:38.419606Z"
    },
    "tags": []
   },
   "outputs": [
    {
     "data": {
      "application/vnd.jupyter.widget-view+json": {
       "model_id": "c4534f58c6a247c881ca09c3a64a46ba",
       "version_major": 2,
       "version_minor": 0
      },
      "text/plain": [
       "VBox()"
      ]
     },
     "metadata": {},
     "output_type": "display_data"
    },
    {
     "data": {
      "application/vnd.jupyter.widget-view+json": {
       "model_id": "",
       "version_major": 2,
       "version_minor": 0
      },
      "text/plain": [
       "FloatProgress(value=0.0, bar_style='info', description='Progress:', layout=Layout(height='25px', width='50%'),…"
      ]
     },
     "metadata": {},
     "output_type": "display_data"
    },
    {
     "name": "stdout",
     "output_type": "stream",
     "text": [
      "1"
     ]
    }
   ],
   "source": [
    "#img_bytes = df.select(\"image.data\").take(1)\n",
    "img_bytes = df.select(\"image.data\").first()\n",
    "len(img_bytes)"
   ]
  },
  {
   "cell_type": "code",
   "execution_count": 7,
   "id": "18fccf9b-f78b-490b-b508-89085e72b9b6",
   "metadata": {
    "execution": {
     "iopub.execute_input": "2022-04-14T01:18:43.714387Z",
     "iopub.status.busy": "2022-04-14T01:18:43.714212Z",
     "iopub.status.idle": "2022-04-14T01:18:43.767698Z",
     "shell.execute_reply": "2022-04-14T01:18:43.767016Z",
     "shell.execute_reply.started": "2022-04-14T01:18:43.714365Z"
    },
    "tags": []
   },
   "outputs": [
    {
     "data": {
      "application/vnd.jupyter.widget-view+json": {
       "model_id": "20dd504c686a4826b6b7ddc4659089a5",
       "version_major": 2,
       "version_minor": 0
      },
      "text/plain": [
       "VBox()"
      ]
     },
     "metadata": {},
     "output_type": "display_data"
    },
    {
     "data": {
      "application/vnd.jupyter.widget-view+json": {
       "model_id": "",
       "version_major": 2,
       "version_minor": 0
      },
      "text/plain": [
       "FloatProgress(value=0.0, bar_style='info', description='Progress:', layout=Layout(height='25px', width='50%'),…"
      ]
     },
     "metadata": {},
     "output_type": "display_data"
    },
    {
     "name": "stdout",
     "output_type": "stream",
     "text": [
      "390000"
     ]
    }
   ],
   "source": [
    "len(img_bytes[0])  # Should be 40382  "
   ]
  },
  {
   "cell_type": "code",
   "execution_count": 8,
   "id": "28df4525-0537-4ef7-b178-3a2462547e1d",
   "metadata": {
    "execution": {
     "iopub.execute_input": "2022-04-14T01:18:43.769373Z",
     "iopub.status.busy": "2022-04-14T01:18:43.769205Z",
     "iopub.status.idle": "2022-04-14T01:18:43.826253Z",
     "shell.execute_reply": "2022-04-14T01:18:43.825597Z",
     "shell.execute_reply.started": "2022-04-14T01:18:43.769352Z"
    },
    "tags": []
   },
   "outputs": [
    {
     "data": {
      "application/vnd.jupyter.widget-view+json": {
       "model_id": "7d41b48b51ed4762a8639c81020a905b",
       "version_major": 2,
       "version_minor": 0
      },
      "text/plain": [
       "VBox()"
      ]
     },
     "metadata": {},
     "output_type": "display_data"
    },
    {
     "data": {
      "application/vnd.jupyter.widget-view+json": {
       "model_id": "",
       "version_major": 2,
       "version_minor": 0
      },
      "text/plain": [
       "FloatProgress(value=0.0, bar_style='info', description='Progress:', layout=Layout(height='25px', width='50%'),…"
      ]
     },
     "metadata": {},
     "output_type": "display_data"
    },
    {
     "name": "stdout",
     "output_type": "stream",
     "text": [
      "['image']"
     ]
    }
   ],
   "source": [
    "df.columns"
   ]
  }
 ],
 "metadata": {
  "kernelspec": {
   "display_name": "PySpark",
   "language": "",
   "name": "pysparkkernel"
  },
  "language_info": {
   "codemirror_mode": {
    "name": "python",
    "version": 3
   },
   "mimetype": "text/x-python",
   "name": "pyspark",
   "pygments_lexer": "python3"
  }
 },
 "nbformat": 4,
 "nbformat_minor": 5
}
