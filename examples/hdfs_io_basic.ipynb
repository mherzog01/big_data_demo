{
 "cells": [
  {
   "cell_type": "markdown",
   "id": "51f31c96-5db7-485a-a058-084a5212e69d",
   "metadata": {},
   "source": [
    "# Basic HDFS I/O\n",
    "## Create a file in HFS and read it"
   ]
  },
  {
   "cell_type": "code",
   "execution_count": 3,
   "id": "5b5fd7fd-6a57-4a54-826a-6daa1aeac18f",
   "metadata": {
    "execution": {
     "iopub.execute_input": "2022-04-10T19:45:53.095426Z",
     "iopub.status.busy": "2022-04-10T19:45:53.095206Z",
     "iopub.status.idle": "2022-04-10T19:45:54.752308Z",
     "shell.execute_reply": "2022-04-10T19:45:54.751618Z",
     "shell.execute_reply.started": "2022-04-10T19:45:53.095403Z"
    },
    "tags": []
   },
   "outputs": [
    {
     "name": "stdout",
     "output_type": "stream",
     "text": [
      "/\n",
      "uid=1001(emr-notebook) gid=1002(emr-notebook) groups=1002(emr-notebook)\n",
      "1649603768116-0\n",
      "1649613934157-0\n",
      "1649619930752-0\n",
      "7364206898285743039\n",
      "9159638157252293808\n",
      "blockmgr-1d2eda59-3add-45be-9f4e-a41c09f54364\n",
      "blockmgr-8b6f17c6-e79d-4102-ab1b-89a0d5103bcc\n",
      "blockmgr-afb318d2-8ab9-487c-85a4-c26a022387f4\n",
      "hadoop-hdfs-namenode.pid\n",
      "hadoop-state-pusher.config\n",
      "hadoop-yarn-yarn\n",
      "hsperfdata_emr-notebook\n",
      "hsperfdata_hadoop\n",
      "hsperfdata_hdfs\n",
      "hsperfdata_kms\n",
      "hsperfdata_livy\n",
      "hsperfdata_mapred\n",
      "hsperfdata_root\n",
      "hsperfdata_spark\n",
      "hsperfdata_yarn\n",
      "jetty-172_31_17_183-8088-_-any-69188706602102375.dir\n",
      "jetty-ip-172-31-17-183_us-east-2_compute_internal-19888-_-any-6943295675471287217.dir\n",
      "jetty-ip-172-31-17-183_us-east-2_compute_internal-20888-_-any-8390878317201690973.dir\n",
      "jetty-ip-172-31-17-183_us-east-2_compute_internal-8188-_-any-6445470360603456709.dir\n",
      "jetty-ip-172-31-17-183_us-east-2_compute_internal-9870-hdfs-_-any-7253595740607422041.dir\n",
      "libleveldbjni-64-1-8583846394274074828.8\n",
      "livyConf4245343821730698715.properties\n",
      "livyConf7006776870520538895.properties\n",
      "motd.N8JGJ\n",
      "motd.TEDcn\n",
      "motd.part2076d\n",
      "motd.partexyef\n",
      "puppet_bigtop_file_merge\n",
      "rsc-tmp3502039846952415098\n",
      "rsc-tmp3527869582891018777\n",
      "spark-0c42dce7-4900-420d-8c2c-481c5d24c7cb\n",
      "spark-2194e2a9-f8d8-4a92-ad72-f863119f3001\n",
      "spark-301c6611-7099-497e-a7de-536a9b831843\n",
      "spark-56bda578-da05-4402-87d0-90dd7dec3a37\n",
      "spark-9fa0a216-d867-4f5d-8574-2cb94df37eb6\n",
      "spark-f6e2c436-cf9b-420d-9289-7cec5a648962\n",
      "spark2043899607001933071\n",
      "spark2837463092816747786\n",
      "spark6174826954344630031\n",
      "systemd-private-af87a7fbe0bf492cb2a5fd5b08105c5c-chronyd.service-4o7y8v\n",
      "systemd-private-af87a7fbe0bf492cb2a5fd5b08105c5c-httpd.service-jHJMD5\n",
      "systemd-private-af87a7fbe0bf492cb2a5fd5b08105c5c-nginx.service-7Sm78j\n",
      "tmp60t6k80m\n",
      "tmpa84_bbgb\n",
      "Hadoop:\n",
      "Found 5 items\n",
      "-rw-r--r--   1 emr-notebook hdfsadmingroup         29 2022-04-10 15:48 /tmp/date.txt\n",
      "drwxrwxrwt   - yarn         hdfsadmingroup          0 2022-04-10 15:07 /tmp/entity-file-history\n",
      "drwxrwxrwx   - mapred       mapred                  0 2022-04-10 15:06 /tmp/hadoop-yarn\n",
      "-rw-r--r--   1 livy         hdfsadmingroup         29 2022-04-10 19:00 /tmp/test2.txt\n",
      "-rw-r--r--   1 livy         hdfsadmingroup          0 2022-04-10 18:18 /tmp/test_hdfs.txt\n"
     ]
    },
    {
     "name": "stderr",
     "output_type": "stream",
     "text": [
      "SLF4J: Class path contains multiple SLF4J bindings.\n",
      "SLF4J: Found binding in [jar:file:/usr/lib/hadoop/lib/slf4j-log4j12-1.7.25.jar!/org/slf4j/impl/StaticLoggerBinder.class]\n",
      "SLF4J: Found binding in [jar:file:/usr/share/aws/emr/emrfs/lib/slf4j-log4j12-1.7.12.jar!/org/slf4j/impl/StaticLoggerBinder.class]\n",
      "SLF4J: See http://www.slf4j.org/codes.html#multiple_bindings for an explanation.\n",
      "SLF4J: Actual binding is of type [org.slf4j.impl.Log4jLoggerFactory]\n"
     ]
    }
   ],
   "source": [
    "%%bash\n",
    "pwd\n",
    "id\n",
    "ls /tmp\n",
    "echo \"Hadoop:\"\n",
    "export JAVA_HOME=/etc/alternatives/jre\n",
    "hadoop fs -ls /tmp"
   ]
  },
  {
   "cell_type": "code",
   "execution_count": 5,
   "id": "e42333de-f80f-4f00-a14a-b8884c780caa",
   "metadata": {
    "execution": {
     "iopub.execute_input": "2022-04-10T19:46:14.683272Z",
     "iopub.status.busy": "2022-04-10T19:46:14.682933Z",
     "iopub.status.idle": "2022-04-10T19:46:16.718476Z",
     "shell.execute_reply": "2022-04-10T19:46:16.717749Z",
     "shell.execute_reply.started": "2022-04-10T19:46:14.683228Z"
    },
    "tags": []
   },
   "outputs": [
    {
     "name": "stderr",
     "output_type": "stream",
     "text": [
      "SLF4J: Class path contains multiple SLF4J bindings.\n",
      "SLF4J: Found binding in [jar:file:/usr/lib/hadoop/lib/slf4j-log4j12-1.7.25.jar!/org/slf4j/impl/StaticLoggerBinder.class]\n",
      "SLF4J: Found binding in [jar:file:/usr/share/aws/emr/emrfs/lib/slf4j-log4j12-1.7.12.jar!/org/slf4j/impl/StaticLoggerBinder.class]\n",
      "SLF4J: See http://www.slf4j.org/codes.html#multiple_bindings for an explanation.\n",
      "SLF4J: Actual binding is of type [org.slf4j.impl.Log4jLoggerFactory]\n"
     ]
    }
   ],
   "source": [
    "%%bash\n",
    "date > /tmp/date.txt\n",
    "export JAVA_HOME=/etc/alternatives/jre\n",
    "hadoop fs -put -f /tmp/date.txt /tmp/date.txt\n",
    "\n",
    "# TODO Determine a method of doing this without shelling out"
   ]
  },
  {
   "cell_type": "code",
   "execution_count": 6,
   "id": "71666cec-a98e-46d5-8db7-9f36dc27bc6f",
   "metadata": {
    "execution": {
     "iopub.execute_input": "2022-04-10T19:46:19.862736Z",
     "iopub.status.busy": "2022-04-10T19:46:19.862508Z",
     "iopub.status.idle": "2022-04-10T19:46:25.215202Z",
     "shell.execute_reply": "2022-04-10T19:46:25.214655Z",
     "shell.execute_reply.started": "2022-04-10T19:46:19.862709Z"
    },
    "tags": []
   },
   "outputs": [
    {
     "data": {
      "application/vnd.jupyter.widget-view+json": {
       "model_id": "d6d64c8c64bc4d33b88d6cba02a394d8",
       "version_major": 2,
       "version_minor": 0
      },
      "text/plain": [
       "VBox()"
      ]
     },
     "metadata": {},
     "output_type": "display_data"
    },
    {
     "data": {
      "application/vnd.jupyter.widget-view+json": {
       "model_id": "",
       "version_major": 2,
       "version_minor": 0
      },
      "text/plain": [
       "FloatProgress(value=0.0, bar_style='info', description='Progress:', layout=Layout(height='25px', width='50%'),…"
      ]
     },
     "metadata": {},
     "output_type": "display_data"
    },
    {
     "name": "stdout",
     "output_type": "stream",
     "text": [
      "Row(value='Sun Apr 10 19:46:14 UTC 2022')"
     ]
    }
   ],
   "source": [
    "# From https://spark.apache.org/docs/latest/quick-start.html\n",
    "textFile = spark.read.text(\"/tmp/date.txt\")\n",
    "textFile.first()"
   ]
  }
 ],
 "metadata": {
  "kernelspec": {
   "display_name": "PySpark",
   "language": "",
   "name": "pysparkkernel"
  },
  "language_info": {
   "codemirror_mode": {
    "name": "python",
    "version": 3
   },
   "mimetype": "text/x-python",
   "name": "pyspark",
   "pygments_lexer": "python3"
  }
 },
 "nbformat": 4,
 "nbformat_minor": 5
}
