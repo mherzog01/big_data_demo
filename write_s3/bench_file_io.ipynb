{
 "cells": [
  {
   "attachments": {},
   "cell_type": "markdown",
   "metadata": {},
   "source": [
    "# Benchmark File IO\n",
    "\n",
    "Objective:  Write 1 TB to S3\n",
    "\n",
    "Assume:\n",
    "1.  Python container is created\n",
    "```\n",
    "        ./run_tmp.sh\n",
    "```\n",
    "2.  AWS CLI is installed per https://docs.aws.amazon.com/cli/latest/userguide/getting-started-install.html\n",
    "```\n",
    "        curl \"https://awscli.amazonaws.com/awscli-exe-linux-x86_64.zip\" -o \"awscliv2.zip\"\n",
    "        unzip awscliv2.zip\n",
    "        #sudo ./aws/install\n",
    "        ./aws/install\n",
    "```\n",
    "3.  Jupyter installed in container\n",
    "```\n",
    "        pip install --upgrade pip\n",
    "        pip install jupyter\n",
    "```\n",
    "4.  Install boto3\n",
    "```\n",
    "        pip install boto3\n",
    "```\n",
    "```\n",
    "#4.  Run jupyter:\n",
    "#        jupyter server --allow-root\n",
    "```\n"
   ]
  },
  {
   "cell_type": "code",
   "execution_count": 1,
   "metadata": {},
   "outputs": [],
   "source": [
    "import boto3"
   ]
  },
  {
   "cell_type": "code",
   "execution_count": 2,
   "metadata": {},
   "outputs": [],
   "source": [
    "s3_client = boto3.client('s3')\n",
    "s3 = boto3.resource('s3')"
   ]
  },
  {
   "cell_type": "code",
   "execution_count": 3,
   "metadata": {},
   "outputs": [],
   "source": [
    "BUCKET='herzog01-244438664486'\n",
    "bucket = s3.Bucket(BUCKET)"
   ]
  },
  {
   "cell_type": "code",
   "execution_count": 18,
   "metadata": {},
   "outputs": [
    {
     "name": "stdout",
     "output_type": "stream",
     "text": [
      "Creating bucket herzog01-244438664486\n"
     ]
    }
   ],
   "source": [
    "response = s3_client.list_buckets()\n",
    "bucket_names = [b['Name'] for b in response['Buckets']]\n",
    "\n",
    "#!aws s3 mb s3://{BUCKET}\n",
    "if not BUCKET in bucket_names:\n",
    "    print(f'Creating bucket {BUCKET}')\n",
    "    bucket.create()\n",
    "else:\n",
    "    print(f'Bucket {BUCKET} already exists')"
   ]
  },
  {
   "attachments": {},
   "cell_type": "markdown",
   "metadata": {},
   "source": [
    "Create data"
   ]
  },
  {
   "cell_type": "code",
   "execution_count": 5,
   "metadata": {},
   "outputs": [],
   "source": [
    "data_size = 10**9   #1 GB\n",
    "data = b'a' * data_size"
   ]
  },
  {
   "attachments": {},
   "cell_type": "markdown",
   "metadata": {},
   "source": [
    "Write to bucket"
   ]
  },
  {
   "cell_type": "code",
   "execution_count": 19,
   "metadata": {},
   "outputs": [
    {
     "name": "stdout",
     "output_type": "stream",
     "text": [
      "0\n",
      "1\n",
      "2\n",
      "3\n",
      "4\n"
     ]
    }
   ],
   "source": [
    "import boto3\n",
    "#num_files = 10**3\n",
    "num_files = 5\n",
    "for i in range(num_files):\n",
    "    print(i)\n",
    "    bucket.put_object(Body=data, Key=f'data{i}.txt')\n"
   ]
  },
  {
   "cell_type": "code",
   "execution_count": 20,
   "metadata": {},
   "outputs": [
    {
     "name": "stdout",
     "output_type": "stream",
     "text": [
      "data0.txt\n",
      "data1.txt\n",
      "data2.txt\n",
      "data3.txt\n",
      "data4.txt\n"
     ]
    }
   ],
   "source": [
    "for o in bucket.objects.all():\n",
    "    print(o.key)"
   ]
  },
  {
   "cell_type": "code",
   "execution_count": 21,
   "metadata": {},
   "outputs": [
    {
     "data": {
      "text/plain": [
       "{'ResponseMetadata': {'RequestId': 'FQBKSWP3VX2CPVH3',\n",
       "  'HostId': 'XpnMcVVoECWG3jo3X9uhJg1Xz9qwBlMci7hAD+Hz/HDT4NplwYBigsQHoyMPAimYx9EZO1Q52IXELNbxEh9sFQ==',\n",
       "  'HTTPStatusCode': 204,\n",
       "  'HTTPHeaders': {'x-amz-id-2': 'XpnMcVVoECWG3jo3X9uhJg1Xz9qwBlMci7hAD+Hz/HDT4NplwYBigsQHoyMPAimYx9EZO1Q52IXELNbxEh9sFQ==',\n",
       "   'x-amz-request-id': 'FQBKSWP3VX2CPVH3',\n",
       "   'date': 'Mon, 06 Mar 2023 05:24:56 GMT',\n",
       "   'server': 'AmazonS3'},\n",
       "  'RetryAttempts': 0}}"
      ]
     },
     "execution_count": 21,
     "metadata": {},
     "output_type": "execute_result"
    }
   ],
   "source": [
    "# https://stackoverflow.com/questions/43326493/what-is-the-fastest-way-to-empty-s3-bucket-using-boto3\n",
    "bucket.objects.all().delete()\n",
    "bucket.delete()"
   ]
  }
 ],
 "metadata": {
  "kernelspec": {
   "display_name": "Python 3 (ipykernel)",
   "language": "python",
   "name": "python3"
  },
  "language_info": {
   "codemirror_mode": {
    "name": "ipython",
    "version": 3
   },
   "file_extension": ".py",
   "mimetype": "text/x-python",
   "name": "python",
   "nbconvert_exporter": "python",
   "pygments_lexer": "ipython3",
   "version": "3.11.2"
  },
  "orig_nbformat": 4,
  "vscode": {
   "interpreter": {
    "hash": "31f2aee4e71d21fbe5cf8b01ff0e069b9275f58929596ceb00d14d90e3e16cd6"
   }
  }
 },
 "nbformat": 4,
 "nbformat_minor": 2
}
