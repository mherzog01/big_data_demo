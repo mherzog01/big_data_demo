{
 "cells": [
  {
   "cell_type": "markdown",
   "id": "140a69ef-22f8-4968-adb1-05f099835bff",
   "metadata": {},
   "source": [
    "# Spark Streaming\n",
    "\n",
    "Generate a stream of data by listing an s3 bucket.  Count the files and the file sizes.\n",
    "\n",
    "Modeled after https://spark.apache.org/docs/latest/streaming-programming-guide.html#a-quick-example"
   ]
  },
  {
   "cell_type": "code",
   "execution_count": 1,
   "id": "e926d4f9-5a9b-4fb2-92cb-f8f5c7d9af77",
   "metadata": {
    "execution": {
     "iopub.execute_input": "2022-04-15T00:41:04.900510Z",
     "iopub.status.busy": "2022-04-15T00:41:04.900249Z",
     "iopub.status.idle": "2022-04-15T00:41:32.984270Z",
     "shell.execute_reply": "2022-04-15T00:41:32.983602Z",
     "shell.execute_reply.started": "2022-04-15T00:41:04.900480Z"
    },
    "tags": []
   },
   "outputs": [
    {
     "data": {
      "application/vnd.jupyter.widget-view+json": {
       "model_id": "c730c0875f034a3c9de2e49b3b496766",
       "version_major": 2,
       "version_minor": 0
      },
      "text/plain": [
       "VBox()"
      ]
     },
     "metadata": {},
     "output_type": "display_data"
    },
    {
     "name": "stdout",
     "output_type": "stream",
     "text": [
      "Starting Spark application\n"
     ]
    },
    {
     "data": {
      "text/html": [
       "<table>\n",
       "<tr><th>ID</th><th>YARN Application ID</th><th>Kind</th><th>State</th><th>Spark UI</th><th>Driver log</th><th>Current session?</th></tr><tr><td>0</td><td>application_1649969645875_0002</td><td>pyspark</td><td>idle</td><td><a target=\"_blank\" href=\"http://ip-172-31-28-40.us-east-2.compute.internal:20888/proxy/application_1649969645875_0002/\" class=\"emr-proxy-link\" emr-resource=\"j-18N2KGASSEK9L\n",
       "\" application-id=\"application_1649969645875_0002\">Link</a></td><td><a target=\"_blank\" href=\"http://ip-172-31-25-241.us-east-2.compute.internal:8042/node/containerlogs/container_1649969645875_0002_01_000001/livy\" >Link</a></td><td>✔</td></tr></table>"
      ],
      "text/plain": [
       "<IPython.core.display.HTML object>"
      ]
     },
     "metadata": {},
     "output_type": "display_data"
    },
    {
     "data": {
      "application/vnd.jupyter.widget-view+json": {
       "model_id": "",
       "version_major": 2,
       "version_minor": 0
      },
      "text/plain": [
       "FloatProgress(value=0.0, bar_style='info', description='Progress:', layout=Layout(height='25px', width='50%'),…"
      ]
     },
     "metadata": {},
     "output_type": "display_data"
    },
    {
     "name": "stdout",
     "output_type": "stream",
     "text": [
      "SparkSession available as 'spark'.\n"
     ]
    },
    {
     "data": {
      "application/vnd.jupyter.widget-view+json": {
       "model_id": "",
       "version_major": 2,
       "version_minor": 0
      },
      "text/plain": [
       "FloatProgress(value=0.0, bar_style='info', description='Progress:', layout=Layout(height='25px', width='50%'),…"
      ]
     },
     "metadata": {},
     "output_type": "display_data"
    }
   ],
   "source": [
    "\"\"\"\n",
    " Sums file size and counts number of files received from the network every second.\n",
    " \n",
    " Usage: network_wordcount.py <hostname> <port>\n",
    "   <hostname> and <port> describe the TCP server that Spark Streaming would connect to receive data.\n",
    " To run this on your local machine, you need to first run a Netcat server\n",
    "    `$ nc -lk 9999`\n",
    " and then run the example\n",
    "    `$ bin/spark-submit examples/src/main/python/streaming/network_wordcount.py localhost 9999`\n",
    "\"\"\"\n",
    "import sys\n",
    "\n",
    "from pyspark import SparkContext\n",
    "from pyspark.streaming import StreamingContext"
   ]
  },
  {
   "cell_type": "code",
   "execution_count": 3,
   "id": "7951f6b9-9438-4c26-9489-f36510a37272",
   "metadata": {
    "execution": {
     "iopub.execute_input": "2022-04-15T00:42:18.639786Z",
     "iopub.status.busy": "2022-04-15T00:42:18.639549Z",
     "iopub.status.idle": "2022-04-15T00:42:18.714782Z",
     "shell.execute_reply": "2022-04-15T00:42:18.714110Z",
     "shell.execute_reply.started": "2022-04-15T00:42:18.639748Z"
    },
    "tags": []
   },
   "outputs": [
    {
     "data": {
      "application/vnd.jupyter.widget-view+json": {
       "model_id": "bdd7c832d49240f087a5ed995c808919",
       "version_major": 2,
       "version_minor": 0
      },
      "text/plain": [
       "VBox()"
      ]
     },
     "metadata": {},
     "output_type": "display_data"
    },
    {
     "data": {
      "application/vnd.jupyter.widget-view+json": {
       "model_id": "",
       "version_major": 2,
       "version_minor": 0
      },
      "text/plain": [
       "FloatProgress(value=0.0, bar_style='info', description='Progress:', layout=Layout(height='25px', width='50%'),…"
      ]
     },
     "metadata": {},
     "output_type": "display_data"
    }
   ],
   "source": [
    "hostname = 'localhost'\n",
    "port = 9999"
   ]
  },
  {
   "cell_type": "code",
   "execution_count": null,
   "id": "c597770c-981c-45cd-a586-db07b0e5bc43",
   "metadata": {},
   "outputs": [],
   "source": [
    "sc = SparkContext(appName=\"PythonStreamingGetFileSize\")\n",
    "ssc = StreamingContext(sc, 1)\n",
    "\n",
    "lines = ssc.socketTextStream(hostname, int(port))\n",
    "counts = lines.flatMap(lambda line: line.split(\" \"))\\\n",
    "              .map(lambda word: (word, 1))\\\n",
    "              .reduceByKey(lambda a, b: a+b)\n",
    "counts.pprint()\n",
    "\n",
    "ssc.start()\n",
    "ssc.awaitTermination()"
   ]
  }
 ],
 "metadata": {
  "kernelspec": {
   "display_name": "PySpark",
   "language": "",
   "name": "pysparkkernel"
  },
  "language_info": {
   "codemirror_mode": {
    "name": "python",
    "version": 3
   },
   "mimetype": "text/x-python",
   "name": "pyspark",
   "pygments_lexer": "python3"
  }
 },
 "nbformat": 4,
 "nbformat_minor": 5
}
