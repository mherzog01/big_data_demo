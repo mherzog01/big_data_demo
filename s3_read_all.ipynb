{
 "cells": [
  {
   "cell_type": "markdown",
   "id": "40d33410-af8a-44d0-a481-87133cad26f8",
   "metadata": {},
   "source": [
    "# Accessing many files in S3 via PySpark"
   ]
  },
  {
   "cell_type": "markdown",
   "id": "76a17bb5-2da7-4244-a3ba-aef0546c2b04",
   "metadata": {},
   "source": [
    "Assume that we are using the PySpark kernel"
   ]
  },
  {
   "cell_type": "markdown",
   "id": "3a22f229-e8f7-40a8-a392-9c3cf6b82b52",
   "metadata": {},
   "source": [
    "## Read files recursively"
   ]
  },
  {
   "cell_type": "code",
   "execution_count": 1,
   "id": "e93621ae-b94b-4f88-8e13-eb6016488463",
   "metadata": {
    "execution": {
     "iopub.execute_input": "2022-04-12T01:27:54.264889Z",
     "iopub.status.busy": "2022-04-12T01:27:54.264659Z",
     "iopub.status.idle": "2022-04-12T01:29:00.323600Z",
     "shell.execute_reply": "2022-04-12T01:29:00.322966Z",
     "shell.execute_reply.started": "2022-04-12T01:27:54.264863Z"
    },
    "tags": []
   },
   "outputs": [
    {
     "data": {
      "application/vnd.jupyter.widget-view+json": {
       "model_id": "523e652edcfa47a0a9f6a9ff6c909489",
       "version_major": 2,
       "version_minor": 0
      },
      "text/plain": [
       "VBox()"
      ]
     },
     "metadata": {},
     "output_type": "display_data"
    },
    {
     "name": "stdout",
     "output_type": "stream",
     "text": [
      "Starting Spark application\n"
     ]
    },
    {
     "data": {
      "text/html": [
       "<table>\n",
       "<tr><th>ID</th><th>YARN Application ID</th><th>Kind</th><th>State</th><th>Spark UI</th><th>Driver log</th><th>Current session?</th></tr><tr><td>4</td><td>application_1649720336762_0006</td><td>pyspark</td><td>idle</td><td><a target=\"_blank\" href=\"http://ip-172-31-28-144.us-east-2.compute.internal:20888/proxy/application_1649720336762_0006/\" class=\"emr-proxy-link\" emr-resource=\"j-2XRR1PT1G2JB3\n",
       "\" application-id=\"application_1649720336762_0006\">Link</a></td><td><a target=\"_blank\" href=\"http://ip-172-31-21-2.us-east-2.compute.internal:8042/node/containerlogs/container_1649720336762_0006_01_000001/livy\" >Link</a></td><td>✔</td></tr></table>"
      ],
      "text/plain": [
       "<IPython.core.display.HTML object>"
      ]
     },
     "metadata": {},
     "output_type": "display_data"
    },
    {
     "data": {
      "application/vnd.jupyter.widget-view+json": {
       "model_id": "",
       "version_major": 2,
       "version_minor": 0
      },
      "text/plain": [
       "FloatProgress(value=0.0, bar_style='info', description='Progress:', layout=Layout(height='25px', width='50%'),…"
      ]
     },
     "metadata": {},
     "output_type": "display_data"
    },
    {
     "name": "stdout",
     "output_type": "stream",
     "text": [
      "SparkSession available as 'spark'.\n"
     ]
    },
    {
     "data": {
      "application/vnd.jupyter.widget-view+json": {
       "model_id": "",
       "version_major": 2,
       "version_minor": 0
      },
      "text/plain": [
       "FloatProgress(value=0.0, bar_style='info', description='Progress:', layout=Layout(height='25px', width='50%'),…"
      ]
     },
     "metadata": {},
     "output_type": "display_data"
    }
   ],
   "source": [
    "# https://sparkbyexamples.com/spark/spark-read-binary-file-into-dataframe/\n",
    "#df = spark.read.format(\"image\").load(\"s3://multimedia-commons/data/images/000/\")\n",
    "df = spark.read.format(\"image\").option(\"recursiveFileLookup\", True).load(\"s3://multimedia-commons/data/images/00*\")"
   ]
  },
  {
   "cell_type": "code",
   "execution_count": 2,
   "id": "49a2b45f-e4b4-4ea1-853a-2f7bb5cfd5ae",
   "metadata": {
    "execution": {
     "iopub.execute_input": "2022-04-12T01:29:00.325036Z",
     "iopub.status.busy": "2022-04-12T01:29:00.324766Z",
     "iopub.status.idle": "2022-04-12T01:29:00.599137Z",
     "shell.execute_reply": "2022-04-12T01:29:00.598442Z",
     "shell.execute_reply.started": "2022-04-12T01:29:00.325002Z"
    },
    "tags": []
   },
   "outputs": [
    {
     "data": {
      "application/vnd.jupyter.widget-view+json": {
       "model_id": "7b8ff1ebd5ea49848e407608c2457dd4",
       "version_major": 2,
       "version_minor": 0
      },
      "text/plain": [
       "VBox()"
      ]
     },
     "metadata": {},
     "output_type": "display_data"
    },
    {
     "data": {
      "application/vnd.jupyter.widget-view+json": {
       "model_id": "",
       "version_major": 2,
       "version_minor": 0
      },
      "text/plain": [
       "FloatProgress(value=0.0, bar_style='info', description='Progress:', layout=Layout(height='25px', width='50%'),…"
      ]
     },
     "metadata": {},
     "output_type": "display_data"
    },
    {
     "name": "stdout",
     "output_type": "stream",
     "text": [
      "root\n",
      " |-- image: struct (nullable = true)\n",
      " |    |-- origin: string (nullable = true)\n",
      " |    |-- height: integer (nullable = true)\n",
      " |    |-- width: integer (nullable = true)\n",
      " |    |-- nChannels: integer (nullable = true)\n",
      " |    |-- mode: integer (nullable = true)\n",
      " |    |-- data: binary (nullable = true)"
     ]
    }
   ],
   "source": [
    "df.printSchema()"
   ]
  },
  {
   "cell_type": "code",
   "execution_count": 3,
   "id": "70cf9bbd-4d5b-461e-9282-e7c32b7885f5",
   "metadata": {
    "execution": {
     "iopub.execute_input": "2022-04-12T01:29:00.600442Z",
     "iopub.status.busy": "2022-04-12T01:29:00.600264Z",
     "iopub.status.idle": "2022-04-12T01:29:18.189832Z",
     "shell.execute_reply": "2022-04-12T01:29:18.188955Z",
     "shell.execute_reply.started": "2022-04-12T01:29:00.600420Z"
    },
    "tags": []
   },
   "outputs": [
    {
     "data": {
      "application/vnd.jupyter.widget-view+json": {
       "model_id": "6f4732bc56be40428ad7d008afed3558",
       "version_major": 2,
       "version_minor": 0
      },
      "text/plain": [
       "VBox()"
      ]
     },
     "metadata": {},
     "output_type": "display_data"
    },
    {
     "data": {
      "application/vnd.jupyter.widget-view+json": {
       "model_id": "",
       "version_major": 2,
       "version_minor": 0
      },
      "text/plain": [
       "FloatProgress(value=0.0, bar_style='info', description='Progress:', layout=Layout(height='25px', width='50%'),…"
      ]
     },
     "metadata": {},
     "output_type": "display_data"
    },
    {
     "name": "stdout",
     "output_type": "stream",
     "text": [
      "+--------------------+\n",
      "|               image|\n",
      "+--------------------+\n",
      "|{s3://multimedia-...|\n",
      "|{s3://multimedia-...|\n",
      "|{s3://multimedia-...|\n",
      "|{s3://multimedia-...|\n",
      "|{s3://multimedia-...|\n",
      "|{s3://multimedia-...|\n",
      "|{s3://multimedia-...|\n",
      "|{s3://multimedia-...|\n",
      "|{s3://multimedia-...|\n",
      "|{s3://multimedia-...|\n",
      "|{s3://multimedia-...|\n",
      "|{s3://multimedia-...|\n",
      "|{s3://multimedia-...|\n",
      "|{s3://multimedia-...|\n",
      "|{s3://multimedia-...|\n",
      "|{s3://multimedia-...|\n",
      "|{s3://multimedia-...|\n",
      "|{s3://multimedia-...|\n",
      "|{s3://multimedia-...|\n",
      "|{s3://multimedia-...|\n",
      "+--------------------+\n",
      "only showing top 20 rows"
     ]
    }
   ],
   "source": [
    "df.show()"
   ]
  },
  {
   "cell_type": "code",
   "execution_count": 4,
   "id": "facaf944-c50a-471c-9b63-a88fa60801d8",
   "metadata": {
    "execution": {
     "iopub.execute_input": "2022-04-12T01:29:18.191989Z",
     "iopub.status.busy": "2022-04-12T01:29:18.191724Z",
     "iopub.status.idle": "2022-04-12T01:29:20.495091Z",
     "shell.execute_reply": "2022-04-12T01:29:20.494337Z",
     "shell.execute_reply.started": "2022-04-12T01:29:18.191955Z"
    },
    "tags": []
   },
   "outputs": [
    {
     "data": {
      "application/vnd.jupyter.widget-view+json": {
       "model_id": "0c98078a901a4056b33173933cdb5c1a",
       "version_major": 2,
       "version_minor": 0
      },
      "text/plain": [
       "VBox()"
      ]
     },
     "metadata": {},
     "output_type": "display_data"
    },
    {
     "data": {
      "application/vnd.jupyter.widget-view+json": {
       "model_id": "",
       "version_major": 2,
       "version_minor": 0
      },
      "text/plain": [
       "FloatProgress(value=0.0, bar_style='info', description='Progress:', layout=Layout(height='25px', width='50%'),…"
      ]
     },
     "metadata": {},
     "output_type": "display_data"
    },
    {
     "name": "stdout",
     "output_type": "stream",
     "text": [
      "1501"
     ]
    }
   ],
   "source": [
    "df.count()"
   ]
  },
  {
   "cell_type": "code",
   "execution_count": 5,
   "id": "f322fecf-fffb-425a-ae53-4a16ce019877",
   "metadata": {
    "execution": {
     "iopub.execute_input": "2022-04-12T01:29:20.496557Z",
     "iopub.status.busy": "2022-04-12T01:29:20.496116Z",
     "iopub.status.idle": "2022-04-12T01:31:04.425407Z",
     "shell.execute_reply": "2022-04-12T01:31:04.424793Z",
     "shell.execute_reply.started": "2022-04-12T01:29:20.496515Z"
    },
    "tags": []
   },
   "outputs": [
    {
     "data": {
      "application/vnd.jupyter.widget-view+json": {
       "model_id": "f13ba4e246f84ec88447412e97448eae",
       "version_major": 2,
       "version_minor": 0
      },
      "text/plain": [
       "VBox()"
      ]
     },
     "metadata": {},
     "output_type": "display_data"
    },
    {
     "data": {
      "application/vnd.jupyter.widget-view+json": {
       "model_id": "",
       "version_major": 2,
       "version_minor": 0
      },
      "text/plain": [
       "FloatProgress(value=0.0, bar_style='info', description='Progress:', layout=Layout(height='25px', width='50%'),…"
      ]
     },
     "metadata": {},
     "output_type": "display_data"
    }
   ],
   "source": [
    "rows = df.select('image').collect()\n",
    "# for i in rows:\n",
    "#     print()\n",
    "#     break\n",
    "i = rows[0]"
   ]
  },
  {
   "cell_type": "code",
   "execution_count": 6,
   "id": "0493b69d-fb40-4fc4-bd8c-055587bf5f8b",
   "metadata": {
    "execution": {
     "iopub.execute_input": "2022-04-12T01:31:04.426524Z",
     "iopub.status.busy": "2022-04-12T01:31:04.426341Z",
     "iopub.status.idle": "2022-04-12T01:31:04.483179Z",
     "shell.execute_reply": "2022-04-12T01:31:04.482577Z",
     "shell.execute_reply.started": "2022-04-12T01:31:04.426502Z"
    },
    "tags": []
   },
   "outputs": [
    {
     "data": {
      "application/vnd.jupyter.widget-view+json": {
       "model_id": "e1514e90d1a1407b81a4803cb83fae28",
       "version_major": 2,
       "version_minor": 0
      },
      "text/plain": [
       "VBox()"
      ]
     },
     "metadata": {},
     "output_type": "display_data"
    },
    {
     "data": {
      "application/vnd.jupyter.widget-view+json": {
       "model_id": "",
       "version_major": 2,
       "version_minor": 0
      },
      "text/plain": [
       "FloatProgress(value=0.0, bar_style='info', description='Progress:', layout=Layout(height='25px', width='50%'),…"
      ]
     },
     "metadata": {},
     "output_type": "display_data"
    }
   ],
   "source": [
    "img_df = i['image']\n",
    "img = img_df['data']"
   ]
  },
  {
   "cell_type": "code",
   "execution_count": 7,
   "id": "3ef759be-9add-4263-8bf1-381f16061847",
   "metadata": {
    "execution": {
     "iopub.execute_input": "2022-04-12T01:31:04.484229Z",
     "iopub.status.busy": "2022-04-12T01:31:04.484053Z",
     "iopub.status.idle": "2022-04-12T01:31:04.536872Z",
     "shell.execute_reply": "2022-04-12T01:31:04.536313Z",
     "shell.execute_reply.started": "2022-04-12T01:31:04.484208Z"
    },
    "tags": []
   },
   "outputs": [
    {
     "data": {
      "application/vnd.jupyter.widget-view+json": {
       "model_id": "ef07a6c345ef41a8a35011c0559c67d7",
       "version_major": 2,
       "version_minor": 0
      },
      "text/plain": [
       "VBox()"
      ]
     },
     "metadata": {},
     "output_type": "display_data"
    },
    {
     "data": {
      "application/vnd.jupyter.widget-view+json": {
       "model_id": "",
       "version_major": 2,
       "version_minor": 0
      },
      "text/plain": [
       "FloatProgress(value=0.0, bar_style='info', description='Progress:', layout=Layout(height='25px', width='50%'),…"
      ]
     },
     "metadata": {},
     "output_type": "display_data"
    }
   ],
   "source": [
    "h = img_df['height']\n",
    "w = img_df['width']"
   ]
  },
  {
   "cell_type": "code",
   "execution_count": 8,
   "id": "b4a58cc6-5d0c-4149-947f-094c896fbc14",
   "metadata": {
    "execution": {
     "iopub.execute_input": "2022-04-12T01:31:04.538578Z",
     "iopub.status.busy": "2022-04-12T01:31:04.538407Z",
     "iopub.status.idle": "2022-04-12T01:31:04.605238Z",
     "shell.execute_reply": "2022-04-12T01:31:04.604537Z",
     "shell.execute_reply.started": "2022-04-12T01:31:04.538556Z"
    },
    "tags": []
   },
   "outputs": [
    {
     "data": {
      "application/vnd.jupyter.widget-view+json": {
       "model_id": "f53c6cf633d144fcad10edb5418f06bb",
       "version_major": 2,
       "version_minor": 0
      },
      "text/plain": [
       "VBox()"
      ]
     },
     "metadata": {},
     "output_type": "display_data"
    },
    {
     "data": {
      "application/vnd.jupyter.widget-view+json": {
       "model_id": "",
       "version_major": 2,
       "version_minor": 0
      },
      "text/plain": [
       "FloatProgress(value=0.0, bar_style='info', description='Progress:', layout=Layout(height='25px', width='50%'),…"
      ]
     },
     "metadata": {},
     "output_type": "display_data"
    }
   ],
   "source": [
    "import numpy as np\n",
    "\n",
    "def img_bytes_to_np(img_bytes):\n",
    "    return np.asarray(img_bytes)"
   ]
  },
  {
   "cell_type": "code",
   "execution_count": 9,
   "id": "b13b6aaf-8804-4743-9fe9-7496d76b3553",
   "metadata": {
    "execution": {
     "iopub.execute_input": "2022-04-12T01:31:04.606895Z",
     "iopub.status.busy": "2022-04-12T01:31:04.606629Z",
     "iopub.status.idle": "2022-04-12T01:31:04.661591Z",
     "shell.execute_reply": "2022-04-12T01:31:04.660965Z",
     "shell.execute_reply.started": "2022-04-12T01:31:04.606860Z"
    },
    "tags": []
   },
   "outputs": [
    {
     "data": {
      "application/vnd.jupyter.widget-view+json": {
       "model_id": "651df1623f2241b1ac384c073ebd642a",
       "version_major": 2,
       "version_minor": 0
      },
      "text/plain": [
       "VBox()"
      ]
     },
     "metadata": {},
     "output_type": "display_data"
    },
    {
     "data": {
      "application/vnd.jupyter.widget-view+json": {
       "model_id": "",
       "version_major": 2,
       "version_minor": 0
      },
      "text/plain": [
       "FloatProgress(value=0.0, bar_style='info', description='Progress:', layout=Layout(height='25px', width='50%'),…"
      ]
     },
     "metadata": {},
     "output_type": "display_data"
    }
   ],
   "source": [
    "from PIL import Image\n",
    "\n",
    "#img_bytes_to_np(img).shape\n",
    "#img = Image.open(img)\n",
    "#img.show()"
   ]
  },
  {
   "cell_type": "code",
   "execution_count": 10,
   "id": "c2f92bfd-5efc-4055-af2c-c819f3f4cd03",
   "metadata": {
    "execution": {
     "iopub.execute_input": "2022-04-12T01:31:04.662616Z",
     "iopub.status.busy": "2022-04-12T01:31:04.662419Z",
     "iopub.status.idle": "2022-04-12T01:31:04.713973Z",
     "shell.execute_reply": "2022-04-12T01:31:04.713449Z",
     "shell.execute_reply.started": "2022-04-12T01:31:04.662594Z"
    },
    "tags": []
   },
   "outputs": [
    {
     "data": {
      "application/vnd.jupyter.widget-view+json": {
       "model_id": "2504787393e54a39827d8bea935437fd",
       "version_major": 2,
       "version_minor": 0
      },
      "text/plain": [
       "VBox()"
      ]
     },
     "metadata": {},
     "output_type": "display_data"
    },
    {
     "data": {
      "application/vnd.jupyter.widget-view+json": {
       "model_id": "",
       "version_major": 2,
       "version_minor": 0
      },
      "text/plain": [
       "FloatProgress(value=0.0, bar_style='info', description='Progress:', layout=Layout(height='25px', width='50%'),…"
      ]
     },
     "metadata": {},
     "output_type": "display_data"
    }
   ],
   "source": [
    "img_pil = Image.frombytes('RGB', (w,h), bytes(img), 'raw')"
   ]
  },
  {
   "cell_type": "code",
   "execution_count": 11,
   "id": "7ce8d962-9dfc-4f6f-a641-91a6393c49f9",
   "metadata": {
    "execution": {
     "iopub.execute_input": "2022-04-12T01:31:04.714923Z",
     "iopub.status.busy": "2022-04-12T01:31:04.714741Z",
     "iopub.status.idle": "2022-04-12T01:31:04.984792Z",
     "shell.execute_reply": "2022-04-12T01:31:04.984199Z",
     "shell.execute_reply.started": "2022-04-12T01:31:04.714901Z"
    },
    "tags": []
   },
   "outputs": [
    {
     "data": {
      "application/vnd.jupyter.widget-view+json": {
       "model_id": "0e13c2b0aa32421da208e79edc9f5ecf",
       "version_major": 2,
       "version_minor": 0
      },
      "text/plain": [
       "VBox()"
      ]
     },
     "metadata": {},
     "output_type": "display_data"
    },
    {
     "data": {
      "application/vnd.jupyter.widget-view+json": {
       "model_id": "",
       "version_major": 2,
       "version_minor": 0
      },
      "text/plain": [
       "FloatProgress(value=0.0, bar_style='info', description='Progress:', layout=Layout(height='25px', width='50%'),…"
      ]
     },
     "metadata": {},
     "output_type": "display_data"
    },
    {
     "name": "stderr",
     "output_type": "stream",
     "text": [
      "An error was encountered:\n",
      "No module named 'IPython'\n",
      "Traceback (most recent call last):\n",
      "ModuleNotFoundError: No module named 'IPython'\n",
      "\n"
     ]
    }
   ],
   "source": [
    "# TODO Use matplotlib *********************\n",
    "#from IPython.display import display\n",
    "#display(img_pil)\n",
    "#img_pil.show()"
   ]
  },
  {
   "cell_type": "code",
   "execution_count": 19,
   "id": "55cbbee0-e593-4948-90b2-23fd3510621c",
   "metadata": {
    "execution": {
     "iopub.execute_input": "2022-04-12T01:37:01.894302Z",
     "iopub.status.busy": "2022-04-12T01:37:01.894067Z",
     "iopub.status.idle": "2022-04-12T01:39:29.576197Z",
     "shell.execute_reply": "2022-04-12T01:39:29.575444Z",
     "shell.execute_reply.started": "2022-04-12T01:37:01.894276Z"
    },
    "tags": []
   },
   "outputs": [
    {
     "data": {
      "application/vnd.jupyter.widget-view+json": {
       "model_id": "",
       "version_major": 2,
       "version_minor": 0
      },
      "text/plain": [
       "FloatProgress(value=0.0, bar_style='info', description='Progress:', layout=Layout(height='25px', width='50%'),…"
      ]
     },
     "metadata": {},
     "output_type": "display_data"
    },
    {
     "data": {
      "application/vnd.jupyter.widget-view+json": {
       "model_id": "20ee0fcbd9a74c46bc0b2227f4cf9b7f",
       "version_major": 2,
       "version_minor": 0
      },
      "text/plain": [
       "FloatProgress(value=0.0, bar_style='info', description='Progress:', layout=Layout(height='25px', width='50%'),…"
      ]
     },
     "metadata": {},
     "output_type": "display_data"
    },
    {
     "name": "stderr",
     "output_type": "stream",
     "text": [
      "An error was encountered:\n",
      "Invalid status code '400' from http://localhost:8998/sessions/4/statements/21 with error payload: {\"msg\":\"requirement failed: Session isn't active.\"}\n"
     ]
    }
   ],
   "source": [
    "%%pyspark -o df_out\n",
    "df_out = df"
   ]
  },
  {
   "cell_type": "code",
   "execution_count": 15,
   "id": "c09e785c-475c-4af1-a938-91648a8255ed",
   "metadata": {
    "execution": {
     "iopub.execute_input": "2022-04-12T01:33:35.877753Z",
     "iopub.status.busy": "2022-04-12T01:33:35.877505Z",
     "iopub.status.idle": "2022-04-12T01:33:35.883024Z",
     "shell.execute_reply": "2022-04-12T01:33:35.882457Z",
     "shell.execute_reply.started": "2022-04-12T01:33:35.877726Z"
    },
    "tags": []
   },
   "outputs": [
    {
     "data": {
      "text/html": [
       "\n",
       "<table>\n",
       "  <tr>\n",
       "    <th>Magic</th>\n",
       "    <th>Example</th>\n",
       "    <th>Explanation</th>\n",
       "  </tr>\n",
       "  <tr>\n",
       "    <td>info</td>\n",
       "    <td>%%info</td>\n",
       "    <td>Outputs session information for the current Livy endpoint.</td>\n",
       "  </tr>\n",
       "  <tr>\n",
       "    <td>cleanup</td>\n",
       "    <td>%%cleanup -f</td>\n",
       "    <td>Deletes all sessions for the current Livy endpoint, including this notebook's session. The force flag is mandatory.</td>\n",
       "  </tr>\n",
       "  <tr>\n",
       "    <td>delete</td>\n",
       "    <td>%%delete -f -s 0</td>\n",
       "    <td>Deletes a session by number for the current Livy endpoint. Cannot delete this kernel's session.</td>\n",
       "  </tr>\n",
       "  <tr>\n",
       "    <td>logs</td>\n",
       "    <td>%%logs</td>\n",
       "    <td>Outputs the current session's Livy logs.</td>\n",
       "  </tr>\n",
       "  <tr>\n",
       "    <td>configure</td>\n",
       "    <td>%%configure -f<br/>{\"executorMemory\": \"1000M\", \"executorCores\": 4}</td>\n",
       "    <td>Configure the session creation parameters. The force flag is mandatory if a session has already been\n",
       "    created and the session will be dropped and recreated.<br/>Look at <a href=\"https://github.com/cloudera/livy#request-body\">\n",
       "    Livy's POST /sessions Request Body</a> for a list of valid parameters. Parameters must be passed in as a JSON string.</td>\n",
       "  </tr>\n",
       "  <tr>\n",
       "    <td>spark</td>\n",
       "    <td>%%spark -o df<br/>df = spark.read.parquet('...</td>\n",
       "    <td>Executes spark commands.\n",
       "    Parameters:\n",
       "      <ul>\n",
       "        <li>-o VAR_NAME: The Spark dataframe of name VAR_NAME will be available in the %%local Python context as a\n",
       "          <a href=\"http://pandas.pydata.org/\">Pandas</a> dataframe with the same name.</li>\n",
       "        <li>-m METHOD: Sample method, either <tt>take</tt> or <tt>sample</tt>.</li>\n",
       "        <li>-n MAXROWS: The maximum number of rows of a dataframe that will be pulled from Livy to Jupyter.\n",
       "            If this number is negative, then the number of rows will be unlimited.</li>\n",
       "        <li>-r FRACTION: Fraction used for sampling.</li>\n",
       "      </ul>\n",
       "    </td>\n",
       "  </tr>\n",
       "  <tr>\n",
       "    <td>display</td>\n",
       "    <td>%%display -n 100<br/>my_spark_df</td>\n",
       "    <td>Displays Spark dataframe as a beautiful HTML table with horizontal and vertical scroll bars(if necessary).\n",
       "    Parameters:\n",
       "      <ul>\n",
       "        <li>-m METHOD: Sample method, either <tt>take</tt> or <tt>sample</tt>.</li>\n",
       "        <li>-n MAXROWS: The maximum number of rows of a dataframe to display.\n",
       "            If this number is negative, then the number of rows will be unlimited.</li>\n",
       "        <li>-r FRACTION: Fraction used for sampling.</li>\n",
       "      </ul>\n",
       "    </td>\n",
       "  </tr>\n",
       "  <tr>\n",
       "    <td>pyspark</td>\n",
       "    <td>%%pyspark -o df<br/>df = spark.read.parquet(...</td>\n",
       "    <td>Executes spark commands in Python.\n",
       "    Parameters:\n",
       "      <ul>\n",
       "        <li>-o, -m, -n, -r are the same as the %%spark parameters above.</li>\n",
       "      </ul>\n",
       "    </td>\n",
       "  </tr>\n",
       "  <tr>\n",
       "    <td>scalaspark</td>\n",
       "    <td>%%scalaspark -o df<br/>val df = data.toDF(...</td>\n",
       "    <td>Executes spark commands in Scala.\n",
       "    Parameters:\n",
       "      <ul>\n",
       "        <li>-o, -m, -n, -r are the same as the %%spark parameters above.</li>\n",
       "      </ul>\n",
       "    </td>\n",
       "  </tr>\n",
       "  <tr>\n",
       "    <td>rspark</td>\n",
       "    <td>%%rspark -o df<br/>df <- read.df(...</td>\n",
       "    <td>Executes spark commands in R.\n",
       "    Parameters:\n",
       "      <ul>\n",
       "        <li>-o, -m, -n, -r are the same as the %%spark parameters above.</li>\n",
       "      </ul>\n",
       "    </td>\n",
       "  </tr>\n",
       "  <tr>\n",
       "    <td>sql</td>\n",
       "    <td>%%sql -o tables -q<br/>SHOW TABLES</td>\n",
       "    <td>Executes a SQL query against the variable sqlContext (Spark v1.x) or spark (Spark v2.x).\n",
       "    Parameters:\n",
       "      <ul>\n",
       "        <li>-o VAR_NAME: The result of the SQL query will be available in the %%local Python context as a\n",
       "          <a href=\"http://pandas.pydata.org/\">Pandas</a> dataframe.</li>\n",
       "        <li>-q: The magic will return None instead of the dataframe (no visualization).</li>\n",
       "        <li>-m, -n, -r are the same as the %%spark parameters above.</li>\n",
       "      </ul>\n",
       "    </td>\n",
       "  </tr>\n",
       "  <tr>\n",
       "    <td>local</td>\n",
       "    <td>%%local<br/>a = 1</td>\n",
       "    <td>All the code in subsequent lines will be executed locally. Code must be valid Python code.</td>\n",
       "  </tr>\n",
       "  <tr>\n",
       "    <td>send_to_spark</td>\n",
       "    <td>%%send_to_spark -o variable -t str -n var</td>\n",
       "    <td>Sends a variable from local output to spark cluster.\n",
       "    <br/>\n",
       "    Parameters:\n",
       "      <ul>\n",
       "        <li>-i VAR_NAME: Local Pandas DataFrame(or String) of name VAR_NAME will be available in the %%spark context as a \n",
       "          Spark dataframe(or String) with the same name.</li>\n",
       "        <li>-t TYPE: Specifies the type of variable passed as -i. Available options are:\n",
       "         `str` for string and `df` for Pandas DataFrame. Optional, defaults to `str`.</li>\n",
       "        <li>-n NAME: Custom name of variable passed as -i. Optional, defaults to -i variable name.</li>\n",
       "        <li>-m MAXROWS: Maximum amount of Pandas rows that will be sent to Spark. Defaults to 2500.</li>\n",
       "      </ul>\n",
       "    </td>\n",
       "  </tr>\n",
       "</table>\n"
      ],
      "text/plain": [
       "<IPython.core.display.HTML object>"
      ]
     },
     "metadata": {},
     "output_type": "display_data"
    }
   ],
   "source": [
    "%help"
   ]
  },
  {
   "cell_type": "markdown",
   "id": "e9710041-a5e4-47e0-9a07-5c1719776cc2",
   "metadata": {},
   "source": [
    "## Additional refinement?"
   ]
  },
  {
   "cell_type": "code",
   "execution_count": 13,
   "id": "d3c00f67-4c5f-41c4-9a8a-79c91121916f",
   "metadata": {
    "execution": {
     "iopub.execute_input": "2022-04-12T01:31:05.045968Z",
     "iopub.status.busy": "2022-04-12T01:31:05.045804Z",
     "iopub.status.idle": "2022-04-12T01:31:05.094912Z",
     "shell.execute_reply": "2022-04-12T01:31:05.094352Z",
     "shell.execute_reply.started": "2022-04-12T01:31:05.045947Z"
    },
    "tags": []
   },
   "outputs": [
    {
     "data": {
      "application/vnd.jupyter.widget-view+json": {
       "model_id": "749d969ee4b445d9a21ae28f8b4dab09",
       "version_major": 2,
       "version_minor": 0
      },
      "text/plain": [
       "VBox()"
      ]
     },
     "metadata": {},
     "output_type": "display_data"
    },
    {
     "data": {
      "application/vnd.jupyter.widget-view+json": {
       "model_id": "",
       "version_major": 2,
       "version_minor": 0
      },
      "text/plain": [
       "FloatProgress(value=0.0, bar_style='info', description='Progress:', layout=Layout(height='25px', width='50%'),…"
      ]
     },
     "metadata": {},
     "output_type": "display_data"
    }
   ],
   "source": [
    "#https://blog.yanchen.ca/2016/06/28/fileinputdstream-in-spark-streaming/\n"
   ]
  }
 ],
 "metadata": {
  "kernelspec": {
   "display_name": "PySpark",
   "language": "",
   "name": "pysparkkernel"
  },
  "language_info": {
   "codemirror_mode": {
    "name": "python",
    "version": 3
   },
   "mimetype": "text/x-python",
   "name": "pyspark",
   "pygments_lexer": "python3"
  }
 },
 "nbformat": 4,
 "nbformat_minor": 5
}
