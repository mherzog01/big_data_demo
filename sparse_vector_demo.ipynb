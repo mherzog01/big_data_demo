{
 "cells": [
  {
   "cell_type": "code",
   "execution_count": 1,
   "id": "84042060-a4e5-4498-b7ce-9b0d619cff95",
   "metadata": {
    "execution": {
     "iopub.execute_input": "2022-04-10T20:40:07.238699Z",
     "iopub.status.busy": "2022-04-10T20:40:07.238479Z",
     "iopub.status.idle": "2022-04-10T20:40:32.077321Z",
     "shell.execute_reply": "2022-04-10T20:40:32.076644Z",
     "shell.execute_reply.started": "2022-04-10T20:40:07.238672Z"
    },
    "tags": []
   },
   "outputs": [
    {
     "data": {
      "application/vnd.jupyter.widget-view+json": {
       "model_id": "9b1cb85f04ec4d35a2e091e3319db10e",
       "version_major": 2,
       "version_minor": 0
      },
      "text/plain": [
       "VBox()"
      ]
     },
     "metadata": {},
     "output_type": "display_data"
    },
    {
     "name": "stdout",
     "output_type": "stream",
     "text": [
      "Starting Spark application\n"
     ]
    },
    {
     "data": {
      "text/html": [
       "<table>\n",
       "<tr><th>ID</th><th>YARN Application ID</th><th>Kind</th><th>State</th><th>Spark UI</th><th>Driver log</th><th>Current session?</th></tr><tr><td>3</td><td>application_1649603212487_0005</td><td>pyspark</td><td>idle</td><td><a target=\"_blank\" href=\"http://ip-172-31-17-183.us-east-2.compute.internal:20888/proxy/application_1649603212487_0005/\" class=\"emr-proxy-link\" emr-resource=\"j-1VWBD4Q7M8QE0\n",
       "\" application-id=\"application_1649603212487_0005\">Link</a></td><td><a target=\"_blank\" href=\"http://ip-172-31-28-172.us-east-2.compute.internal:8042/node/containerlogs/container_1649603212487_0005_01_000001/livy\" >Link</a></td><td>✔</td></tr></table>"
      ],
      "text/plain": [
       "<IPython.core.display.HTML object>"
      ]
     },
     "metadata": {},
     "output_type": "display_data"
    },
    {
     "data": {
      "application/vnd.jupyter.widget-view+json": {
       "model_id": "",
       "version_major": 2,
       "version_minor": 0
      },
      "text/plain": [
       "FloatProgress(value=0.0, bar_style='info', description='Progress:', layout=Layout(height='25px', width='50%'),…"
      ]
     },
     "metadata": {},
     "output_type": "display_data"
    },
    {
     "name": "stdout",
     "output_type": "stream",
     "text": [
      "SparkSession available as 'spark'.\n"
     ]
    },
    {
     "data": {
      "application/vnd.jupyter.widget-view+json": {
       "model_id": "",
       "version_major": 2,
       "version_minor": 0
      },
      "text/plain": [
       "FloatProgress(value=0.0, bar_style='info', description='Progress:', layout=Layout(height='25px', width='50%'),…"
      ]
     },
     "metadata": {},
     "output_type": "display_data"
    },
    {
     "name": "stdout",
     "output_type": "stream",
     "text": [
      "25.0"
     ]
    }
   ],
   "source": [
    "from pyspark.ml.linalg import SparseVector\n",
    "a = SparseVector(4, [1, 2], [3.0, 4.0])\n",
    "a.dot(a)"
   ]
  },
  {
   "cell_type": "code",
   "execution_count": 2,
   "id": "f2da1744-2bf0-4ec8-8512-6e2192ce2239",
   "metadata": {
    "execution": {
     "iopub.execute_input": "2022-04-10T20:41:52.896425Z",
     "iopub.status.busy": "2022-04-10T20:41:52.896209Z",
     "iopub.status.idle": "2022-04-10T20:41:52.950683Z",
     "shell.execute_reply": "2022-04-10T20:41:52.949975Z",
     "shell.execute_reply.started": "2022-04-10T20:41:52.896402Z"
    },
    "tags": []
   },
   "outputs": [
    {
     "data": {
      "application/vnd.jupyter.widget-view+json": {
       "model_id": "88b781e966174086a34f6783b1e38bc8",
       "version_major": 2,
       "version_minor": 0
      },
      "text/plain": [
       "VBox()"
      ]
     },
     "metadata": {},
     "output_type": "display_data"
    },
    {
     "data": {
      "application/vnd.jupyter.widget-view+json": {
       "model_id": "",
       "version_major": 2,
       "version_minor": 0
      },
      "text/plain": [
       "FloatProgress(value=0.0, bar_style='info', description='Progress:', layout=Layout(height='25px', width='50%'),…"
      ]
     },
     "metadata": {},
     "output_type": "display_data"
    },
    {
     "name": "stdout",
     "output_type": "stream",
     "text": [
      "[0.0, 10.0, 0.0, 0.0, 20.0, 0.0, 0.0, 0.0, 30.0]"
     ]
    }
   ],
   "source": [
    "# The first parameter is the number of elements\n",
    "# The second parameter is the index of the given elements\n",
    "# The third parameter are the values of the given elements\n",
    "\n",
    "# All the rest are considered 0\n",
    "\n",
    "v1 = SparseVector(9,[1, 4, 8], [10,20,30])\n",
    "[v1[i] for i in range(len(v1))]\n"
   ]
  }
 ],
 "metadata": {
  "kernelspec": {
   "display_name": "PySpark",
   "language": "",
   "name": "pysparkkernel"
  },
  "language_info": {
   "codemirror_mode": {
    "name": "python",
    "version": 3
   },
   "mimetype": "text/x-python",
   "name": "pyspark",
   "pygments_lexer": "python3"
  }
 },
 "nbformat": 4,
 "nbformat_minor": 5
}
