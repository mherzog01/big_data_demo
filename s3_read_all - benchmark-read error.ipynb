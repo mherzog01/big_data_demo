{
 "cells": [
  {
   "cell_type": "markdown",
   "id": "40d33410-af8a-44d0-a481-87133cad26f8",
   "metadata": {},
   "source": [
    "# Accessing many files in S3 via PySpark"
   ]
  },
  {
   "cell_type": "markdown",
   "id": "76a17bb5-2da7-4244-a3ba-aef0546c2b04",
   "metadata": {},
   "source": [
    "Assume that we are using the PySpark kernel"
   ]
  },
  {
   "cell_type": "markdown",
   "id": "3a22f229-e8f7-40a8-a392-9c3cf6b82b52",
   "metadata": {},
   "source": [
    "## Read files recursively"
   ]
  },
  {
   "cell_type": "code",
   "execution_count": 1,
   "id": "e93621ae-b94b-4f88-8e13-eb6016488463",
   "metadata": {
    "execution": {
     "iopub.execute_input": "2022-04-21T22:19:12.269195Z",
     "iopub.status.busy": "2022-04-21T22:19:12.268958Z",
     "iopub.status.idle": "2022-04-21T22:34:20.719633Z",
     "shell.execute_reply": "2022-04-21T22:34:20.718899Z",
     "shell.execute_reply.started": "2022-04-21T22:19:12.269169Z"
    },
    "tags": []
   },
   "outputs": [
    {
     "data": {
      "application/vnd.jupyter.widget-view+json": {
       "model_id": "1d393c8f256549dbbc9eedc2d0628e42",
       "version_major": 2,
       "version_minor": 0
      },
      "text/plain": [
       "VBox()"
      ]
     },
     "metadata": {},
     "output_type": "display_data"
    },
    {
     "name": "stdout",
     "output_type": "stream",
     "text": [
      "Starting Spark application\n"
     ]
    },
    {
     "data": {
      "text/html": [
       "<table>\n",
       "<tr><th>ID</th><th>YARN Application ID</th><th>Kind</th><th>State</th><th>Spark UI</th><th>Driver log</th><th>Current session?</th></tr><tr><td>8</td><td>application_1650538055245_0010</td><td>pyspark</td><td>idle</td><td><a target=\"_blank\" href=\"http://ip-172-31-22-121.us-east-2.compute.internal:20888/proxy/application_1650538055245_0010/\" class=\"emr-proxy-link\" emr-resource=\"j-MULBB44QJDKF\n",
       "\" application-id=\"application_1650538055245_0010\">Link</a></td><td><a target=\"_blank\" href=\"http://ip-172-31-19-124.us-east-2.compute.internal:8042/node/containerlogs/container_1650538055245_0010_01_000001/livy\" >Link</a></td><td>✔</td></tr></table>"
      ],
      "text/plain": [
       "<IPython.core.display.HTML object>"
      ]
     },
     "metadata": {},
     "output_type": "display_data"
    },
    {
     "data": {
      "application/vnd.jupyter.widget-view+json": {
       "model_id": "",
       "version_major": 2,
       "version_minor": 0
      },
      "text/plain": [
       "FloatProgress(value=0.0, bar_style='info', description='Progress:', layout=Layout(height='25px', width='50%'),…"
      ]
     },
     "metadata": {},
     "output_type": "display_data"
    },
    {
     "name": "stdout",
     "output_type": "stream",
     "text": [
      "SparkSession available as 'spark'.\n"
     ]
    },
    {
     "data": {
      "application/vnd.jupyter.widget-view+json": {
       "model_id": "",
       "version_major": 2,
       "version_minor": 0
      },
      "text/plain": [
       "FloatProgress(value=0.0, bar_style='info', description='Progress:', layout=Layout(height='25px', width='50%'),…"
      ]
     },
     "metadata": {},
     "output_type": "display_data"
    }
   ],
   "source": [
    "# https://sparkbyexamples.com/spark/spark-read-binary-file-into-dataframe/\n",
    "#df = spark.read.format(\"image\").load(\"s3://multimedia-commons/data/images/000/\")\n",
    "#df = spark.read.format(\"image\").option(\"recursiveFileLookup\", True).load(\"s3://multimedia-commons/data/images/00*\")\n",
    "df = spark.read.format(\"image\").option(\"recursiveFileLookup\", True).load(\"s3://multimedia-commons/data/images/{00*,01*}\")"
   ]
  },
  {
   "cell_type": "code",
   "execution_count": 2,
   "id": "facaf944-c50a-471c-9b63-a88fa60801d8",
   "metadata": {
    "execution": {
     "iopub.execute_input": "2022-04-21T22:35:22.263680Z",
     "iopub.status.busy": "2022-04-21T22:35:22.263451Z",
     "iopub.status.idle": "2022-04-21T22:35:35.728908Z",
     "shell.execute_reply": "2022-04-21T22:35:35.728150Z",
     "shell.execute_reply.started": "2022-04-21T22:35:22.263656Z"
    },
    "tags": []
   },
   "outputs": [
    {
     "data": {
      "application/vnd.jupyter.widget-view+json": {
       "model_id": "21a55a2e54a94539ac239a271434a5ee",
       "version_major": 2,
       "version_minor": 0
      },
      "text/plain": [
       "VBox()"
      ]
     },
     "metadata": {},
     "output_type": "display_data"
    },
    {
     "data": {
      "application/vnd.jupyter.widget-view+json": {
       "model_id": "",
       "version_major": 2,
       "version_minor": 0
      },
      "text/plain": [
       "FloatProgress(value=0.0, bar_style='info', description='Progress:', layout=Layout(height='25px', width='50%'),…"
      ]
     },
     "metadata": {},
     "output_type": "display_data"
    },
    {
     "name": "stdout",
     "output_type": "stream",
     "text": [
      "27288"
     ]
    }
   ],
   "source": [
    "df.count()"
   ]
  },
  {
   "cell_type": "code",
   "execution_count": null,
   "id": "271af263-3ef4-4041-ba88-fe9563389707",
   "metadata": {
    "execution": {
     "iopub.execute_input": "2022-04-21T22:35:47.511248Z",
     "iopub.status.busy": "2022-04-21T22:35:47.511021Z"
    },
    "tags": []
   },
   "outputs": [
    {
     "data": {
      "application/vnd.jupyter.widget-view+json": {
       "model_id": "7aeb1be8465a484fb7b64d4eaebf03a4",
       "version_major": 2,
       "version_minor": 0
      },
      "text/plain": [
       "VBox()"
      ]
     },
     "metadata": {},
     "output_type": "display_data"
    },
    {
     "data": {
      "application/vnd.jupyter.widget-view+json": {
       "model_id": "c32eff11ba9744c9b4f846641b9b47b7",
       "version_major": 2,
       "version_minor": 0
      },
      "text/plain": [
       "FloatProgress(value=0.0, bar_style='info', description='Progress:', layout=Layout(height='25px', width='50%'),…"
      ]
     },
     "metadata": {},
     "output_type": "display_data"
    }
   ],
   "source": [
    "df = spark.read.format(\"image\").option(\"recursiveFileLookup\", True).load(\"s3://multimedia-commons/data/images/0*\")"
   ]
  },
  {
   "cell_type": "code",
   "execution_count": 7,
   "id": "8d5059ce-f16c-4900-9edd-399ca2ec38fe",
   "metadata": {
    "execution": {
     "iopub.execute_input": "2022-04-18T01:08:44.463269Z",
     "iopub.status.busy": "2022-04-18T01:08:44.463037Z",
     "iopub.status.idle": "2022-04-18T01:08:44.500180Z",
     "shell.execute_reply": "2022-04-18T01:08:44.498233Z",
     "shell.execute_reply.started": "2022-04-18T01:08:44.463245Z"
    },
    "tags": []
   },
   "outputs": [
    {
     "data": {
      "application/vnd.jupyter.widget-view+json": {
       "model_id": "75a8e83d3be24512af9a1282f2b8c7ab",
       "version_major": 2,
       "version_minor": 0
      },
      "text/plain": [
       "VBox()"
      ]
     },
     "metadata": {},
     "output_type": "display_data"
    },
    {
     "name": "stderr",
     "output_type": "stream",
     "text": [
      "An error was encountered:\n",
      "Invalid status code '404' from http://localhost:8998/sessions/0 with error payload: {\"msg\":\"Session '0' not found.\"}\n"
     ]
    }
   ],
   "source": [
    "df.count()"
   ]
  },
  {
   "cell_type": "markdown",
   "id": "aa1e146b-9e65-4473-a71d-326c9711c9cb",
   "metadata": {},
   "source": [
    "## Just count, don't store"
   ]
  },
  {
   "cell_type": "code",
   "execution_count": null,
   "id": "a459040d-a8f7-4987-b484-3f5b49a11528",
   "metadata": {},
   "outputs": [],
   "source": [
    "df = spark.read.format(\"image\").option(\"recursiveFileLookup\", True).load(\"s3://multimedia-commons/data/images/0*\").count()"
   ]
  },
  {
   "cell_type": "markdown",
   "id": "e9710041-a5e4-47e0-9a07-5c1719776cc2",
   "metadata": {},
   "source": [
    "## Additional refinement?"
   ]
  },
  {
   "cell_type": "code",
   "execution_count": 13,
   "id": "d3c00f67-4c5f-41c4-9a8a-79c91121916f",
   "metadata": {
    "execution": {
     "iopub.execute_input": "2022-04-12T01:31:05.045968Z",
     "iopub.status.busy": "2022-04-12T01:31:05.045804Z",
     "iopub.status.idle": "2022-04-12T01:31:05.094912Z",
     "shell.execute_reply": "2022-04-12T01:31:05.094352Z",
     "shell.execute_reply.started": "2022-04-12T01:31:05.045947Z"
    },
    "tags": []
   },
   "outputs": [
    {
     "data": {
      "application/vnd.jupyter.widget-view+json": {
       "model_id": "749d969ee4b445d9a21ae28f8b4dab09",
       "version_major": 2,
       "version_minor": 0
      },
      "text/plain": [
       "VBox()"
      ]
     },
     "metadata": {},
     "output_type": "display_data"
    },
    {
     "data": {
      "application/vnd.jupyter.widget-view+json": {
       "model_id": "",
       "version_major": 2,
       "version_minor": 0
      },
      "text/plain": [
       "FloatProgress(value=0.0, bar_style='info', description='Progress:', layout=Layout(height='25px', width='50%'),…"
      ]
     },
     "metadata": {},
     "output_type": "display_data"
    }
   ],
   "source": [
    "#https://blog.yanchen.ca/2016/06/28/fileinputdstream-in-spark-streaming/\n"
   ]
  }
 ],
 "metadata": {
  "kernelspec": {
   "display_name": "PySpark",
   "language": "",
   "name": "pysparkkernel"
  },
  "language_info": {
   "codemirror_mode": {
    "name": "python",
    "version": 3
   },
   "mimetype": "text/x-python",
   "name": "pyspark",
   "pygments_lexer": "python3"
  }
 },
 "nbformat": 4,
 "nbformat_minor": 5
}
