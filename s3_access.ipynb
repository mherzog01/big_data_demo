{
 "cells": [
  {
   "cell_type": "markdown",
   "id": "40d33410-af8a-44d0-a481-87133cad26f8",
   "metadata": {},
   "source": [
    "# Accessing S3 via PySpark\n",
    "## Start Spark"
   ]
  },
  {
   "cell_type": "markdown",
   "id": "76a17bb5-2da7-4244-a3ba-aef0546c2b04",
   "metadata": {},
   "source": [
    "Assume that we are using the PySpark kernel"
   ]
  },
  {
   "cell_type": "code",
   "execution_count": 2,
   "id": "e85680e9-1bd0-41a4-80c5-b10a4e3dca54",
   "metadata": {
    "execution": {
     "iopub.execute_input": "2022-04-11T00:16:36.007568Z",
     "iopub.status.busy": "2022-04-11T00:16:36.007349Z",
     "iopub.status.idle": "2022-04-11T00:16:36.062528Z",
     "shell.execute_reply": "2022-04-11T00:16:36.062032Z",
     "shell.execute_reply.started": "2022-04-11T00:16:36.007545Z"
    },
    "tags": []
   },
   "outputs": [
    {
     "data": {
      "application/vnd.jupyter.widget-view+json": {
       "model_id": "3edb0715ed0242ee9be7e31dd2a294c2",
       "version_major": 2,
       "version_minor": 0
      },
      "text/plain": [
       "VBox()"
      ]
     },
     "metadata": {},
     "output_type": "display_data"
    },
    {
     "data": {
      "application/vnd.jupyter.widget-view+json": {
       "model_id": "",
       "version_major": 2,
       "version_minor": 0
      },
      "text/plain": [
       "FloatProgress(value=0.0, bar_style='info', description='Progress:', layout=Layout(height='25px', width='50%'),…"
      ]
     },
     "metadata": {},
     "output_type": "display_data"
    }
   ],
   "source": [
    "import os"
   ]
  },
  {
   "cell_type": "markdown",
   "id": "39c3b742-0d81-4304-81ba-a982b976fb14",
   "metadata": {
    "execution": {
     "iopub.execute_input": "2022-04-10T15:35:32.028537Z",
     "iopub.status.busy": "2022-04-10T15:35:32.028290Z",
     "iopub.status.idle": "2022-04-10T15:35:39.351227Z",
     "shell.execute_reply": "2022-04-10T15:35:39.350556Z",
     "shell.execute_reply.started": "2022-04-10T15:35:32.028511Z"
    },
    "tags": []
   },
   "source": [
    "## Read from S3"
   ]
  },
  {
   "cell_type": "code",
   "execution_count": 3,
   "id": "a27e5177-4a5a-488b-9b68-3437b41e77a1",
   "metadata": {
    "execution": {
     "iopub.execute_input": "2022-04-11T00:16:36.063655Z",
     "iopub.status.busy": "2022-04-11T00:16:36.063471Z",
     "iopub.status.idle": "2022-04-11T00:16:41.348189Z",
     "shell.execute_reply": "2022-04-11T00:16:41.347662Z",
     "shell.execute_reply.started": "2022-04-11T00:16:36.063633Z"
    },
    "tags": []
   },
   "outputs": [
    {
     "data": {
      "application/vnd.jupyter.widget-view+json": {
       "model_id": "4768d237305b44089ef045e0585a505e",
       "version_major": 2,
       "version_minor": 0
      },
      "text/plain": [
       "VBox()"
      ]
     },
     "metadata": {},
     "output_type": "display_data"
    },
    {
     "data": {
      "application/vnd.jupyter.widget-view+json": {
       "model_id": "",
       "version_major": 2,
       "version_minor": 0
      },
      "text/plain": [
       "FloatProgress(value=0.0, bar_style='info', description='Progress:', layout=Layout(height='25px', width='50%'),…"
      ]
     },
     "metadata": {},
     "output_type": "display_data"
    }
   ],
   "source": [
    "s3File = spark.read.text(\"s3://multimedia-commons/index.html\")"
   ]
  },
  {
   "cell_type": "code",
   "execution_count": 4,
   "id": "8e2ba293-6383-43e2-949e-27859e203035",
   "metadata": {
    "execution": {
     "iopub.execute_input": "2022-04-11T00:16:41.349519Z",
     "iopub.status.busy": "2022-04-11T00:16:41.349355Z",
     "iopub.status.idle": "2022-04-11T00:16:50.915588Z",
     "shell.execute_reply": "2022-04-11T00:16:50.914951Z",
     "shell.execute_reply.started": "2022-04-11T00:16:41.349498Z"
    },
    "tags": []
   },
   "outputs": [
    {
     "data": {
      "application/vnd.jupyter.widget-view+json": {
       "model_id": "c6fd3b23cb304f45aa06f375dfbebf7e",
       "version_major": 2,
       "version_minor": 0
      },
      "text/plain": [
       "VBox()"
      ]
     },
     "metadata": {},
     "output_type": "display_data"
    },
    {
     "data": {
      "application/vnd.jupyter.widget-view+json": {
       "model_id": "",
       "version_major": 2,
       "version_minor": 0
      },
      "text/plain": [
       "FloatProgress(value=0.0, bar_style='info', description='Progress:', layout=Layout(height='25px', width='50%'),…"
      ]
     },
     "metadata": {},
     "output_type": "display_data"
    },
    {
     "name": "stdout",
     "output_type": "stream",
     "text": [
      "Row(value='<!DOCTYPE html>')"
     ]
    }
   ],
   "source": [
    "s3File.first()"
   ]
  },
  {
   "cell_type": "markdown",
   "id": "46283d58-9a16-4a2d-b980-26ed86876147",
   "metadata": {},
   "source": [
    "## Read binary files"
   ]
  },
  {
   "cell_type": "code",
   "execution_count": 5,
   "id": "17aa5a4c-c74f-489a-aa2f-749237f1bf56",
   "metadata": {
    "execution": {
     "iopub.execute_input": "2022-04-11T00:16:50.916767Z",
     "iopub.status.busy": "2022-04-11T00:16:50.916602Z",
     "iopub.status.idle": "2022-04-11T00:16:53.197298Z",
     "shell.execute_reply": "2022-04-11T00:16:53.196698Z",
     "shell.execute_reply.started": "2022-04-11T00:16:50.916746Z"
    },
    "tags": []
   },
   "outputs": [
    {
     "data": {
      "application/vnd.jupyter.widget-view+json": {
       "model_id": "376dd15bffa34cca9df6f8134f02d064",
       "version_major": 2,
       "version_minor": 0
      },
      "text/plain": [
       "VBox()"
      ]
     },
     "metadata": {},
     "output_type": "display_data"
    },
    {
     "data": {
      "application/vnd.jupyter.widget-view+json": {
       "model_id": "",
       "version_major": 2,
       "version_minor": 0
      },
      "text/plain": [
       "FloatProgress(value=0.0, bar_style='info', description='Progress:', layout=Layout(height='25px', width='50%'),…"
      ]
     },
     "metadata": {},
     "output_type": "display_data"
    },
    {
     "name": "stdout",
     "output_type": "stream",
     "text": [
      "root\n",
      " |-- path: string (nullable = true)\n",
      " |-- modificationTime: timestamp (nullable = true)\n",
      " |-- length: long (nullable = true)\n",
      " |-- content: binary (nullable = true)\n",
      "\n",
      "+--------------------+-------------------+------+--------------------+\n",
      "|                path|   modificationTime|length|             content|\n",
      "+--------------------+-------------------+------+--------------------+\n",
      "|s3://multimedia-c...|2019-03-31 01:07:42| 40382|[FF D8 FF E0 00 1...|\n",
      "+--------------------+-------------------+------+--------------------+"
     ]
    }
   ],
   "source": [
    "# https://sparkbyexamples.com/spark/spark-read-binary-file-into-dataframe/\n",
    "df = spark.read.format(\"binaryFile\").load(\"s3://multimedia-commons/data/images/000/24a/00024a73d1a4c32fb29732d56a2.jpg\")\n",
    "df.printSchema()\n",
    "df.show()"
   ]
  },
  {
   "cell_type": "code",
   "execution_count": 6,
   "id": "88cc242b-15c8-43ad-bdee-59355dddf51f",
   "metadata": {
    "execution": {
     "iopub.execute_input": "2022-04-11T00:16:53.198339Z",
     "iopub.status.busy": "2022-04-11T00:16:53.198164Z",
     "iopub.status.idle": "2022-04-11T00:16:56.703927Z",
     "shell.execute_reply": "2022-04-11T00:16:56.703310Z",
     "shell.execute_reply.started": "2022-04-11T00:16:53.198310Z"
    },
    "tags": []
   },
   "outputs": [
    {
     "data": {
      "application/vnd.jupyter.widget-view+json": {
       "model_id": "2ff8bde2f0794859ac1d20479ce51498",
       "version_major": 2,
       "version_minor": 0
      },
      "text/plain": [
       "VBox()"
      ]
     },
     "metadata": {},
     "output_type": "display_data"
    },
    {
     "data": {
      "application/vnd.jupyter.widget-view+json": {
       "model_id": "",
       "version_major": 2,
       "version_minor": 0
      },
      "text/plain": [
       "FloatProgress(value=0.0, bar_style='info', description='Progress:', layout=Layout(height='25px', width='50%'),…"
      ]
     },
     "metadata": {},
     "output_type": "display_data"
    },
    {
     "name": "stdout",
     "output_type": "stream",
     "text": [
      "root\n",
      " |-- image: struct (nullable = true)\n",
      " |    |-- origin: string (nullable = true)\n",
      " |    |-- height: integer (nullable = true)\n",
      " |    |-- width: integer (nullable = true)\n",
      " |    |-- nChannels: integer (nullable = true)\n",
      " |    |-- mode: integer (nullable = true)\n",
      " |    |-- data: binary (nullable = true)\n",
      "\n",
      "+------+-----+---------+----+--------------------+\n",
      "|height|width|nChannels|mode|                data|\n",
      "+------+-----+---------+----+--------------------+\n",
      "|   260|  500|        3|  16|[00 00 00 00 00 0...|\n",
      "+------+-----+---------+----+--------------------+"
     ]
    }
   ],
   "source": [
    "# https://stackoverflow.com/questions/58611888/how-is-spark-reading-my-image-using-the-image-format\n",
    "df = spark.read.format(\"image\").load(\"s3://multimedia-commons/data/images/000/24a/00024a73d1a4c32fb29732d56a2.jpg\")\n",
    "df.printSchema()\n",
    "df.select(\"image.height\",\"image.width\",\"image.nChannels\", \"image.mode\", \"image.data\").show()"
   ]
  },
  {
   "cell_type": "code",
   "execution_count": 92,
   "id": "b69a6862-d9d7-4423-b262-0ff75d7e81b2",
   "metadata": {
    "execution": {
     "iopub.execute_input": "2022-04-11T01:32:26.530773Z",
     "iopub.status.busy": "2022-04-11T01:32:26.530525Z",
     "iopub.status.idle": "2022-04-11T01:32:27.313760Z",
     "shell.execute_reply": "2022-04-11T01:32:27.313166Z",
     "shell.execute_reply.started": "2022-04-11T01:32:26.530723Z"
    },
    "tags": []
   },
   "outputs": [
    {
     "data": {
      "application/vnd.jupyter.widget-view+json": {
       "model_id": "f335e73147f34b6089f98fead5e8da69",
       "version_major": 2,
       "version_minor": 0
      },
      "text/plain": [
       "VBox()"
      ]
     },
     "metadata": {},
     "output_type": "display_data"
    },
    {
     "data": {
      "application/vnd.jupyter.widget-view+json": {
       "model_id": "",
       "version_major": 2,
       "version_minor": 0
      },
      "text/plain": [
       "FloatProgress(value=0.0, bar_style='info', description='Progress:', layout=Layout(height='25px', width='50%'),…"
      ]
     },
     "metadata": {},
     "output_type": "display_data"
    },
    {
     "name": "stdout",
     "output_type": "stream",
     "text": [
      "1"
     ]
    }
   ],
   "source": [
    "#img_bytes = df.select(\"image.data\").take(1)\n",
    "img_bytes = df.select(\"image.data\").first()\n",
    "len(img_bytes)"
   ]
  },
  {
   "cell_type": "code",
   "execution_count": 94,
   "id": "18fccf9b-f78b-490b-b508-89085e72b9b6",
   "metadata": {
    "execution": {
     "iopub.execute_input": "2022-04-11T01:33:05.409056Z",
     "iopub.status.busy": "2022-04-11T01:33:05.408802Z",
     "iopub.status.idle": "2022-04-11T01:33:05.485742Z",
     "shell.execute_reply": "2022-04-11T01:33:05.483158Z",
     "shell.execute_reply.started": "2022-04-11T01:33:05.409032Z"
    },
    "tags": []
   },
   "outputs": [
    {
     "data": {
      "application/vnd.jupyter.widget-view+json": {
       "model_id": "d53b0d6097394be692a9f3e3ab649651",
       "version_major": 2,
       "version_minor": 0
      },
      "text/plain": [
       "VBox()"
      ]
     },
     "metadata": {},
     "output_type": "display_data"
    },
    {
     "data": {
      "application/vnd.jupyter.widget-view+json": {
       "model_id": "",
       "version_major": 2,
       "version_minor": 0
      },
      "text/plain": [
       "FloatProgress(value=0.0, bar_style='info', description='Progress:', layout=Layout(height='25px', width='50%'),…"
      ]
     },
     "metadata": {},
     "output_type": "display_data"
    },
    {
     "name": "stdout",
     "output_type": "stream",
     "text": [
      "390000"
     ]
    }
   ],
   "source": [
    "len(img_bytes[0])  # Should be 40382  "
   ]
  },
  {
   "cell_type": "code",
   "execution_count": 148,
   "id": "28df4525-0537-4ef7-b178-3a2462547e1d",
   "metadata": {
    "execution": {
     "iopub.execute_input": "2022-04-11T03:49:57.706143Z",
     "iopub.status.busy": "2022-04-11T03:49:57.705913Z",
     "iopub.status.idle": "2022-04-11T03:49:57.766662Z",
     "shell.execute_reply": "2022-04-11T03:49:57.765981Z",
     "shell.execute_reply.started": "2022-04-11T03:49:57.706120Z"
    },
    "tags": []
   },
   "outputs": [
    {
     "data": {
      "application/vnd.jupyter.widget-view+json": {
       "model_id": "71331e91c2b44fdb8048e57ca4978ad1",
       "version_major": 2,
       "version_minor": 0
      },
      "text/plain": [
       "VBox()"
      ]
     },
     "metadata": {},
     "output_type": "display_data"
    },
    {
     "data": {
      "application/vnd.jupyter.widget-view+json": {
       "model_id": "",
       "version_major": 2,
       "version_minor": 0
      },
      "text/plain": [
       "FloatProgress(value=0.0, bar_style='info', description='Progress:', layout=Layout(height='25px', width='50%'),…"
      ]
     },
     "metadata": {},
     "output_type": "display_data"
    },
    {
     "name": "stdout",
     "output_type": "stream",
     "text": [
      "['image']"
     ]
    }
   ],
   "source": [
    "df.columns"
   ]
  },
  {
   "cell_type": "code",
   "execution_count": 182,
   "id": "2a2c5189-ac71-440f-99ec-a2955139f360",
   "metadata": {
    "execution": {
     "iopub.execute_input": "2022-04-11T04:24:54.194756Z",
     "iopub.status.busy": "2022-04-11T04:24:54.194539Z",
     "iopub.status.idle": "2022-04-11T04:24:54.243133Z",
     "shell.execute_reply": "2022-04-11T04:24:54.242573Z",
     "shell.execute_reply.started": "2022-04-11T04:24:54.194734Z"
    },
    "tags": []
   },
   "outputs": [
    {
     "data": {
      "application/vnd.jupyter.widget-view+json": {
       "model_id": "1615e6eaa5ec49129f24cb2246d014e2",
       "version_major": 2,
       "version_minor": 0
      },
      "text/plain": [
       "VBox()"
      ]
     },
     "metadata": {},
     "output_type": "display_data"
    },
    {
     "data": {
      "application/vnd.jupyter.widget-view+json": {
       "model_id": "",
       "version_major": 2,
       "version_minor": 0
      },
      "text/plain": [
       "FloatProgress(value=0.0, bar_style='info', description='Progress:', layout=Layout(height='25px', width='50%'),…"
      ]
     },
     "metadata": {},
     "output_type": "display_data"
    }
   ],
   "source": [
    "def img2np(image_row):\n",
    "    image_row_dict = image_row.asDict()\n",
    "    image_dict = image_row_dict['image'].asDict()\n",
    "\n",
    "    # From the code for toNDArray - https://spark.apache.org/docs/2.3.0/api/python/_modules/pyspark/ml/image.html\n",
    "    height = image_dict['height']\n",
    "    width = image_dict['width']\n",
    "    nChannels = image_dict['nChannels']\n",
    "    return np.ndarray(\n",
    "            shape=(height, width, nChannels),\n",
    "            dtype=np.uint8,\n",
    "            buffer=image_dict['data'],\n",
    "            strides=(width * nChannels, nChannels, 1))\n",
    "\n",
    "#df.rdd.map(lambda x: img2np(x)).collect()"
   ]
  },
  {
   "cell_type": "code",
   "execution_count": 197,
   "id": "d42d53ec-80d5-4111-8b42-74bc1938e094",
   "metadata": {
    "execution": {
     "iopub.execute_input": "2022-04-11T05:02:27.126338Z",
     "iopub.status.busy": "2022-04-11T05:02:27.126107Z",
     "iopub.status.idle": "2022-04-11T05:02:38.428675Z",
     "shell.execute_reply": "2022-04-11T05:02:38.428113Z",
     "shell.execute_reply.started": "2022-04-11T05:02:27.126313Z"
    },
    "tags": []
   },
   "outputs": [
    {
     "data": {
      "application/vnd.jupyter.widget-view+json": {
       "model_id": "4b2c2b26d6cc476880252f10c693ae3a",
       "version_major": 2,
       "version_minor": 0
      },
      "text/plain": [
       "VBox()"
      ]
     },
     "metadata": {},
     "output_type": "display_data"
    },
    {
     "data": {
      "application/vnd.jupyter.widget-view+json": {
       "model_id": "",
       "version_major": 2,
       "version_minor": 0
      },
      "text/plain": [
       "FloatProgress(value=0.0, bar_style='info', description='Progress:', layout=Layout(height='25px', width='50%'),…"
      ]
     },
     "metadata": {},
     "output_type": "display_data"
    },
    {
     "name": "stdout",
     "output_type": "stream",
     "text": [
      "Image fields = ['origin', 'height', 'width', 'nChannels', 'mode', 'data']\n",
      "(260, 500, 3)"
     ]
    }
   ],
   "source": [
    "# https://stackoverflow.com/a/69215982/11262633\n",
    "import pyspark.sql.functions as F\n",
    "from pyspark.ml.image import ImageSchema\n",
    "from pyspark.ml.linalg import DenseVector, VectorUDT\n",
    "from pyspark.sql.functions import col\n",
    "from pyspark.sql import Row\n",
    "\n",
    "#img2vec = F.udf(lambda x: DenseVector(ImageSchema.toNDArray(x).flatten()), VectorUDT())\n",
    "img2vec = F.udf(lambda x: ImageSchema.toNDArray(x))\n",
    "#img2vec = F.udf(lambda x: img2vec0(x))\n",
    "#def img2vec0(image):\n",
    "    # From the code for toNDArray - https://spark.apache.org/docs/2.3.0/api/python/_modules/pyspark/ml/image.html\n",
    "#     height = image.height\n",
    "#     width = image.width\n",
    "#     nChannels = image.nChannels\n",
    "#     return np.ndarray(\n",
    "#             shape=(height, width, nChannels),\n",
    "#             dtype=np.uint8,\n",
    "#             buffer=image.data,\n",
    "#             strides=(width * nChannels, nChannels, 1))\n",
    "#    return type(image)\n",
    "\n",
    "print(f'Image fields = {ImageSchema.imageFields}')\n",
    "# https://stackoverflow.com/a/62454907/11262633\n",
    "# https://stackoverflow.com/questions/36584812/pyspark-row-wise-function-composition\n",
    "#df_img = df.select('image.*')\n",
    "# df_new = df_img.withColumn('vecs',img2vec(F.struct(*list(df_img.columns))))\n",
    "#df_new = df.withColumn('vecs',img2vec(F.struct([f'image.{col_name}' for col_name in df_img.columns])))\n",
    "#df_new = df.withColumn('vecs',img2vec('image'))\n",
    "#df_new = df.withColumn('vecs',ImageSchema.toNDArray(col('image'))) #image argument should be pyspark.sql.types.Row\n",
    "#df_new = df.transform(ImageSchema.toNDArray)\n",
    "#df_new = df.withColumn('vecs',img2vec(col('image')))\n",
    "#df_new = df.withColumn('vecs',np.ndarray(shape=(df.image.height, df.image.width)))\n",
    "rdd = df.rdd.map(img2np)\n",
    "\n",
    "x = rdd.collect()\n",
    "x[0].shape\n",
    "#df_new = rdd.toDF(['img_np'])\n",
    "#df_new = spark.createDataFrame(rdd, schema = ['img_np'])\n",
    "#df_new.show()\n",
    "#df_new.select('img_np').first().asDict().keys()"
   ]
  },
  {
   "cell_type": "code",
   "execution_count": 201,
   "id": "9efc654e-33e7-494f-82a2-f37013877a2c",
   "metadata": {
    "execution": {
     "iopub.execute_input": "2022-04-11T05:07:15.343190Z",
     "iopub.status.busy": "2022-04-11T05:07:15.342640Z",
     "iopub.status.idle": "2022-04-11T05:07:17.622099Z",
     "shell.execute_reply": "2022-04-11T05:07:17.621349Z",
     "shell.execute_reply.started": "2022-04-11T05:07:15.343152Z"
    },
    "tags": []
   },
   "outputs": [
    {
     "data": {
      "application/vnd.jupyter.widget-view+json": {
       "model_id": "54b1bd5dc2ef475c83c0ab8414f5172d",
       "version_major": 2,
       "version_minor": 0
      },
      "text/plain": [
       "VBox()"
      ]
     },
     "metadata": {},
     "output_type": "display_data"
    },
    {
     "data": {
      "application/vnd.jupyter.widget-view+json": {
       "model_id": "",
       "version_major": 2,
       "version_minor": 0
      },
      "text/plain": [
       "FloatProgress(value=0.0, bar_style='info', description='Progress:', layout=Layout(height='25px', width='50%'),…"
      ]
     },
     "metadata": {},
     "output_type": "display_data"
    },
    {
     "name": "stdout",
     "output_type": "stream",
     "text": [
      "Image fields = ['origin', 'height', 'width', 'nChannels', 'mode', 'data']\n",
      "+--------------------+--------------------+\n",
      "|               image|                vecs|\n",
      "+--------------------+--------------------+\n",
      "|{s3://multimedia-...|[0.0,0.0,0.0,0.0,...|\n",
      "+--------------------+--------------------+\n",
      "\n",
      "dict_keys(['vecs'])"
     ]
    }
   ],
   "source": [
    "# https://stackoverflow.com/a/69215982/11262633\n",
    "import pyspark.sql.functions as F\n",
    "from pyspark.ml.image import ImageSchema\n",
    "from pyspark.ml.linalg import DenseVector, VectorUDT\n",
    "\n",
    "img2vec = F.udf(lambda x: DenseVector(ImageSchema.toNDArray(x).flatten()), VectorUDT())\n",
    "\n",
    "print(f'Image fields = {ImageSchema.imageFields}')\n",
    "df_new = df.withColumn('vecs',img2vec('image'))\n",
    "df_new.show()\n",
    "#df_new.select('vecs').first().asDict().keys()"
   ]
  },
  {
   "cell_type": "code",
   "execution_count": 212,
   "id": "f02b943a-99e9-4561-9d4a-efbd1da076b3",
   "metadata": {
    "execution": {
     "iopub.execute_input": "2022-04-11T05:28:52.948646Z",
     "iopub.status.busy": "2022-04-11T05:28:52.948422Z",
     "iopub.status.idle": "2022-04-11T05:29:06.258804Z",
     "shell.execute_reply": "2022-04-11T05:29:06.258150Z",
     "shell.execute_reply.started": "2022-04-11T05:28:52.948622Z"
    },
    "tags": []
   },
   "outputs": [
    {
     "data": {
      "application/vnd.jupyter.widget-view+json": {
       "model_id": "da323b564b48435d90e88beb7ea1bd11",
       "version_major": 2,
       "version_minor": 0
      },
      "text/plain": [
       "VBox()"
      ]
     },
     "metadata": {},
     "output_type": "display_data"
    },
    {
     "data": {
      "application/vnd.jupyter.widget-view+json": {
       "model_id": "",
       "version_major": 2,
       "version_minor": 0
      },
      "text/plain": [
       "FloatProgress(value=0.0, bar_style='info', description='Progress:', layout=Layout(height='25px', width='50%'),…"
      ]
     },
     "metadata": {},
     "output_type": "display_data"
    },
    {
     "name": "stdout",
     "output_type": "stream",
     "text": [
      "(390000,) <class 'pyspark.ml.linalg.DenseVector'>"
     ]
    }
   ],
   "source": [
    "row_dict = df_new.first().asDict()\n",
    "img_vec = row_dict['vecs']\n",
    "print(img_vec.shape, type(img_vec))"
   ]
  },
  {
   "cell_type": "code",
   "execution_count": 214,
   "id": "5380615c-820d-48a4-a626-73f3e229fa00",
   "metadata": {
    "execution": {
     "iopub.execute_input": "2022-04-11T05:42:25.589690Z",
     "iopub.status.busy": "2022-04-11T05:42:25.589448Z",
     "iopub.status.idle": "2022-04-11T05:42:25.649888Z",
     "shell.execute_reply": "2022-04-11T05:42:25.649258Z",
     "shell.execute_reply.started": "2022-04-11T05:42:25.589666Z"
    },
    "tags": []
   },
   "outputs": [
    {
     "data": {
      "application/vnd.jupyter.widget-view+json": {
       "model_id": "b5259450af794d01acff34f2221a4d6a",
       "version_major": 2,
       "version_minor": 0
      },
      "text/plain": [
       "VBox()"
      ]
     },
     "metadata": {},
     "output_type": "display_data"
    },
    {
     "data": {
      "application/vnd.jupyter.widget-view+json": {
       "model_id": "",
       "version_major": 2,
       "version_minor": 0
      },
      "text/plain": [
       "FloatProgress(value=0.0, bar_style='info', description='Progress:', layout=Layout(height='25px', width='50%'),…"
      ]
     },
     "metadata": {},
     "output_type": "display_data"
    }
   ],
   "source": [
    "img_dict = row_dict['image']\n",
    "width = img_dict['width']\n",
    "height = img_dict['height']\n",
    "nChannels = img_dict['nChannels']\n",
    "\n",
    "img_np = img_vec.reshape(height, width, nChannels)\n",
    "\n",
    "# img_np = np.ndarray(\n",
    "#             shape=(height, width, nChannels),\n",
    "#             dtype=np.uint8,\n",
    "#             buffer=img_dict['data'],\n",
    "#             strides=(width * nChannels, nChannels, 1))\n",
    "# img_np[47,106] # Gives [1, 16, 104].  Need [103,  16,   9]"
   ]
  },
  {
   "cell_type": "code",
   "execution_count": 220,
   "id": "81ec9f87-8217-4ed5-904d-15fdd23d251d",
   "metadata": {
    "execution": {
     "iopub.execute_input": "2022-04-11T05:46:21.946896Z",
     "iopub.status.busy": "2022-04-11T05:46:21.946623Z",
     "iopub.status.idle": "2022-04-11T05:46:21.999737Z",
     "shell.execute_reply": "2022-04-11T05:46:21.999093Z",
     "shell.execute_reply.started": "2022-04-11T05:46:21.946870Z"
    },
    "tags": []
   },
   "outputs": [
    {
     "data": {
      "application/vnd.jupyter.widget-view+json": {
       "model_id": "0eb0eef35f2a4596a58aae34a6c18455",
       "version_major": 2,
       "version_minor": 0
      },
      "text/plain": [
       "VBox()"
      ]
     },
     "metadata": {},
     "output_type": "display_data"
    },
    {
     "data": {
      "application/vnd.jupyter.widget-view+json": {
       "model_id": "",
       "version_major": 2,
       "version_minor": 0
      },
      "text/plain": [
       "FloatProgress(value=0.0, bar_style='info', description='Progress:', layout=Layout(height='25px', width='50%'),…"
      ]
     },
     "metadata": {},
     "output_type": "display_data"
    },
    {
     "name": "stdout",
     "output_type": "stream",
     "text": [
      "46 136 [  0.  13. 101.]\n",
      "47 104 [  1.  15. 102.]\n",
      "47 105 [  1.  16. 104.]\n",
      "47 106 [  1.  16. 104.]\n",
      "47 107 [  1.  16. 104.]\n",
      "47 108 [  1.  16. 104.]\n",
      "47 109 [  1.  15. 105.]"
     ]
    }
   ],
   "source": [
    "m = np.ma.masked_greater(img_np, 100)\n",
    "m_mask = m.mask\n",
    "\n",
    "args = np.argwhere(m_mask)\n",
    "\n",
    "for idx, (r, c, _) in enumerate(args):\n",
    "    print(r, c, img_np[r,c])\n",
    "    if idx > 5:\n",
    "        break    "
   ]
  },
  {
   "cell_type": "code",
   "execution_count": 11,
   "id": "26a97c4f-4960-475f-81ca-505fa85ad201",
   "metadata": {
    "execution": {
     "iopub.execute_input": "2022-04-11T00:17:09.270381Z",
     "iopub.status.busy": "2022-04-11T00:17:09.270164Z",
     "iopub.status.idle": "2022-04-11T00:17:11.695776Z",
     "shell.execute_reply": "2022-04-11T00:17:11.673048Z",
     "shell.execute_reply.started": "2022-04-11T00:17:09.270348Z"
    },
    "tags": []
   },
   "outputs": [
    {
     "data": {
      "application/vnd.jupyter.widget-view+json": {
       "model_id": "3c92a5f1dee942f4b0b5a2e09e35ee91",
       "version_major": 2,
       "version_minor": 0
      },
      "text/plain": [
       "VBox()"
      ]
     },
     "metadata": {},
     "output_type": "display_data"
    },
    {
     "data": {
      "application/vnd.jupyter.widget-view+json": {
       "model_id": "",
       "version_major": 2,
       "version_minor": 0
      },
      "text/plain": [
       "FloatProgress(value=0.0, bar_style='info', description='Progress:', layout=Layout(height='25px', width='50%'),…"
      ]
     },
     "metadata": {},
     "output_type": "display_data"
    },
    {
     "name": "stdout",
     "output_type": "stream",
     "text": [
      "+--------------------+--------------------+------+\n",
      "|               image|                vecs|   len|\n",
      "+--------------------+--------------------+------+\n",
      "|{s3://multimedia-...|[0.0,0.0,0.0,0.0,...|390000|\n",
      "+--------------------+--------------------+------+"
     ]
    }
   ],
   "source": [
    "getLen = F.udf(lambda x:len(x))\n",
    "df_with_len = df_new.withColumn('len',getLen('vecs'))\n",
    "df_with_len.show()"
   ]
  },
  {
   "cell_type": "code",
   "execution_count": 12,
   "id": "564d5056-5e22-4fd3-91a9-fa9b6cdbeb1d",
   "metadata": {
    "execution": {
     "iopub.execute_input": "2022-04-11T00:17:11.697225Z",
     "iopub.status.busy": "2022-04-11T00:17:11.696978Z",
     "iopub.status.idle": "2022-04-11T00:17:12.623839Z",
     "shell.execute_reply": "2022-04-11T00:17:12.623271Z",
     "shell.execute_reply.started": "2022-04-11T00:17:11.697191Z"
    },
    "tags": []
   },
   "outputs": [
    {
     "data": {
      "application/vnd.jupyter.widget-view+json": {
       "model_id": "c035ddf716824ee19777a989d2421bd9",
       "version_major": 2,
       "version_minor": 0
      },
      "text/plain": [
       "VBox()"
      ]
     },
     "metadata": {},
     "output_type": "display_data"
    },
    {
     "data": {
      "application/vnd.jupyter.widget-view+json": {
       "model_id": "",
       "version_major": 2,
       "version_minor": 0
      },
      "text/plain": [
       "FloatProgress(value=0.0, bar_style='info', description='Progress:', layout=Layout(height='25px', width='50%'),…"
      ]
     },
     "metadata": {},
     "output_type": "display_data"
    }
   ],
   "source": [
    "first = df.select('image.data').first()"
   ]
  },
  {
   "cell_type": "code",
   "execution_count": 13,
   "id": "6b4edd8d-f2c2-4f7b-ad28-d1ba19983e5b",
   "metadata": {
    "execution": {
     "iopub.execute_input": "2022-04-11T00:17:12.624864Z",
     "iopub.status.busy": "2022-04-11T00:17:12.624683Z",
     "iopub.status.idle": "2022-04-11T00:17:12.682901Z",
     "shell.execute_reply": "2022-04-11T00:17:12.682258Z",
     "shell.execute_reply.started": "2022-04-11T00:17:12.624843Z"
    },
    "tags": []
   },
   "outputs": [
    {
     "data": {
      "application/vnd.jupyter.widget-view+json": {
       "model_id": "c4e9061045ec4e3ab909b392d9de2c79",
       "version_major": 2,
       "version_minor": 0
      },
      "text/plain": [
       "VBox()"
      ]
     },
     "metadata": {},
     "output_type": "display_data"
    },
    {
     "data": {
      "application/vnd.jupyter.widget-view+json": {
       "model_id": "",
       "version_major": 2,
       "version_minor": 0
      },
      "text/plain": [
       "FloatProgress(value=0.0, bar_style='info', description='Progress:', layout=Layout(height='25px', width='50%'),…"
      ]
     },
     "metadata": {},
     "output_type": "display_data"
    },
    {
     "name": "stdout",
     "output_type": "stream",
     "text": [
      "(array([251543,  35427,  24677,  15188,  10118,  10273,   9756,   9747,\n",
      "        12729,  10542]), array([  0. ,  25.5,  51. ,  76.5, 102. , 127.5, 153. , 178.5, 204. ,\n",
      "       229.5, 255. ]))"
     ]
    }
   ],
   "source": [
    "import numpy as np\n",
    "first_dict = first.asDict()\n",
    "img_np_from_data = np.asarray(first_dict['data'])\n",
    "np.histogram(img_np_from_data)"
   ]
  },
  {
   "cell_type": "code",
   "execution_count": 14,
   "id": "e86e2a2d-1ba9-4404-b8a3-ce1c65c10ac5",
   "metadata": {
    "execution": {
     "iopub.execute_input": "2022-04-11T00:17:12.684196Z",
     "iopub.status.busy": "2022-04-11T00:17:12.683927Z",
     "iopub.status.idle": "2022-04-11T00:17:12.735636Z",
     "shell.execute_reply": "2022-04-11T00:17:12.735109Z",
     "shell.execute_reply.started": "2022-04-11T00:17:12.684163Z"
    },
    "tags": []
   },
   "outputs": [
    {
     "data": {
      "application/vnd.jupyter.widget-view+json": {
       "model_id": "004893ded5a94d1e878aa447053c73e3",
       "version_major": 2,
       "version_minor": 0
      },
      "text/plain": [
       "VBox()"
      ]
     },
     "metadata": {},
     "output_type": "display_data"
    },
    {
     "data": {
      "application/vnd.jupyter.widget-view+json": {
       "model_id": "",
       "version_major": 2,
       "version_minor": 0
      },
      "text/plain": [
       "FloatProgress(value=0.0, bar_style='info', description='Progress:', layout=Layout(height='25px', width='50%'),…"
      ]
     },
     "metadata": {},
     "output_type": "display_data"
    },
    {
     "name": "stdout",
     "output_type": "stream",
     "text": [
      "((390000,), 390000)"
     ]
    }
   ],
   "source": [
    "img_np_from_data.shape, len(img_np_from_data)"
   ]
  },
  {
   "cell_type": "code",
   "execution_count": 59,
   "id": "c0a4ecd6-af65-417e-9fe7-3bc91fcee95e",
   "metadata": {
    "execution": {
     "iopub.execute_input": "2022-04-11T00:46:02.134320Z",
     "iopub.status.busy": "2022-04-11T00:46:02.134098Z",
     "iopub.status.idle": "2022-04-11T00:46:02.401664Z",
     "shell.execute_reply": "2022-04-11T00:46:02.401063Z",
     "shell.execute_reply.started": "2022-04-11T00:46:02.134297Z"
    },
    "tags": []
   },
   "outputs": [
    {
     "data": {
      "application/vnd.jupyter.widget-view+json": {
       "model_id": "8cc2c298a78d42a5b72c2a9d208ba4e9",
       "version_major": 2,
       "version_minor": 0
      },
      "text/plain": [
       "VBox()"
      ]
     },
     "metadata": {},
     "output_type": "display_data"
    },
    {
     "data": {
      "application/vnd.jupyter.widget-view+json": {
       "model_id": "",
       "version_major": 2,
       "version_minor": 0
      },
      "text/plain": [
       "FloatProgress(value=0.0, bar_style='info', description='Progress:', layout=Layout(height='25px', width='50%'),…"
      ]
     },
     "metadata": {},
     "output_type": "display_data"
    },
    {
     "name": "stdout",
     "output_type": "stream",
     "text": [
      "{0, 1, 2, 3, 4, 5, 6, 7, 8, 9, 10, 11, 12, 13, 14, 15, 16, 17, 18, 19, 20, 21, 22, 23, 24, 25, 26, 27, 28, 29, 30, 31, 32, 33, 34, 35, 36, 37, 38, 39, 40, 41, 42, 43, 44, 45, 46, 47, 48, 49, 50, 51, 52, 53, 54, 55, 56, 57, 58, 59, 60, 61, 62, 63, 64, 65, 66, 67, 68, 69, 70, 71, 72, 73, 74, 75, 76, 77, 78, 79, 80, 81, 82, 83, 84, 85, 86, 87, 88, 89, 90, 91, 92, 93, 94, 95, 96, 97, 98, 99, 100, 101, 102, 103, 104, 105, 106, 107, 108, 109, 110, 111, 112, 113, 114, 115, 116, 117, 118, 119, 120, 121, 122, 123, 124, 125, 126, 127, 128, 129, 130, 131, 132, 133, 134, 135, 136, 137, 138, 139, 140, 141, 142, 143, 144, 145, 146, 147, 148, 149, 150, 151, 152, 153, 154, 155, 156, 157, 158, 159, 160, 161, 162, 163, 164, 165, 166, 167, 168, 169, 170, 171, 172, 173, 174, 175, 176, 177, 178, 179, 180, 181, 182, 183, 184, 185, 186, 187, 188, 189, 190, 191, 192, 193, 194, 195, 196, 197, 198, 199, 200, 201, 202, 203, 204, 205, 206, 207, 208, 209, 210, 211, 212, 213, 214, 215, 216, 217, 218, 219, 220, 221, 222, 223, 224, 225, 226, 227, 228, 229, 230, 231, 232, 233, 234, 235, 236, 237, 238, 239, 240, 241, 242, 243, 244, 245, 246, 247, 248, 249, 250, 251, 252, 253, 254, 255}"
     ]
    }
   ],
   "source": [
    "set(img_np_from_data)"
   ]
  },
  {
   "cell_type": "code",
   "execution_count": 88,
   "id": "dd665b22-987c-407d-9e73-2ba0f50023ba",
   "metadata": {
    "execution": {
     "iopub.execute_input": "2022-04-11T01:30:44.000405Z",
     "iopub.status.busy": "2022-04-11T01:30:44.000148Z",
     "iopub.status.idle": "2022-04-11T01:30:44.065591Z",
     "shell.execute_reply": "2022-04-11T01:30:44.064882Z",
     "shell.execute_reply.started": "2022-04-11T01:30:44.000380Z"
    },
    "tags": []
   },
   "outputs": [
    {
     "data": {
      "application/vnd.jupyter.widget-view+json": {
       "model_id": "df0284156ef442fe92dbf84bfe0e8072",
       "version_major": 2,
       "version_minor": 0
      },
      "text/plain": [
       "VBox()"
      ]
     },
     "metadata": {},
     "output_type": "display_data"
    },
    {
     "data": {
      "application/vnd.jupyter.widget-view+json": {
       "model_id": "",
       "version_major": 2,
       "version_minor": 0
      },
      "text/plain": [
       "FloatProgress(value=0.0, bar_style='info', description='Progress:', layout=Layout(height='25px', width='50%'),…"
      ]
     },
     "metadata": {},
     "output_type": "display_data"
    },
    {
     "name": "stdout",
     "output_type": "stream",
     "text": [
      "array([  1,  16, 104], dtype=uint8)"
     ]
    }
   ],
   "source": [
    "img_np_from_data.reshape(260,500,3)[47,106]"
   ]
  },
  {
   "cell_type": "code",
   "execution_count": 16,
   "id": "4a99a9e9-82a6-4027-8181-1f089f6c82f3",
   "metadata": {
    "execution": {
     "iopub.execute_input": "2022-04-11T00:17:12.785701Z",
     "iopub.status.busy": "2022-04-11T00:17:12.785509Z",
     "iopub.status.idle": "2022-04-11T00:17:13.048136Z",
     "shell.execute_reply": "2022-04-11T00:17:13.047434Z",
     "shell.execute_reply.started": "2022-04-11T00:17:12.785679Z"
    },
    "jupyter": {
     "source_hidden": true
    },
    "tags": []
   },
   "outputs": [
    {
     "data": {
      "application/vnd.jupyter.widget-view+json": {
       "model_id": "80e4ab7d476544ad8f618f66607e3a63",
       "version_major": 2,
       "version_minor": 0
      },
      "text/plain": [
       "VBox()"
      ]
     },
     "metadata": {},
     "output_type": "display_data"
    },
    {
     "data": {
      "application/vnd.jupyter.widget-view+json": {
       "model_id": "",
       "version_major": 2,
       "version_minor": 0
      },
      "text/plain": [
       "FloatProgress(value=0.0, bar_style='info', description='Progress:', layout=Layout(height='25px', width='50%'),…"
      ]
     },
     "metadata": {},
     "output_type": "display_data"
    }
   ],
   "source": [
    "df_with_len.createOrReplaceTempView(\"temp_table_name\")"
   ]
  },
  {
   "cell_type": "code",
   "execution_count": 209,
   "id": "5e13ed5a-f2e0-4207-a779-488384017458",
   "metadata": {
    "execution": {
     "iopub.execute_input": "2022-04-11T05:23:13.658923Z",
     "iopub.status.busy": "2022-04-11T05:23:13.658695Z",
     "iopub.status.idle": "2022-04-11T05:23:13.725261Z",
     "shell.execute_reply": "2022-04-11T05:23:13.724566Z",
     "shell.execute_reply.started": "2022-04-11T05:23:13.658900Z"
    },
    "tags": []
   },
   "outputs": [
    {
     "data": {
      "application/vnd.jupyter.widget-view+json": {
       "model_id": "cfe9c568a5f04a108475478333631456",
       "version_major": 2,
       "version_minor": 0
      },
      "text/plain": [
       "VBox()"
      ]
     },
     "metadata": {},
     "output_type": "display_data"
    },
    {
     "data": {
      "application/vnd.jupyter.widget-view+json": {
       "model_id": "",
       "version_major": 2,
       "version_minor": 0
      },
      "text/plain": [
       "FloatProgress(value=0.0, bar_style='info', description='Progress:', layout=Layout(height='25px', width='50%'),…"
      ]
     },
     "metadata": {},
     "output_type": "display_data"
    },
    {
     "name": "stdout",
     "output_type": "stream",
     "text": [
      "array([  1.,  16., 104.])"
     ]
    }
   ],
   "source": [
    "img_np[47,106]"
   ]
  },
  {
   "cell_type": "code",
   "execution_count": 208,
   "id": "33345b2c-5a49-4db2-90f1-0b0e2d03d5fb",
   "metadata": {
    "execution": {
     "iopub.execute_input": "2022-04-11T05:21:24.564574Z",
     "iopub.status.busy": "2022-04-11T05:21:24.564335Z",
     "iopub.status.idle": "2022-04-11T05:21:24.616626Z",
     "shell.execute_reply": "2022-04-11T05:21:24.616139Z",
     "shell.execute_reply.started": "2022-04-11T05:21:24.564549Z"
    },
    "tags": []
   },
   "outputs": [
    {
     "data": {
      "application/vnd.jupyter.widget-view+json": {
       "model_id": "1ca920e0d45c495882ac39ed605ec7ba",
       "version_major": 2,
       "version_minor": 0
      },
      "text/plain": [
       "VBox()"
      ]
     },
     "metadata": {},
     "output_type": "display_data"
    },
    {
     "data": {
      "application/vnd.jupyter.widget-view+json": {
       "model_id": "",
       "version_major": 2,
       "version_minor": 0
      },
      "text/plain": [
       "FloatProgress(value=0.0, bar_style='info', description='Progress:', layout=Layout(height='25px', width='50%'),…"
      ]
     },
     "metadata": {},
     "output_type": "display_data"
    },
    {
     "name": "stderr",
     "output_type": "stream",
     "text": [
      "An error was encountered:\n",
      "unknown magic command '%spark'\n",
      "UnknownMagic: unknown magic command '%spark'\n",
      "\n"
     ]
    }
   ],
   "source": [
    "# Per https://stackoverflow.com/a/57863292/11262633\n",
    "%%spark -o img_np_spark\n",
    "img_np_spark = img_np"
   ]
  },
  {
   "cell_type": "code",
   "execution_count": 57,
   "id": "9e3acc90-b9a9-4e5d-b259-9ca041416b97",
   "metadata": {
    "execution": {
     "iopub.execute_input": "2022-04-11T00:44:02.880876Z",
     "iopub.status.busy": "2022-04-11T00:44:02.880613Z",
     "iopub.status.idle": "2022-04-11T00:44:02.886321Z",
     "shell.execute_reply": "2022-04-11T00:44:02.885658Z",
     "shell.execute_reply.started": "2022-04-11T00:44:02.880850Z"
    },
    "tags": []
   },
   "outputs": [
    {
     "name": "stdout",
     "output_type": "stream",
     "text": [
      "odict_keys(['origin', 'height', 'width', 'nChannels', 'mode', 'data'])\n",
      "520000\n",
      "odict_keys(['type', 'values'])\n",
      "390000\n",
      "[0.0, 0.0, 0.0, 0.0, 0.0, 0.0, 0.0, 0.0, 0.0, 0.0] AAAAAAAAAA\n"
     ]
    }
   ],
   "source": [
    "%%local\n",
    "print(row['image'].keys())\n",
    "print(len(row['image']['data']))\n",
    "vec = row['vecs']\n",
    "print(vec.keys())\n",
    "print(len(row['vecs']['values']))\n",
    "print(vec['values'][:10],row['image']['data'][:10])"
   ]
  },
  {
   "cell_type": "code",
   "execution_count": 71,
   "id": "c3b545f2-5cab-4b16-930d-6d83b6f02ded",
   "metadata": {
    "execution": {
     "iopub.execute_input": "2022-04-11T00:50:27.669638Z",
     "iopub.status.busy": "2022-04-11T00:50:27.669412Z",
     "iopub.status.idle": "2022-04-11T00:50:27.676035Z",
     "shell.execute_reply": "2022-04-11T00:50:27.675269Z",
     "shell.execute_reply.started": "2022-04-11T00:50:27.669615Z"
    },
    "tags": []
   },
   "outputs": [
    {
     "name": "stdout",
     "output_type": "stream",
     "text": [
      "260 500 3\n",
      "(260, 500, 3)\n",
      "int32\n"
     ]
    },
    {
     "data": {
      "text/plain": [
       "array([[[0, 0, 0],\n",
       "        [0, 0, 0],\n",
       "        [0, 0, 0],\n",
       "        ...,\n",
       "        [0, 0, 0],\n",
       "        [0, 0, 0],\n",
       "        [0, 0, 0]],\n",
       "\n",
       "       [[0, 0, 0],\n",
       "        [0, 0, 0],\n",
       "        [0, 0, 0],\n",
       "        ...,\n",
       "        [0, 0, 0],\n",
       "        [0, 0, 0],\n",
       "        [0, 0, 0]],\n",
       "\n",
       "       [[0, 0, 0],\n",
       "        [0, 0, 0],\n",
       "        [0, 0, 0],\n",
       "        ...,\n",
       "        [0, 0, 0],\n",
       "        [0, 0, 0],\n",
       "        [0, 0, 0]],\n",
       "\n",
       "       ...,\n",
       "\n",
       "       [[0, 0, 0],\n",
       "        [0, 0, 0],\n",
       "        [0, 0, 0],\n",
       "        ...,\n",
       "        [0, 0, 0],\n",
       "        [0, 0, 0],\n",
       "        [0, 0, 0]],\n",
       "\n",
       "       [[0, 0, 0],\n",
       "        [0, 0, 0],\n",
       "        [0, 0, 0],\n",
       "        ...,\n",
       "        [0, 0, 0],\n",
       "        [0, 0, 0],\n",
       "        [0, 0, 0]],\n",
       "\n",
       "       [[0, 0, 0],\n",
       "        [0, 0, 0],\n",
       "        [0, 0, 0],\n",
       "        ...,\n",
       "        [0, 0, 0],\n",
       "        [0, 0, 0],\n",
       "        [0, 0, 0]]], dtype=int32)"
      ]
     },
     "execution_count": 71,
     "metadata": {},
     "output_type": "execute_result"
    }
   ],
   "source": [
    "%%local\n",
    "print(h,w,c)\n",
    "print(img_np.shape)\n",
    "print(img_np.dtype)\n",
    "img_np"
   ]
  },
  {
   "cell_type": "code",
   "execution_count": 75,
   "id": "deaaa950-a719-4a39-94b6-f12f5977de35",
   "metadata": {
    "execution": {
     "iopub.execute_input": "2022-04-11T00:55:28.758445Z",
     "iopub.status.busy": "2022-04-11T00:55:28.758218Z",
     "iopub.status.idle": "2022-04-11T00:55:28.833878Z",
     "shell.execute_reply": "2022-04-11T00:55:28.833253Z",
     "shell.execute_reply.started": "2022-04-11T00:55:28.758419Z"
    },
    "tags": []
   },
   "outputs": [
    {
     "name": "stdout",
     "output_type": "stream",
     "text": [
      "(500, 260)\n"
     ]
    },
    {
     "data": {
      "image/png": "[encoded data removed]",
      "text/plain": [
       "<PIL.Image.Image image mode=RGB size=500x260>"
      ]
     },
     "metadata": {},
     "output_type": "display_data"
    },
    {
     "name": "stdout",
     "output_type": "stream",
     "text": [
      "after img.show\n"
     ]
    }
   ],
   "source": [
    "%%local \n",
    "from PIL import Image\n",
    "from io import StringIO\n",
    "import numpy as np\n",
    "#from io import BytesIO\n",
    "\n",
    "#from matplotlib import pyplot as plt\n",
    "\n",
    "#print(df_for_local.columns)  #['image', 'vecs', 'len'],\n",
    "row = df_for_local.iloc[0]\n",
    "h = row['image']['height']\n",
    "w = row['image']['width']\n",
    "c = row['image']['nChannels']\n",
    "#print(h,w,type(h),type(w))\n",
    "\n",
    "vec = row['vecs']\n",
    "img_np = np.array(vec['values']).reshape(h,w,c).astype(np.uint8)\n",
    "img = Image.fromarray(img_np)\n",
    "print(img.size)\n",
    "#print(type(vec))\n",
    "#img_np = np.asarray(Image.open(StringIO(img_np)))\n",
    "#plt.imshow(img_np)\n",
    "#img = Image.fromarray(img_np)\n",
    "\n",
    "# https://stackoverflow.com/a/26649884/11262633\n",
    "display(img)\n",
    "print('after img.show')\n",
    "\n",
    "#img = Image.open("
   ]
  },
  {
   "cell_type": "code",
   "execution_count": 85,
   "id": "8620ef25-5395-4ae3-9b72-77e8b0749459",
   "metadata": {
    "execution": {
     "iopub.execute_input": "2022-04-11T01:28:33.160766Z",
     "iopub.status.busy": "2022-04-11T01:28:33.160547Z",
     "iopub.status.idle": "2022-04-11T01:28:33.165492Z",
     "shell.execute_reply": "2022-04-11T01:28:33.164855Z",
     "shell.execute_reply.started": "2022-04-11T01:28:33.160742Z"
    },
    "tags": []
   },
   "outputs": [
    {
     "data": {
      "text/plain": [
       "array([  1,  16, 104], dtype=uint8)"
      ]
     },
     "execution_count": 85,
     "metadata": {},
     "output_type": "execute_result"
    }
   ],
   "source": [
    "%%local\n",
    "img_np[47,106]"
   ]
  },
  {
   "cell_type": "code",
   "execution_count": 118,
   "id": "34f276af-00d9-4ce0-a8fa-97559441e9d9",
   "metadata": {
    "execution": {
     "iopub.execute_input": "2022-04-11T02:50:47.779112Z",
     "iopub.status.busy": "2022-04-11T02:50:47.778899Z",
     "iopub.status.idle": "2022-04-11T02:50:47.788981Z",
     "shell.execute_reply": "2022-04-11T02:50:47.788273Z",
     "shell.execute_reply.started": "2022-04-11T02:50:47.779091Z"
    },
    "tags": []
   },
   "outputs": [
    {
     "ename": "ModuleNotFoundError",
     "evalue": "No module named 'tensorflow'",
     "output_type": "error",
     "traceback": [
      "\u001b[0;31m---------------------------------------------------------------------------\u001b[0m",
      "\u001b[0;31mModuleNotFoundError\u001b[0m                       Traceback (most recent call last)",
      "\u001b[0;32m<ipython-input-118-d6ef1a0a894b>\u001b[0m in \u001b[0;36m<module>\u001b[0;34m\u001b[0m\n\u001b[0;32m----> 1\u001b[0;31m \u001b[0;32mfrom\u001b[0m \u001b[0mtensorflow\u001b[0m\u001b[0;34m.\u001b[0m\u001b[0mkeras\u001b[0m\u001b[0;34m.\u001b[0m\u001b[0mpreprocessing\u001b[0m\u001b[0;34m.\u001b[0m\u001b[0mimage\u001b[0m \u001b[0;32mimport\u001b[0m \u001b[0mimg_to_array\u001b[0m\u001b[0;34m,\u001b[0m \u001b[0marray_to_img\u001b[0m\u001b[0;34m\u001b[0m\u001b[0;34m\u001b[0m\u001b[0m\n\u001b[0m\u001b[1;32m      2\u001b[0m \u001b[0;34m\u001b[0m\u001b[0m\n\u001b[1;32m      3\u001b[0m \u001b[0mrow\u001b[0m \u001b[0;34m=\u001b[0m \u001b[0mdf_for_local\u001b[0m\u001b[0;34m.\u001b[0m\u001b[0miloc\u001b[0m\u001b[0;34m[\u001b[0m\u001b[0;36m0\u001b[0m\u001b[0;34m]\u001b[0m\u001b[0;34m\u001b[0m\u001b[0;34m\u001b[0m\u001b[0m\n\u001b[1;32m      4\u001b[0m \u001b[0mimg_data\u001b[0m \u001b[0;34m=\u001b[0m \u001b[0mrow\u001b[0m\u001b[0;34m[\u001b[0m\u001b[0;34m'image'\u001b[0m\u001b[0;34m]\u001b[0m\u001b[0;34m[\u001b[0m\u001b[0;34m'data'\u001b[0m\u001b[0;34m]\u001b[0m\u001b[0;34m\u001b[0m\u001b[0;34m\u001b[0m\u001b[0m\n\u001b[1;32m      5\u001b[0m \u001b[0mimg_pil\u001b[0m \u001b[0;34m=\u001b[0m \u001b[0marray_to_img\u001b[0m\u001b[0;34m(\u001b[0m\u001b[0mimg_data\u001b[0m\u001b[0;34m)\u001b[0m\u001b[0;34m\u001b[0m\u001b[0;34m\u001b[0m\u001b[0m\n",
      "\u001b[0;31mModuleNotFoundError\u001b[0m: No module named 'tensorflow'"
     ]
    }
   ],
   "source": [
    "%%local\n",
    "#https://stackoverflow.com/questions/66207434/how-to-extract-images-from-pyspark-dataframe-to-numpy\n",
    "from tensorflow.keras.preprocessing.image import img_to_array, array_to_img\n",
    "\n",
    "row = df_for_local.iloc[0]\n",
    "img_data = row['image']['data']\n",
    "img_pil = array_to_img(img_data)\n",
    "img_np_tf = img_to_array(img_pil)\n",
    "print(f'img_np_tf={img_np_tf.shape}')"
   ]
  }
 ],
 "metadata": {
  "kernelspec": {
   "display_name": "PySpark",
   "language": "",
   "name": "pysparkkernel"
  },
  "language_info": {
   "codemirror_mode": {
    "name": "python",
    "version": 3
   },
   "mimetype": "text/x-python",
   "name": "pyspark",
   "pygments_lexer": "python3"
  }
 },
 "nbformat": 4,
 "nbformat_minor": 5
}
