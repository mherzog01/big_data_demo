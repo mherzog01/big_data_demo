{
 "cells": [
  {
   "cell_type": "markdown",
   "id": "a39d917e-2414-4649-910d-164434604de3",
   "metadata": {},
   "source": [
    "Requires the PySpark kernel."
   ]
  },
  {
   "cell_type": "code",
   "execution_count": 1,
   "id": "33e0d3a6-010d-46be-be6e-6bfe10db5563",
   "metadata": {
    "execution": {
     "iopub.execute_input": "2022-04-06T06:17:25.201321Z",
     "iopub.status.busy": "2022-04-06T06:17:25.201098Z",
     "iopub.status.idle": "2022-04-06T06:18:04.770077Z",
     "shell.execute_reply": "2022-04-06T06:18:04.769231Z",
     "shell.execute_reply.started": "2022-04-06T06:17:25.201293Z"
    },
    "tags": []
   },
   "outputs": [
    {
     "data": {
      "application/vnd.jupyter.widget-view+json": {
       "model_id": "7ff5957b83af4c68a3a7b41820968fc0",
       "version_major": 2,
       "version_minor": 0
      },
      "text/plain": [
       "VBox()"
      ]
     },
     "metadata": {},
     "output_type": "display_data"
    },
    {
     "name": "stdout",
     "output_type": "stream",
     "text": [
      "Starting Spark application\n"
     ]
    },
    {
     "data": {
      "text/html": [
       "<table>\n",
       "<tr><th>ID</th><th>YARN Application ID</th><th>Kind</th><th>State</th><th>Spark UI</th><th>Driver log</th><th>Current session?</th></tr><tr><td>0</td><td>application_1649225643249_0001</td><td>pyspark</td><td>idle</td><td><a target=\"_blank\" href=\"http://ip-172-31-31-151.us-east-2.compute.internal:20888/proxy/application_1649225643249_0001/\" class=\"emr-proxy-link\" emr-resource=\"j-23P2VMWIO7JF0\n",
       "\" application-id=\"application_1649225643249_0001\">Link</a></td><td><a target=\"_blank\" href=\"http://ip-172-31-30-114.us-east-2.compute.internal:8042/node/containerlogs/container_1649225643249_0001_01_000001/livy\" >Link</a></td><td>✔</td></tr></table>"
      ],
      "text/plain": [
       "<IPython.core.display.HTML object>"
      ]
     },
     "metadata": {},
     "output_type": "display_data"
    },
    {
     "data": {
      "application/vnd.jupyter.widget-view+json": {
       "model_id": "",
       "version_major": 2,
       "version_minor": 0
      },
      "text/plain": [
       "FloatProgress(value=0.0, bar_style='info', description='Progress:', layout=Layout(height='25px', width='50%'),…"
      ]
     },
     "metadata": {},
     "output_type": "display_data"
    },
    {
     "name": "stdout",
     "output_type": "stream",
     "text": [
      "SparkSession available as 'spark'.\n"
     ]
    },
    {
     "data": {
      "application/vnd.jupyter.widget-view+json": {
       "model_id": "",
       "version_major": 2,
       "version_minor": 0
      },
      "text/plain": [
       "FloatProgress(value=0.0, bar_style='info', description='Progress:', layout=Layout(height='25px', width='50%'),…"
      ]
     },
     "metadata": {},
     "output_type": "display_data"
    },
    {
     "name": "stdout",
     "output_type": "stream",
     "text": [
      "[1, 4, 9, 16]"
     ]
    }
   ],
   "source": [
    "from pyspark.sql import SparkSession\n",
    "\n",
    "def init_spark():\n",
    "  spark = SparkSession.builder.appName(\"HelloWorld\").getOrCreate()\n",
    "  sc = spark.sparkContext\n",
    "  return spark,sc\n",
    "\n",
    "def main():\n",
    "  spark,sc = init_spark()\n",
    "  nums = sc.parallelize([1,2,3,4])\n",
    "  print(nums.map(lambda x: x*x).collect())\n",
    "\n",
    "main()"
   ]
  }
 ],
 "metadata": {
  "kernelspec": {
   "display_name": "PySpark",
   "language": "",
   "name": "pysparkkernel"
  },
  "language_info": {
   "codemirror_mode": {
    "name": "python",
    "version": 3
   },
   "mimetype": "text/x-python",
   "name": "pyspark",
   "pygments_lexer": "python3"
  }
 },
 "nbformat": 4,
 "nbformat_minor": 5
}
