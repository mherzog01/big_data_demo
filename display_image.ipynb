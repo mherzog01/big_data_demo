{
 "cells": [
  {
   "cell_type": "code",
   "execution_count": 3,
   "id": "010c763c-8c85-48ad-9499-6029a22c8133",
   "metadata": {
    "execution": {
     "iopub.execute_input": "2022-04-12T01:31:35.895259Z",
     "iopub.status.busy": "2022-04-12T01:31:35.894982Z",
     "iopub.status.idle": "2022-04-12T01:31:35.923210Z",
     "shell.execute_reply": "2022-04-12T01:31:35.922445Z",
     "shell.execute_reply.started": "2022-04-12T01:31:35.895232Z"
    },
    "tags": []
   },
   "outputs": [
    {
     "data": {
      "application/vnd.jupyter.widget-view+json": {
       "model_id": "4afb1b7a81a64100bd6afe68318678af",
       "version_major": 2,
       "version_minor": 0
      },
      "text/plain": [
       "VBox()"
      ]
     },
     "metadata": {},
     "output_type": "display_data"
    },
    {
     "name": "stderr",
     "output_type": "stream",
     "text": [
      "The code failed because of a fatal error:\n",
      "\tSession 5 did not start up in 60 seconds..\n",
      "\n",
      "Some things to try:\n",
      "a) Make sure Spark has enough available resources for Jupyter to create a Spark context.\n",
      "b) Contact your Jupyter administrator to make sure the Spark magics library is configured correctly.\n",
      "c) Restart the kernel.\n"
     ]
    }
   ],
   "source": [
    "# https://stackoverflow.com/questions/26649716/how-to-show-pil-image-in-ipython-notebook\n",
    "\n",
    "# source: http://nbviewer.ipython.org/gist/deeplook/5162445\n",
    "from io import BytesIO\n",
    "\n",
    "from IPython import display\n",
    "from PIL import Image\n",
    "\n",
    "\n",
    "def display_pil_image(im):\n",
    "   \"\"\"Displayhook function for PIL Images, rendered as PNG.\"\"\"\n",
    "\n",
    "   b = BytesIO()\n",
    "   im.save(b, format='png')\n",
    "   data = b.getvalue()\n",
    "\n",
    "   ip_img = display.Image(data=data, format='png', embed=True)\n",
    "   return ip_img._repr_png_()\n",
    "\n",
    "\n",
    "# register display func with PNG formatter:\n",
    "png_formatter = get_ipython().display_formatter.formatters['image/png']\n",
    "dpi = png_formatter.for_type(Image.Image, display_pil_image)"
   ]
  },
  {
   "cell_type": "code",
   "execution_count": null,
   "id": "9d638d4f-e21b-4dd9-aefa-df5b162f8cea",
   "metadata": {},
   "outputs": [],
   "source": []
  }
 ],
 "metadata": {
  "kernelspec": {
   "display_name": "PySpark",
   "language": "",
   "name": "pysparkkernel"
  },
  "language_info": {
   "codemirror_mode": {
    "name": "python",
    "version": 3
   },
   "mimetype": "text/x-python",
   "name": "pyspark",
   "pygments_lexer": "python3"
  }
 },
 "nbformat": 4,
 "nbformat_minor": 5
}
