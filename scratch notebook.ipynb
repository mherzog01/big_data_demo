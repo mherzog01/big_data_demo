{
 "cells": [
  {
   "cell_type": "code",
   "execution_count": 2,
   "id": "b31cd5fc-95af-4cff-8207-11349e44dc81",
   "metadata": {
    "execution": {
     "iopub.execute_input": "2022-04-13T22:56:36.958514Z",
     "iopub.status.busy": "2022-04-13T22:56:36.958284Z",
     "iopub.status.idle": "2022-04-13T22:56:37.029492Z",
     "shell.execute_reply": "2022-04-13T22:56:37.028658Z",
     "shell.execute_reply.started": "2022-04-13T22:56:36.958488Z"
    },
    "tags": []
   },
   "outputs": [
    {
     "data": {
      "text/html": [
       "Current session configs: <tt>{'proxyUser': 'user_mherzog01', 'conf': {'spark.pyspark.python': 'python3', 'spark.pyspark.virtualenv.enabled': 'true', 'spark.pyspark.virtualenv.type': 'native', 'spark.pyspark.virtualenv.bin.path': '/usr/bin/virtualenv'}, 'kind': 'pyspark'}</tt><br>"
      ],
      "text/plain": [
       "<IPython.core.display.HTML object>"
      ]
     },
     "metadata": {},
     "output_type": "display_data"
    },
    {
     "data": {
      "text/html": [
       "<table>\n",
       "<tr><th>ID</th><th>YARN Application ID</th><th>Kind</th><th>State</th><th>Spark UI</th><th>Driver log</th><th>Current session?</th></tr><tr><td>1</td><td>application_1649886739542_0003</td><td>pyspark</td><td>idle</td><td><a target=\"_blank\" href=\"http://ip-172-31-22-43.us-east-2.compute.internal:20888/proxy/application_1649886739542_0003/\" class=\"emr-proxy-link\" emr-resource=\"j-R01V9M0V3HK7\n",
       "\" application-id=\"application_1649886739542_0003\">Link</a></td><td><a target=\"_blank\" href=\"http://ip-172-31-19-56.us-east-2.compute.internal:8042/node/containerlogs/container_1649886739542_0003_01_000001/livy\" >Link</a></td><td></td></tr><tr><td>2</td><td>application_1649886739542_0004</td><td>pyspark</td><td>idle</td><td><a target=\"_blank\" href=\"http://ip-172-31-22-43.us-east-2.compute.internal:20888/proxy/application_1649886739542_0004/\" class=\"emr-proxy-link\" emr-resource=\"j-R01V9M0V3HK7\n",
       "\" application-id=\"application_1649886739542_0004\">Link</a></td><td><a target=\"_blank\" href=\"http://ip-172-31-31-242.us-east-2.compute.internal:8042/node/containerlogs/container_1649886739542_0004_01_000001/livy\" >Link</a></td><td></td></tr><tr><td>3</td><td>application_1649886739542_0005</td><td>pyspark</td><td>idle</td><td><a target=\"_blank\" href=\"http://ip-172-31-22-43.us-east-2.compute.internal:20888/proxy/application_1649886739542_0005/\" class=\"emr-proxy-link\" emr-resource=\"j-R01V9M0V3HK7\n",
       "\" application-id=\"application_1649886739542_0005\">Link</a></td><td><a target=\"_blank\" href=\"http://ip-172-31-31-242.us-east-2.compute.internal:8042/node/containerlogs/container_1649886739542_0005_01_000001/livy\" >Link</a></td><td></td></tr><tr><td>4</td><td>application_1649886739542_0006</td><td>pyspark</td><td>idle</td><td><a target=\"_blank\" href=\"http://ip-172-31-22-43.us-east-2.compute.internal:20888/proxy/application_1649886739542_0006/\" class=\"emr-proxy-link\" emr-resource=\"j-R01V9M0V3HK7\n",
       "\" application-id=\"application_1649886739542_0006\">Link</a></td><td><a target=\"_blank\" href=\"http://ip-172-31-19-56.us-east-2.compute.internal:8042/node/containerlogs/container_1649886739542_0006_01_000001/livy\" >Link</a></td><td>✔</td></tr></table>"
      ],
      "text/plain": [
       "<IPython.core.display.HTML object>"
      ]
     },
     "metadata": {},
     "output_type": "display_data"
    }
   ],
   "source": [
    "%%info"
   ]
  }
 ],
 "metadata": {
  "kernelspec": {
   "display_name": "PySpark",
   "language": "",
   "name": "pysparkkernel"
  },
  "language_info": {
   "codemirror_mode": {
    "name": "python",
    "version": 3
   },
   "mimetype": "text/x-python",
   "name": "pyspark",
   "pygments_lexer": "python3"
  }
 },
 "nbformat": 4,
 "nbformat_minor": 5
}
