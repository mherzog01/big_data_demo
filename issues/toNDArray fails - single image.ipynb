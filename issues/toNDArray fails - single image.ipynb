{
 "cells": [
  {
   "cell_type": "code",
   "execution_count": 1,
   "id": "17aa5a4c-c74f-489a-aa2f-749237f1bf56",
   "metadata": {
    "execution": {
     "iopub.execute_input": "2022-04-20T05:24:56.271979Z",
     "iopub.status.busy": "2022-04-20T05:24:56.271753Z",
     "iopub.status.idle": "2022-04-20T05:26:10.463269Z",
     "shell.execute_reply": "2022-04-20T05:26:10.462671Z",
     "shell.execute_reply.started": "2022-04-20T05:24:56.271954Z"
    },
    "tags": []
   },
   "outputs": [
    {
     "data": {
      "application/vnd.jupyter.widget-view+json": {
       "model_id": "458ee4abba044737b104dd3c6fd00c96",
       "version_major": 2,
       "version_minor": 0
      },
      "text/plain": [
       "VBox()"
      ]
     },
     "metadata": {},
     "output_type": "display_data"
    },
    {
     "name": "stdout",
     "output_type": "stream",
     "text": [
      "Starting Spark application\n"
     ]
    },
    {
     "data": {
      "text/html": [
       "<table>\n",
       "<tr><th>ID</th><th>YARN Application ID</th><th>Kind</th><th>State</th><th>Spark UI</th><th>Driver log</th><th>Current session?</th></tr><tr><td>7</td><td>application_1650412208045_0009</td><td>pyspark</td><td>idle</td><td><a target=\"_blank\" href=\"http://ip-172-31-22-251.us-east-2.compute.internal:20888/proxy/application_1650412208045_0009/\" class=\"emr-proxy-link\" emr-resource=\"j-2UAFSXFEUPG7O\n",
       "\" application-id=\"application_1650412208045_0009\">Link</a></td><td><a target=\"_blank\" href=\"http://ip-172-31-20-16.us-east-2.compute.internal:8042/node/containerlogs/container_1650412208045_0009_01_000001/livy\" >Link</a></td><td>✔</td></tr></table>"
      ],
      "text/plain": [
       "<IPython.core.display.HTML object>"
      ]
     },
     "metadata": {},
     "output_type": "display_data"
    },
    {
     "data": {
      "application/vnd.jupyter.widget-view+json": {
       "model_id": "",
       "version_major": 2,
       "version_minor": 0
      },
      "text/plain": [
       "FloatProgress(value=0.0, bar_style='info', description='Progress:', layout=Layout(height='25px', width='50%'),…"
      ]
     },
     "metadata": {},
     "output_type": "display_data"
    },
    {
     "name": "stdout",
     "output_type": "stream",
     "text": [
      "SparkSession available as 'spark'.\n"
     ]
    },
    {
     "data": {
      "application/vnd.jupyter.widget-view+json": {
       "model_id": "",
       "version_major": 2,
       "version_minor": 0
      },
      "text/plain": [
       "FloatProgress(value=0.0, bar_style='info', description='Progress:', layout=Layout(height='25px', width='50%'),…"
      ]
     },
     "metadata": {},
     "output_type": "display_data"
    },
    {
     "name": "stdout",
     "output_type": "stream",
     "text": [
      "root\n",
      " |-- image: struct (nullable = true)\n",
      " |    |-- origin: string (nullable = true)\n",
      " |    |-- height: integer (nullable = true)\n",
      " |    |-- width: integer (nullable = true)\n",
      " |    |-- nChannels: integer (nullable = true)\n",
      " |    |-- mode: integer (nullable = true)\n",
      " |    |-- data: binary (nullable = true)\n",
      "\n",
      "1501"
     ]
    }
   ],
   "source": [
    "# https://sparkbyexamples.com/spark/spark-read-binary-file-into-dataframe/\n",
    "#df = spark.read.format(\"image\").option(\"recursiveFileLookup\", True).load(\"s3://multimedia-commons/data/images/{00*,01*}\")\n",
    "df = spark.read.format(\"image\").option(\"recursiveFileLookup\", True).load(\"s3://multimedia-commons/data/images/{00*}\")\n",
    "df.printSchema()\n",
    "df.count()"
   ]
  },
  {
   "cell_type": "markdown",
   "id": "55f6a929-6f27-4bae-b744-119f7c5bf8d6",
   "metadata": {},
   "source": [
    "## Use the built-in ```toNDArray``` function"
   ]
  },
  {
   "cell_type": "code",
   "execution_count": 2,
   "id": "9efc654e-33e7-494f-82a2-f37013877a2c",
   "metadata": {
    "execution": {
     "iopub.execute_input": "2022-04-20T05:26:10.466325Z",
     "iopub.status.busy": "2022-04-20T05:26:10.466163Z",
     "iopub.status.idle": "2022-04-20T05:27:05.890310Z",
     "shell.execute_reply": "2022-04-20T05:27:05.889460Z",
     "shell.execute_reply.started": "2022-04-20T05:26:10.466303Z"
    },
    "tags": []
   },
   "outputs": [
    {
     "data": {
      "application/vnd.jupyter.widget-view+json": {
       "model_id": "34a195251b80456199847564169c1c11",
       "version_major": 2,
       "version_minor": 0
      },
      "text/plain": [
       "VBox()"
      ]
     },
     "metadata": {},
     "output_type": "display_data"
    },
    {
     "data": {
      "application/vnd.jupyter.widget-view+json": {
       "model_id": "",
       "version_major": 2,
       "version_minor": 0
      },
      "text/plain": [
       "FloatProgress(value=0.0, bar_style='info', description='Progress:', layout=Layout(height='25px', width='50%'),…"
      ]
     },
     "metadata": {},
     "output_type": "display_data"
    },
    {
     "name": "stdout",
     "output_type": "stream",
     "text": [
      "Image fields = ['origin', 'height', 'width', 'nChannels', 'mode', 'data']\n",
      "+--------------------+--------------------+\n",
      "|               image|                vecs|\n",
      "+--------------------+--------------------+\n",
      "|{s3://multimedia-...|[201.0,146.0,125....|\n",
      "|{s3://multimedia-...|[44.0,181.0,150.0...|\n",
      "|{s3://multimedia-...|[45.0,103.0,108.0...|\n",
      "|{s3://multimedia-...|[221.0,201.0,190....|\n",
      "|{s3://multimedia-...|[83.0,80.0,89.0,3...|\n",
      "|{s3://multimedia-...|[57.0,84.0,94.0,7...|\n",
      "|{s3://multimedia-...|[187.0,138.0,154....|\n",
      "|{s3://multimedia-...|[56.0,98.0,81.0,5...|\n",
      "|{s3://multimedia-...|[0.0,46.0,221.0,0...|\n",
      "|{s3://multimedia-...|[4.0,82.0,75.0,14...|\n",
      "|{s3://multimedia-...|[30.0,54.0,90.0,1...|\n",
      "|{s3://multimedia-...|[254.0,252.0,252....|\n",
      "|{s3://multimedia-...|[54.0,73.0,81.0,5...|\n",
      "|{s3://multimedia-...|[85.0,92.0,63.0,8...|\n",
      "|{s3://multimedia-...|[27.0,25.0,24.0,3...|\n",
      "|{s3://multimedia-...|[182.0,179.0,158....|\n",
      "|{s3://multimedia-...|[51.0,86.0,89.0,1...|\n",
      "|{s3://multimedia-...|[234.0,178.0,96.0...|\n",
      "|{s3://multimedia-...|[21.0,43.0,18.0,1...|\n",
      "|{s3://multimedia-...|[7.0,73.0,114.0,1...|\n",
      "+--------------------+--------------------+\n",
      "only showing top 20 rows"
     ]
    }
   ],
   "source": [
    "# https://stackoverflow.com/a/69215982/11262633\n",
    "import pyspark.sql.functions as F\n",
    "from pyspark.ml.image import ImageSchema\n",
    "from pyspark.ml.linalg import DenseVector, VectorUDT\n",
    "\n",
    "@F.udf(returnType=VectorUDT())\n",
    "def img2vec(x):\n",
    "    try:\n",
    "        image_np = DenseVector(ImageSchema.toNDArray(x).flatten())\n",
    "    except:\n",
    "        image_np = None\n",
    "    return image_np\n",
    "\n",
    "print(f'Image fields = {ImageSchema.imageFields}')\n",
    "df_new = df.withColumn('vecs',img2vec('image'))\n",
    "df_new.show()\n",
    "#df_new.select('vecs').first().asDict().keys()"
   ]
  },
  {
   "cell_type": "code",
   "execution_count": 3,
   "id": "557811fe-53e1-4cb9-92bb-4d51ac00c924",
   "metadata": {
    "execution": {
     "iopub.execute_input": "2022-04-20T05:27:32.638730Z",
     "iopub.status.busy": "2022-04-20T05:27:32.638361Z",
     "iopub.status.idle": "2022-04-20T05:35:35.120904Z",
     "shell.execute_reply": "2022-04-20T05:35:35.119787Z",
     "shell.execute_reply.started": "2022-04-20T05:27:32.638684Z"
    },
    "tags": []
   },
   "outputs": [
    {
     "data": {
      "application/vnd.jupyter.widget-view+json": {
       "model_id": "378191873fc4463e8d24422d75bb33b3",
       "version_major": 2,
       "version_minor": 0
      },
      "text/plain": [
       "VBox()"
      ]
     },
     "metadata": {},
     "output_type": "display_data"
    },
    {
     "data": {
      "application/vnd.jupyter.widget-view+json": {
       "model_id": "",
       "version_major": 2,
       "version_minor": 0
      },
      "text/plain": [
       "FloatProgress(value=0.0, bar_style='info', description='Progress:', layout=Layout(height='25px', width='50%'),…"
      ]
     },
     "metadata": {},
     "output_type": "display_data"
    },
    {
     "name": "stdout",
     "output_type": "stream",
     "text": [
      "+----------------------------------------------------------------------------+\n",
      "|origin                                                                      |\n",
      "+----------------------------------------------------------------------------+\n",
      "|s3://multimedia-commons/data/images/002/7ce/0027ce88ae5dc31b18e3245743e3.jpg|\n",
      "+----------------------------------------------------------------------------+"
     ]
    }
   ],
   "source": [
    "df_new.where(df_new.vecs.isNull()).select('image.origin').show(truncate=False)"
   ]
  },
  {
   "cell_type": "code",
   "execution_count": 7,
   "id": "fcf09855-1934-4b6a-a721-ed57eefc0ff8",
   "metadata": {
    "execution": {
     "iopub.execute_input": "2022-04-20T05:40:42.429697Z",
     "iopub.status.busy": "2022-04-20T05:40:42.429461Z",
     "iopub.status.idle": "2022-04-20T05:40:42.687082Z",
     "shell.execute_reply": "2022-04-20T05:40:42.686466Z",
     "shell.execute_reply.started": "2022-04-20T05:40:42.429672Z"
    },
    "tags": []
   },
   "outputs": [
    {
     "data": {
      "application/vnd.jupyter.widget-view+json": {
       "model_id": "400c26a07158482fb3cc514c0c1c4a05",
       "version_major": 2,
       "version_minor": 0
      },
      "text/plain": [
       "VBox()"
      ]
     },
     "metadata": {},
     "output_type": "display_data"
    },
    {
     "data": {
      "application/vnd.jupyter.widget-view+json": {
       "model_id": "",
       "version_major": 2,
       "version_minor": 0
      },
      "text/plain": [
       "FloatProgress(value=0.0, bar_style='info', description='Progress:', layout=Layout(height='25px', width='50%'),…"
      ]
     },
     "metadata": {},
     "output_type": "display_data"
    }
   ],
   "source": [
    "image = df_new.where(df_new.image.origin == 's3://multimedia-commons/data/images/002/7ce/0027ce88ae5dc31b18e3245743e3.jpg')"
   ]
  },
  {
   "cell_type": "markdown",
   "id": "1522eb0c-cee2-45bf-a68b-cf76293fc64b",
   "metadata": {},
   "source": [
    "## Offending image in DataFrame is 0 Bytes\n",
    "\n",
    "However, when downloaded, image is 99324 bytes"
   ]
  },
  {
   "cell_type": "code",
   "execution_count": 15,
   "id": "aa2680ce-056d-4a75-a475-05485d15dde6",
   "metadata": {
    "execution": {
     "iopub.execute_input": "2022-04-20T05:43:23.873885Z",
     "iopub.status.busy": "2022-04-20T05:43:23.873665Z",
     "iopub.status.idle": "2022-04-20T05:45:57.522294Z",
     "shell.execute_reply": "2022-04-20T05:45:57.521637Z",
     "shell.execute_reply.started": "2022-04-20T05:43:23.873860Z"
    },
    "tags": []
   },
   "outputs": [
    {
     "data": {
      "application/vnd.jupyter.widget-view+json": {
       "model_id": "75f1ea2ccfff4b4891cdae3f35cbd1b4",
       "version_major": 2,
       "version_minor": 0
      },
      "text/plain": [
       "VBox()"
      ]
     },
     "metadata": {},
     "output_type": "display_data"
    },
    {
     "data": {
      "application/vnd.jupyter.widget-view+json": {
       "model_id": "",
       "version_major": 2,
       "version_minor": 0
      },
      "text/plain": [
       "FloatProgress(value=0.0, bar_style='info', description='Progress:', layout=Layout(height='25px', width='50%'),…"
      ]
     },
     "metadata": {},
     "output_type": "display_data"
    },
    {
     "name": "stdout",
     "output_type": "stream",
     "text": [
      "0"
     ]
    }
   ],
   "source": [
    "image_row = image.first()\n",
    "image_data = image_row.asDict()['image'].asDict()['data']\n",
    "len(image_data)\n",
    "print(f'Image size={len(image_data)}')"
   ]
  },
  {
   "cell_type": "code",
   "execution_count": 29,
   "id": "547ff680-b9bc-4d48-895e-48b186a87392",
   "metadata": {
    "execution": {
     "iopub.execute_input": "2022-04-20T05:58:59.251495Z",
     "iopub.status.busy": "2022-04-20T05:58:59.251265Z",
     "iopub.status.idle": "2022-04-20T05:58:59.299327Z",
     "shell.execute_reply": "2022-04-20T05:58:59.298705Z",
     "shell.execute_reply.started": "2022-04-20T05:58:59.251469Z"
    },
    "tags": []
   },
   "outputs": [
    {
     "data": {
      "application/vnd.jupyter.widget-view+json": {
       "model_id": "8441c5f5169c49f7992bccb6d97739b6",
       "version_major": 2,
       "version_minor": 0
      },
      "text/plain": [
       "VBox()"
      ]
     },
     "metadata": {},
     "output_type": "display_data"
    },
    {
     "data": {
      "application/vnd.jupyter.widget-view+json": {
       "model_id": "",
       "version_major": 2,
       "version_minor": 0
      },
      "text/plain": [
       "FloatProgress(value=0.0, bar_style='info', description='Progress:', layout=Layout(height='25px', width='50%'),…"
      ]
     },
     "metadata": {},
     "output_type": "display_data"
    },
    {
     "name": "stdout",
     "output_type": "stream",
     "text": [
      "Row(image=Row(origin='s3://multimedia-commons/data/images/002/7ce/0027ce88ae5dc31b18e3245743e3.jpg', height=-1, width=-1, nChannels=-1, mode=-1, data=bytearray(b'')), vecs=None)"
     ]
    }
   ],
   "source": [
    "image_row"
   ]
  },
  {
   "cell_type": "code",
   "execution_count": 25,
   "id": "9dc13c11-20a7-4a5b-87a4-21a41e40e649",
   "metadata": {
    "execution": {
     "iopub.execute_input": "2022-04-20T05:54:49.115891Z",
     "iopub.status.busy": "2022-04-20T05:54:49.115659Z",
     "iopub.status.idle": "2022-04-20T05:54:51.159373Z",
     "shell.execute_reply": "2022-04-20T05:54:51.158732Z",
     "shell.execute_reply.started": "2022-04-20T05:54:49.115866Z"
    },
    "tags": []
   },
   "outputs": [
    {
     "name": "stdout",
     "output_type": "stream",
     "text": [
      "download: s3://multimedia-commons/data/images/002/7ce/0027ce88ae5dc31b18e3245743e3.jpg to tmp/0027ce88ae5dc31b18e3245743e3.jpg\n",
      "-rw-r--r-- 1 emr-notebook emr-notebook 99324 Mar 31  2019 /tmp/0027ce88ae5dc31b18e3245743e3.jpg\n"
     ]
    }
   ],
   "source": [
    "%%bash\n",
    "aws s3 cp s3://multimedia-commons/data/images/002/7ce/0027ce88ae5dc31b18e3245743e3.jpg /tmp\n",
    "ls -l /tmp/0027ce88ae5dc31b18e3245743e3.jpg"
   ]
  },
  {
   "cell_type": "code",
   "execution_count": 28,
   "id": "3a14b1e1-bbd6-4193-b3cf-61143ab2a5cf",
   "metadata": {
    "execution": {
     "iopub.execute_input": "2022-04-20T05:58:12.743614Z",
     "iopub.status.busy": "2022-04-20T05:58:12.743389Z",
     "iopub.status.idle": "2022-04-20T05:58:12.795741Z",
     "shell.execute_reply": "2022-04-20T05:58:12.795192Z",
     "shell.execute_reply.started": "2022-04-20T05:58:12.743589Z"
    },
    "tags": []
   },
   "outputs": [
    {
     "data": {
      "application/vnd.jupyter.widget-view+json": {
       "model_id": "e2ce06a97fd943c2961d74763ce852ce",
       "version_major": 2,
       "version_minor": 0
      },
      "text/plain": [
       "VBox()"
      ]
     },
     "metadata": {},
     "output_type": "display_data"
    },
    {
     "data": {
      "application/vnd.jupyter.widget-view+json": {
       "model_id": "",
       "version_major": 2,
       "version_minor": 0
      },
      "text/plain": [
       "FloatProgress(value=0.0, bar_style='info', description='Progress:', layout=Layout(height='25px', width='50%'),…"
      ]
     },
     "metadata": {},
     "output_type": "display_data"
    },
    {
     "name": "stdout",
     "output_type": "stream",
     "text": [
      "Image s3://multimedia-commons/data/images/00d/aa0/00daa0db78a9de9ded0a61dd27fae.jpg size=921600"
     ]
    }
   ],
   "source": [
    "#first_image = df_new.first()\n",
    "first_data = first_image.asDict()['image'].asDict()['data']\n",
    "print(f'Image {first_image.image.origin} size={len(first_data)}')"
   ]
  },
  {
   "cell_type": "code",
   "execution_count": 27,
   "id": "97e64f80-6b2d-4673-8a8b-3e9f8b6faf4e",
   "metadata": {
    "execution": {
     "iopub.execute_input": "2022-04-20T05:57:52.972530Z",
     "iopub.status.busy": "2022-04-20T05:57:52.972299Z",
     "iopub.status.idle": "2022-04-20T05:57:53.026202Z",
     "shell.execute_reply": "2022-04-20T05:57:53.025584Z",
     "shell.execute_reply.started": "2022-04-20T05:57:52.972505Z"
    },
    "tags": []
   },
   "outputs": [
    {
     "data": {
      "application/vnd.jupyter.widget-view+json": {
       "model_id": "23a123bd412c4d6bb3c5fdb06ef062cb",
       "version_major": 2,
       "version_minor": 0
      },
      "text/plain": [
       "VBox()"
      ]
     },
     "metadata": {},
     "output_type": "display_data"
    },
    {
     "data": {
      "application/vnd.jupyter.widget-view+json": {
       "model_id": "",
       "version_major": 2,
       "version_minor": 0
      },
      "text/plain": [
       "FloatProgress(value=0.0, bar_style='info', description='Progress:', layout=Layout(height='25px', width='50%'),…"
      ]
     },
     "metadata": {},
     "output_type": "display_data"
    },
    {
     "name": "stdout",
     "output_type": "stream",
     "text": [
      "'s3://multimedia-commons/data/images/00d/aa0/00daa0db78a9de9ded0a61dd27fae.jpg'"
     ]
    }
   ],
   "source": []
  },
  {
   "cell_type": "code",
   "execution_count": 22,
   "id": "7703634b-dc95-4aab-8ca3-775673ed67f9",
   "metadata": {
    "execution": {
     "iopub.execute_input": "2022-04-20T05:50:21.699638Z",
     "iopub.status.busy": "2022-04-20T05:50:21.699403Z",
     "iopub.status.idle": "2022-04-20T05:50:22.052295Z",
     "shell.execute_reply": "2022-04-20T05:50:22.051386Z",
     "shell.execute_reply.started": "2022-04-20T05:50:21.699611Z"
    },
    "tags": []
   },
   "outputs": [
    {
     "name": "stdout",
     "output_type": "stream",
     "text": [
      "ip-172-31-22-251\n",
      "ERROR: JAVA_HOME is not set and could not be found.\n"
     ]
    }
   ],
   "source": [
    "image_data"
   ]
  },
  {
   "cell_type": "code",
   "execution_count": 16,
   "id": "6e68f305-cab4-4bc8-8715-b61c2349db75",
   "metadata": {
    "execution": {
     "iopub.execute_input": "2022-04-20T05:46:47.973976Z",
     "iopub.status.busy": "2022-04-20T05:46:47.973734Z",
     "iopub.status.idle": "2022-04-20T05:46:48.064283Z",
     "shell.execute_reply": "2022-04-20T05:46:48.063365Z",
     "shell.execute_reply.started": "2022-04-20T05:46:47.973950Z"
    },
    "tags": []
   },
   "outputs": [
    {
     "ename": "FileNotFoundError",
     "evalue": "[Errno 2] No such file or directory: '/tmp/ce88ae5dc31b18e3245743e3.jpg'",
     "output_type": "error",
     "traceback": [
      "\u001b[0;31m---------------------------------------------------------------------------\u001b[0m",
      "\u001b[0;31mFileNotFoundError\u001b[0m                         Traceback (most recent call last)",
      "\u001b[0;32m<ipython-input-16-829e755563a1>\u001b[0m in \u001b[0;36m<module>\u001b[0;34m\u001b[0m\n\u001b[1;32m      1\u001b[0m \u001b[0;32mfrom\u001b[0m \u001b[0mPIL\u001b[0m \u001b[0;32mimport\u001b[0m \u001b[0mImage\u001b[0m\u001b[0;34m\u001b[0m\u001b[0;34m\u001b[0m\u001b[0m\n\u001b[0;32m----> 2\u001b[0;31m \u001b[0mimage_local\u001b[0m \u001b[0;34m=\u001b[0m \u001b[0mImage\u001b[0m\u001b[0;34m.\u001b[0m\u001b[0mopen\u001b[0m\u001b[0;34m(\u001b[0m\u001b[0;34m'/tmp/ce88ae5dc31b18e3245743e3.jpg'\u001b[0m\u001b[0;34m)\u001b[0m\u001b[0;34m\u001b[0m\u001b[0;34m\u001b[0m\u001b[0m\n\u001b[0m\u001b[1;32m      3\u001b[0m \u001b[0mimage_local\u001b[0m\u001b[0;34m\u001b[0m\u001b[0;34m\u001b[0m\u001b[0m\n",
      "\u001b[0;32m/mnt/notebook-env/lib/python3.7/site-packages/PIL/Image.py\u001b[0m in \u001b[0;36mopen\u001b[0;34m(fp, mode, formats)\u001b[0m\n\u001b[1;32m   2966\u001b[0m \u001b[0;34m\u001b[0m\u001b[0m\n\u001b[1;32m   2967\u001b[0m     \u001b[0;32mif\u001b[0m \u001b[0mfilename\u001b[0m\u001b[0;34m:\u001b[0m\u001b[0;34m\u001b[0m\u001b[0;34m\u001b[0m\u001b[0m\n\u001b[0;32m-> 2968\u001b[0;31m         \u001b[0mfp\u001b[0m \u001b[0;34m=\u001b[0m \u001b[0mbuiltins\u001b[0m\u001b[0;34m.\u001b[0m\u001b[0mopen\u001b[0m\u001b[0;34m(\u001b[0m\u001b[0mfilename\u001b[0m\u001b[0;34m,\u001b[0m \u001b[0;34m\"rb\"\u001b[0m\u001b[0;34m)\u001b[0m\u001b[0;34m\u001b[0m\u001b[0;34m\u001b[0m\u001b[0m\n\u001b[0m\u001b[1;32m   2969\u001b[0m         \u001b[0mexclusive_fp\u001b[0m \u001b[0;34m=\u001b[0m \u001b[0;32mTrue\u001b[0m\u001b[0;34m\u001b[0m\u001b[0;34m\u001b[0m\u001b[0m\n\u001b[1;32m   2970\u001b[0m \u001b[0;34m\u001b[0m\u001b[0m\n",
      "\u001b[0;31mFileNotFoundError\u001b[0m: [Errno 2] No such file or directory: '/tmp/ce88ae5dc31b18e3245743e3.jpg'"
     ]
    }
   ],
   "source": [
    "%%local\n",
    "from PIL import Image\n",
    "image_local = Image.open('/tmp/ce88ae5dc31b18e3245743e3.jpg')\n",
    "image_local"
   ]
  },
  {
   "cell_type": "code",
   "execution_count": 38,
   "id": "f0f01258-12fd-43b9-96e3-ca11adca3b97",
   "metadata": {
    "execution": {
     "iopub.execute_input": "2022-04-20T02:54:41.305681Z",
     "iopub.status.busy": "2022-04-20T02:54:41.305450Z",
     "iopub.status.idle": "2022-04-20T02:54:41.377448Z",
     "shell.execute_reply": "2022-04-20T02:54:41.376649Z",
     "shell.execute_reply.started": "2022-04-20T02:54:41.305656Z"
    },
    "tags": []
   },
   "outputs": [
    {
     "data": {
      "application/vnd.jupyter.widget-view+json": {
       "model_id": "8382b7315a5649099bf1b1b69c7942bd",
       "version_major": 2,
       "version_minor": 0
      },
      "text/plain": [
       "VBox()"
      ]
     },
     "metadata": {},
     "output_type": "display_data"
    },
    {
     "data": {
      "application/vnd.jupyter.widget-view+json": {
       "model_id": "",
       "version_major": 2,
       "version_minor": 0
      },
      "text/plain": [
       "FloatProgress(value=0.0, bar_style='info', description='Progress:', layout=Layout(height='25px', width='50%'),…"
      ]
     },
     "metadata": {},
     "output_type": "display_data"
    },
    {
     "name": "stdout",
     "output_type": "stream",
     "text": [
      "(302, 500, 3)"
     ]
    }
   ],
   "source": [
    "ImageSchema.toNDArray(first_row['image']).shape"
   ]
  },
  {
   "cell_type": "code",
   "execution_count": 21,
   "id": "4961ec70-e85a-4bcb-8109-dd497ee6b23d",
   "metadata": {
    "execution": {
     "iopub.execute_input": "2022-04-20T02:36:59.817250Z",
     "iopub.status.busy": "2022-04-20T02:36:59.817007Z",
     "iopub.status.idle": "2022-04-20T02:36:59.868018Z",
     "shell.execute_reply": "2022-04-20T02:36:59.867475Z",
     "shell.execute_reply.started": "2022-04-20T02:36:59.817217Z"
    },
    "tags": []
   },
   "outputs": [
    {
     "data": {
      "application/vnd.jupyter.widget-view+json": {
       "model_id": "1f1a1f735fb24db8b7036e141d8904ee",
       "version_major": 2,
       "version_minor": 0
      },
      "text/plain": [
       "VBox()"
      ]
     },
     "metadata": {},
     "output_type": "display_data"
    },
    {
     "data": {
      "application/vnd.jupyter.widget-view+json": {
       "model_id": "",
       "version_major": 2,
       "version_minor": 0
      },
      "text/plain": [
       "FloatProgress(value=0.0, bar_style='info', description='Progress:', layout=Layout(height='25px', width='50%'),…"
      ]
     },
     "metadata": {},
     "output_type": "display_data"
    }
   ],
   "source": [
    "# https://stackoverflow.com/questions/65713299/javapackage-object-is-not-callable-error-executing-explain-in-pyspark-3-0\n",
    "from py4j.java_gateway import java_import\n",
    "java_import(spark._sc._jvm, \"org.apache.spark.sql.api.python.*\")"
   ]
  },
  {
   "cell_type": "code",
   "execution_count": 22,
   "id": "99e5f238-8182-467e-85d5-8faf909d5e7c",
   "metadata": {
    "execution": {
     "iopub.execute_input": "2022-04-20T02:36:59.869285Z",
     "iopub.status.busy": "2022-04-20T02:36:59.869118Z",
     "iopub.status.idle": "2022-04-20T02:36:59.968193Z",
     "shell.execute_reply": "2022-04-20T02:36:59.967295Z",
     "shell.execute_reply.started": "2022-04-20T02:36:59.869264Z"
    },
    "tags": []
   },
   "outputs": [
    {
     "data": {
      "application/vnd.jupyter.widget-view+json": {
       "model_id": "b054905fb0ec4ff48f1033d7fd8fc72f",
       "version_major": 2,
       "version_minor": 0
      },
      "text/plain": [
       "VBox()"
      ]
     },
     "metadata": {},
     "output_type": "display_data"
    },
    {
     "data": {
      "application/vnd.jupyter.widget-view+json": {
       "model_id": "",
       "version_major": 2,
       "version_minor": 0
      },
      "text/plain": [
       "FloatProgress(value=0.0, bar_style='info', description='Progress:', layout=Layout(height='25px', width='50%'),…"
      ]
     },
     "metadata": {},
     "output_type": "display_data"
    },
    {
     "name": "stdout",
     "output_type": "stream",
     "text": [
      "== Physical Plan ==\n",
      "*(1) Project [image#96, pythonUDF0#119 AS vecs#105]\n",
      "+- BatchEvalPython [<lambda>(image#96)], [pythonUDF0#119]\n",
      "   +- FileScan image [image#96] Batched: false, DataFilters: [], Format: org.apache.spark.ml.source.image.ImageFileFormat@27d52323, Location: InMemoryFileIndex[s3://multimedia-commons/data/images/000, s3://multimedia-commons/data/images/00..., PartitionFilters: [], PushedFilters: [], ReadSchema: struct<image:struct<origin:string,height:int,width:int,nChannels:int,mode:int,data:binary>>"
     ]
    }
   ],
   "source": [
    "#print(f'# partitions={df_new.rdd.getNumPartitions()}')\n",
    "df_new.explain()"
   ]
  }
 ],
 "metadata": {
  "kernelspec": {
   "display_name": "PySpark",
   "language": "",
   "name": "pysparkkernel"
  },
  "language_info": {
   "codemirror_mode": {
    "name": "python",
    "version": 3
   },
   "mimetype": "text/x-python",
   "name": "pyspark",
   "pygments_lexer": "python3"
  }
 },
 "nbformat": 4,
 "nbformat_minor": 5
}
