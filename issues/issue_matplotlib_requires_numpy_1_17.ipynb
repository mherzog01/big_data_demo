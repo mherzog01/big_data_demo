{
 "cells": [
  {
   "cell_type": "code",
   "execution_count": 7,
   "id": "19998e4d-aaa5-4b91-9104-a821b97559c6",
   "metadata": {
    "execution": {
     "iopub.execute_input": "2022-04-13T22:25:51.114244Z",
     "iopub.status.busy": "2022-04-13T22:25:51.114012Z",
     "iopub.status.idle": "2022-04-13T22:25:51.181271Z",
     "shell.execute_reply": "2022-04-13T22:25:51.179932Z",
     "shell.execute_reply.started": "2022-04-13T22:25:51.114220Z"
    },
    "tags": []
   },
   "outputs": [
    {
     "data": {
      "application/vnd.jupyter.widget-view+json": {
       "model_id": "512979ec4a184a4fb5e74821a694c726",
       "version_major": 2,
       "version_minor": 0
      },
      "text/plain": [
       "VBox()"
      ]
     },
     "metadata": {},
     "output_type": "display_data"
    },
    {
     "data": {
      "application/vnd.jupyter.widget-view+json": {
       "model_id": "",
       "version_major": 2,
       "version_minor": 0
      },
      "text/plain": [
       "FloatProgress(value=0.0, bar_style='info', description='Progress:', layout=Layout(height='25px', width='50%'),…"
      ]
     },
     "metadata": {},
     "output_type": "display_data"
    }
   ],
   "source": [
    "import sys\n",
    "import os\n",
    "import numpy as np"
   ]
  },
  {
   "cell_type": "code",
   "execution_count": 8,
   "id": "4ab727bc-8a99-402d-83e2-475644348c97",
   "metadata": {
    "execution": {
     "iopub.execute_input": "2022-04-13T22:25:53.287358Z",
     "iopub.status.busy": "2022-04-13T22:25:53.287135Z",
     "iopub.status.idle": "2022-04-13T22:25:53.348532Z",
     "shell.execute_reply": "2022-04-13T22:25:53.347835Z",
     "shell.execute_reply.started": "2022-04-13T22:25:53.287334Z"
    }
   },
   "outputs": [
    {
     "data": {
      "application/vnd.jupyter.widget-view+json": {
       "model_id": "7fd3d58b14b149fd9300c38462789f86",
       "version_major": 2,
       "version_minor": 0
      },
      "text/plain": [
       "VBox()"
      ]
     },
     "metadata": {},
     "output_type": "display_data"
    },
    {
     "data": {
      "application/vnd.jupyter.widget-view+json": {
       "model_id": "",
       "version_major": 2,
       "version_minor": 0
      },
      "text/plain": [
       "FloatProgress(value=0.0, bar_style='info', description='Progress:', layout=Layout(height='25px', width='50%'),…"
      ]
     },
     "metadata": {},
     "output_type": "display_data"
    },
    {
     "name": "stdout",
     "output_type": "stream",
     "text": [
      "['/mnt/tmp', '/mnt/tmp/spark-6cc97082-c25b-47b3-a113-6bf173a302c2/userFiles-8dde0190-fe4e-4cbb-ad11-d3e7acc1d1dd', '/mnt/var/lib/livy', '/usr/lib/spark/python/lib/pyspark.zip', '/usr/lib/spark/python/lib/py4j-0.10.9-src.zip', '/tmp/1649888260562-0/lib64/python37.zip', '/tmp/1649888260562-0/lib64/python3.7', '/tmp/1649888260562-0/lib64/python3.7/lib-dynload', '/usr/lib64/python3.7', '/usr/lib/python3.7', '/tmp/1649888260562-0/lib/python3.7/site-packages', '/usr/local/lib64/python3.7/site-packages', '/usr/local/lib/python3.7/site-packages', '/usr/lib64/python3.7/site-packages', '/usr/lib/python3.7/site-packages']"
     ]
    }
   ],
   "source": [
    "print(sys.path)"
   ]
  },
  {
   "cell_type": "code",
   "execution_count": 15,
   "id": "13b6a514-cce2-4af4-bbd0-130d87389780",
   "metadata": {
    "execution": {
     "iopub.execute_input": "2022-04-13T22:27:59.344341Z",
     "iopub.status.busy": "2022-04-13T22:27:59.343968Z",
     "iopub.status.idle": "2022-04-13T22:27:59.403666Z",
     "shell.execute_reply": "2022-04-13T22:27:59.402986Z",
     "shell.execute_reply.started": "2022-04-13T22:27:59.344311Z"
    },
    "tags": []
   },
   "outputs": [
    {
     "data": {
      "application/vnd.jupyter.widget-view+json": {
       "model_id": "e1efade85391416da090448c027b088a",
       "version_major": 2,
       "version_minor": 0
      },
      "text/plain": [
       "VBox()"
      ]
     },
     "metadata": {},
     "output_type": "display_data"
    },
    {
     "data": {
      "application/vnd.jupyter.widget-view+json": {
       "model_id": "",
       "version_major": 2,
       "version_minor": 0
      },
      "text/plain": [
       "FloatProgress(value=0.0, bar_style='info', description='Progress:', layout=Layout(height='25px', width='50%'),…"
      ]
     },
     "metadata": {},
     "output_type": "display_data"
    }
   ],
   "source": [
    "def find_pkg(pkg):\n",
    "    print(f'Searching for {pkg}')\n",
    "    for p in sys.path:\n",
    "        exists = os.path.exists(os.path.join(p,pkg))\n",
    "        msg = \"***Exists***\" if exists else \"\"\n",
    "        print(p, msg)\n",
    "    print(\"Search complete\")"
   ]
  },
  {
   "cell_type": "code",
   "execution_count": 16,
   "id": "92d781b7-7457-4567-9853-ac76f2e4a97a",
   "metadata": {
    "execution": {
     "iopub.execute_input": "2022-04-13T22:28:00.110158Z",
     "iopub.status.busy": "2022-04-13T22:28:00.109931Z",
     "iopub.status.idle": "2022-04-13T22:28:00.177852Z",
     "shell.execute_reply": "2022-04-13T22:28:00.177239Z",
     "shell.execute_reply.started": "2022-04-13T22:28:00.110134Z"
    },
    "tags": []
   },
   "outputs": [
    {
     "data": {
      "application/vnd.jupyter.widget-view+json": {
       "model_id": "5c4f803ea935473b9f0163797afe83e4",
       "version_major": 2,
       "version_minor": 0
      },
      "text/plain": [
       "VBox()"
      ]
     },
     "metadata": {},
     "output_type": "display_data"
    },
    {
     "data": {
      "application/vnd.jupyter.widget-view+json": {
       "model_id": "",
       "version_major": 2,
       "version_minor": 0
      },
      "text/plain": [
       "FloatProgress(value=0.0, bar_style='info', description='Progress:', layout=Layout(height='25px', width='50%'),…"
      ]
     },
     "metadata": {},
     "output_type": "display_data"
    },
    {
     "name": "stdout",
     "output_type": "stream",
     "text": [
      "Searching for numpy\n",
      "/mnt/tmp \n",
      "/mnt/tmp/spark-6cc97082-c25b-47b3-a113-6bf173a302c2/userFiles-8dde0190-fe4e-4cbb-ad11-d3e7acc1d1dd \n",
      "/mnt/var/lib/livy \n",
      "/usr/lib/spark/python/lib/pyspark.zip \n",
      "/usr/lib/spark/python/lib/py4j-0.10.9-src.zip \n",
      "/tmp/1649888260562-0/lib64/python37.zip \n",
      "/tmp/1649888260562-0/lib64/python3.7 \n",
      "/tmp/1649888260562-0/lib64/python3.7/lib-dynload \n",
      "/usr/lib64/python3.7 \n",
      "/usr/lib/python3.7 \n",
      "/tmp/1649888260562-0/lib/python3.7/site-packages \n",
      "/usr/local/lib64/python3.7/site-packages ***Exists***\n",
      "/usr/local/lib/python3.7/site-packages \n",
      "/usr/lib64/python3.7/site-packages \n",
      "/usr/lib/python3.7/site-packages \n",
      "Search complete"
     ]
    }
   ],
   "source": [
    "find_pkg(\"numpy\")"
   ]
  },
  {
   "cell_type": "code",
   "execution_count": 17,
   "id": "c835a8bd-aa1d-477a-ab0d-feaa3de81756",
   "metadata": {
    "execution": {
     "iopub.execute_input": "2022-04-13T22:28:02.334347Z",
     "iopub.status.busy": "2022-04-13T22:28:02.334111Z",
     "iopub.status.idle": "2022-04-13T22:28:02.389929Z",
     "shell.execute_reply": "2022-04-13T22:28:02.389263Z",
     "shell.execute_reply.started": "2022-04-13T22:28:02.334322Z"
    },
    "tags": []
   },
   "outputs": [
    {
     "data": {
      "application/vnd.jupyter.widget-view+json": {
       "model_id": "0bb149fdcc1844849bf2dc3115d86b9c",
       "version_major": 2,
       "version_minor": 0
      },
      "text/plain": [
       "VBox()"
      ]
     },
     "metadata": {},
     "output_type": "display_data"
    },
    {
     "data": {
      "application/vnd.jupyter.widget-view+json": {
       "model_id": "",
       "version_major": 2,
       "version_minor": 0
      },
      "text/plain": [
       "FloatProgress(value=0.0, bar_style='info', description='Progress:', layout=Layout(height='25px', width='50%'),…"
      ]
     },
     "metadata": {},
     "output_type": "display_data"
    },
    {
     "name": "stdout",
     "output_type": "stream",
     "text": [
      "Searching for matplotlib\n",
      "/mnt/tmp \n",
      "/mnt/tmp/spark-6cc97082-c25b-47b3-a113-6bf173a302c2/userFiles-8dde0190-fe4e-4cbb-ad11-d3e7acc1d1dd \n",
      "/mnt/var/lib/livy \n",
      "/usr/lib/spark/python/lib/pyspark.zip \n",
      "/usr/lib/spark/python/lib/py4j-0.10.9-src.zip \n",
      "/tmp/1649888260562-0/lib64/python37.zip \n",
      "/tmp/1649888260562-0/lib64/python3.7 \n",
      "/tmp/1649888260562-0/lib64/python3.7/lib-dynload \n",
      "/usr/lib64/python3.7 \n",
      "/usr/lib/python3.7 \n",
      "/tmp/1649888260562-0/lib/python3.7/site-packages \n",
      "/usr/local/lib64/python3.7/site-packages ***Exists***\n",
      "/usr/local/lib/python3.7/site-packages \n",
      "/usr/lib64/python3.7/site-packages \n",
      "/usr/lib/python3.7/site-packages \n",
      "Search complete"
     ]
    }
   ],
   "source": [
    "find_pkg(\"matplotlib\")"
   ]
  },
  {
   "cell_type": "code",
   "execution_count": 22,
   "id": "e1d91df2-a82d-46ba-8d17-def1b005476a",
   "metadata": {
    "execution": {
     "iopub.execute_input": "2022-04-13T22:29:08.942279Z",
     "iopub.status.busy": "2022-04-13T22:29:08.942060Z",
     "iopub.status.idle": "2022-04-13T22:29:08.997902Z",
     "shell.execute_reply": "2022-04-13T22:29:08.997291Z",
     "shell.execute_reply.started": "2022-04-13T22:29:08.942256Z"
    },
    "tags": []
   },
   "outputs": [
    {
     "data": {
      "application/vnd.jupyter.widget-view+json": {
       "model_id": "3c6892d3bdab4104a8fc6dea0cd01ea6",
       "version_major": 2,
       "version_minor": 0
      },
      "text/plain": [
       "VBox()"
      ]
     },
     "metadata": {},
     "output_type": "display_data"
    },
    {
     "data": {
      "application/vnd.jupyter.widget-view+json": {
       "model_id": "",
       "version_major": 2,
       "version_minor": 0
      },
      "text/plain": [
       "FloatProgress(value=0.0, bar_style='info', description='Progress:', layout=Layout(height='25px', width='50%'),…"
      ]
     },
     "metadata": {},
     "output_type": "display_data"
    },
    {
     "name": "stdout",
     "output_type": "stream",
     "text": [
      "'1.16.5'"
     ]
    }
   ],
   "source": [
    "np.version.version"
   ]
  },
  {
   "cell_type": "code",
   "execution_count": 1,
   "id": "9adb8044-8923-4e3b-8daf-f1822f17872a",
   "metadata": {
    "execution": {
     "iopub.execute_input": "2022-04-13T22:17:15.158363Z",
     "iopub.status.busy": "2022-04-13T22:17:15.158134Z",
     "iopub.status.idle": "2022-04-13T22:17:44.073179Z",
     "shell.execute_reply": "2022-04-13T22:17:44.072561Z",
     "shell.execute_reply.started": "2022-04-13T22:17:15.158339Z"
    },
    "tags": []
   },
   "outputs": [
    {
     "data": {
      "application/vnd.jupyter.widget-view+json": {
       "model_id": "7ac2039c50044035aa817b9a73140411",
       "version_major": 2,
       "version_minor": 0
      },
      "text/plain": [
       "VBox()"
      ]
     },
     "metadata": {},
     "output_type": "display_data"
    },
    {
     "name": "stdout",
     "output_type": "stream",
     "text": [
      "Starting Spark application\n"
     ]
    },
    {
     "data": {
      "text/html": [
       "<table>\n",
       "<tr><th>ID</th><th>YARN Application ID</th><th>Kind</th><th>State</th><th>Spark UI</th><th>Driver log</th><th>Current session?</th></tr><tr><td>3</td><td>application_1649886739542_0005</td><td>pyspark</td><td>idle</td><td><a target=\"_blank\" href=\"http://ip-172-31-22-43.us-east-2.compute.internal:20888/proxy/application_1649886739542_0005/\" class=\"emr-proxy-link\" emr-resource=\"j-R01V9M0V3HK7\n",
       "\" application-id=\"application_1649886739542_0005\">Link</a></td><td><a target=\"_blank\" href=\"http://ip-172-31-31-242.us-east-2.compute.internal:8042/node/containerlogs/container_1649886739542_0005_01_000001/livy\" >Link</a></td><td>✔</td></tr></table>"
      ],
      "text/plain": [
       "<IPython.core.display.HTML object>"
      ]
     },
     "metadata": {},
     "output_type": "display_data"
    },
    {
     "data": {
      "application/vnd.jupyter.widget-view+json": {
       "model_id": "",
       "version_major": 2,
       "version_minor": 0
      },
      "text/plain": [
       "FloatProgress(value=0.0, bar_style='info', description='Progress:', layout=Layout(height='25px', width='50%'),…"
      ]
     },
     "metadata": {},
     "output_type": "display_data"
    },
    {
     "name": "stdout",
     "output_type": "stream",
     "text": [
      "SparkSession available as 'spark'.\n"
     ]
    },
    {
     "data": {
      "application/vnd.jupyter.widget-view+json": {
       "model_id": "",
       "version_major": 2,
       "version_minor": 0
      },
      "text/plain": [
       "FloatProgress(value=0.0, bar_style='info', description='Progress:', layout=Layout(height='25px', width='50%'),…"
      ]
     },
     "metadata": {},
     "output_type": "display_data"
    },
    {
     "name": "stderr",
     "output_type": "stream",
     "text": [
      "An error was encountered:\n",
      "Matplotlib requires numpy>=1.17; you have 1.16.5\n",
      "Traceback (most recent call last):\n",
      "  File \"/usr/local/lib64/python3.7/site-packages/matplotlib/__init__.py\", line 208, in <module>\n",
      "    _check_versions()\n",
      "  File \"/usr/local/lib64/python3.7/site-packages/matplotlib/__init__.py\", line 204, in _check_versions\n",
      "    raise ImportError(f\"Matplotlib requires {modname}>={minver}; \"\n",
      "ImportError: Matplotlib requires numpy>=1.17; you have 1.16.5\n",
      "\n"
     ]
    }
   ],
   "source": [
    "import matplotlib"
   ]
  },
  {
   "cell_type": "code",
   "execution_count": 23,
   "id": "e65dc617-4409-48ad-90da-4fdee70a0e8d",
   "metadata": {
    "execution": {
     "iopub.execute_input": "2022-04-13T22:34:16.526385Z",
     "iopub.status.busy": "2022-04-13T22:34:16.526147Z",
     "iopub.status.idle": "2022-04-13T22:34:16.589937Z",
     "shell.execute_reply": "2022-04-13T22:34:16.588185Z",
     "shell.execute_reply.started": "2022-04-13T22:34:16.526359Z"
    },
    "tags": []
   },
   "outputs": [
    {
     "data": {
      "application/vnd.jupyter.widget-view+json": {
       "model_id": "cf9fe2d28f0349fc8518315674b94d25",
       "version_major": 2,
       "version_minor": 0
      },
      "text/plain": [
       "VBox()"
      ]
     },
     "metadata": {},
     "output_type": "display_data"
    },
    {
     "data": {
      "application/vnd.jupyter.widget-view+json": {
       "model_id": "",
       "version_major": 2,
       "version_minor": 0
      },
      "text/plain": [
       "FloatProgress(value=0.0, bar_style='info', description='Progress:', layout=Layout(height='25px', width='50%'),…"
      ]
     },
     "metadata": {},
     "output_type": "display_data"
    }
   ],
   "source": [
    "sys.path.insert(0,'/usr/local/lib/python3.7/site-packages')"
   ]
  },
  {
   "cell_type": "code",
   "execution_count": 2,
   "id": "c291de41-4611-4d48-964c-1233c2f31a85",
   "metadata": {
    "execution": {
     "iopub.execute_input": "2022-04-14T01:47:15.870356Z",
     "iopub.status.busy": "2022-04-14T01:47:15.869998Z",
     "iopub.status.idle": "2022-04-14T01:47:16.145781Z",
     "shell.execute_reply": "2022-04-14T01:47:16.144900Z",
     "shell.execute_reply.started": "2022-04-14T01:47:15.870304Z"
    },
    "tags": []
   },
   "outputs": [
    {
     "data": {
      "application/vnd.jupyter.widget-view+json": {
       "model_id": "56971f3132de4193891d017bf87907fe",
       "version_major": 2,
       "version_minor": 0
      },
      "text/plain": [
       "VBox()"
      ]
     },
     "metadata": {},
     "output_type": "display_data"
    },
    {
     "data": {
      "application/vnd.jupyter.widget-view+json": {
       "model_id": "",
       "version_major": 2,
       "version_minor": 0
      },
      "text/plain": [
       "FloatProgress(value=0.0, bar_style='info', description='Progress:', layout=Layout(height='25px', width='50%'),…"
      ]
     },
     "metadata": {},
     "output_type": "display_data"
    },
    {
     "name": "stderr",
     "output_type": "stream",
     "text": [
      "An error was encountered:\n",
      "Matplotlib requires numpy>=1.17; you have 1.16.5\n",
      "Traceback (most recent call last):\n",
      "  File \"/usr/local/lib64/python3.7/site-packages/matplotlib/__init__.py\", line 208, in <module>\n",
      "    _check_versions()\n",
      "  File \"/usr/local/lib64/python3.7/site-packages/matplotlib/__init__.py\", line 204, in _check_versions\n",
      "    raise ImportError(f\"Matplotlib requires {modname}>={minver}; \"\n",
      "ImportError: Matplotlib requires numpy>=1.17; you have 1.16.5\n",
      "\n"
     ]
    }
   ],
   "source": [
    "import matplotlib"
   ]
  },
  {
   "cell_type": "code",
   "execution_count": 27,
   "id": "c5271cbf-6994-401a-a4b1-0648f9654a0e",
   "metadata": {
    "execution": {
     "iopub.execute_input": "2022-04-13T22:43:17.338502Z",
     "iopub.status.busy": "2022-04-13T22:43:17.338255Z",
     "iopub.status.idle": "2022-04-13T22:43:19.768999Z",
     "shell.execute_reply": "2022-04-13T22:43:19.768223Z",
     "shell.execute_reply.started": "2022-04-13T22:43:17.338477Z"
    }
   },
   "outputs": [
    {
     "data": {
      "application/vnd.jupyter.widget-view+json": {
       "model_id": "5330105cd8674c5fad428d4feb16bb3e",
       "version_major": 2,
       "version_minor": 0
      },
      "text/plain": [
       "VBox()"
      ]
     },
     "metadata": {},
     "output_type": "display_data"
    },
    {
     "data": {
      "application/vnd.jupyter.widget-view+json": {
       "model_id": "",
       "version_major": 2,
       "version_minor": 0
      },
      "text/plain": [
       "FloatProgress(value=0.0, bar_style='info', description='Progress:', layout=Layout(height='25px', width='50%'),…"
      ]
     },
     "metadata": {},
     "output_type": "display_data"
    }
   ],
   "source": [
    "columns = [\"language\",\"users_count\"]\n",
    "data = [(\"Java\", \"20000\"), (\"Python\", \"100000\"), (\"Scala\", \"3000\")]\n",
    "\n",
    "df = spark.createDataFrame(data).toDF(*columns)"
   ]
  },
  {
   "cell_type": "code",
   "execution_count": 30,
   "id": "ed52283b-5ecc-477e-84de-99100c5f4cfc",
   "metadata": {
    "execution": {
     "iopub.execute_input": "2022-04-13T22:45:50.800261Z",
     "iopub.status.busy": "2022-04-13T22:45:50.799998Z",
     "iopub.status.idle": "2022-04-13T22:46:02.341700Z",
     "shell.execute_reply": "2022-04-13T22:46:02.341160Z",
     "shell.execute_reply.started": "2022-04-13T22:45:50.800235Z"
    },
    "tags": []
   },
   "outputs": [
    {
     "data": {
      "application/vnd.jupyter.widget-view+json": {
       "model_id": "",
       "version_major": 2,
       "version_minor": 0
      },
      "text/plain": [
       "FloatProgress(value=0.0, bar_style='info', description='Progress:', layout=Layout(height='25px', width='50%'),…"
      ]
     },
     "metadata": {},
     "output_type": "display_data"
    },
    {
     "data": {
      "application/vnd.jupyter.widget-view+json": {
       "model_id": "f3d14e42e5334a46b23f2809e5689453",
       "version_major": 2,
       "version_minor": 0
      },
      "text/plain": [
       "VBox(children=(HBox(children=(HTML(value='Type:'), Button(description='Table', layout=Layout(width='70px'), st…"
      ]
     },
     "metadata": {},
     "output_type": "display_data"
    },
    {
     "data": {
      "application/vnd.jupyter.widget-view+json": {
       "model_id": "7f9afba25781448fa28782bf3c64e2c6",
       "version_major": 2,
       "version_minor": 0
      },
      "text/plain": [
       "Output()"
      ]
     },
     "metadata": {},
     "output_type": "display_data"
    }
   ],
   "source": [
    "%%display \n",
    "df"
   ]
  },
  {
   "cell_type": "code",
   "execution_count": 31,
   "id": "7441b471-9834-4ceb-95ad-e51ebc910f4f",
   "metadata": {
    "execution": {
     "iopub.execute_input": "2022-04-13T22:49:11.639941Z",
     "iopub.status.busy": "2022-04-13T22:49:11.639713Z",
     "iopub.status.idle": "2022-04-13T22:49:11.786704Z",
     "shell.execute_reply": "2022-04-13T22:49:11.785815Z",
     "shell.execute_reply.started": "2022-04-13T22:49:11.639917Z"
    },
    "tags": []
   },
   "outputs": [
    {
     "data": {
      "text/html": [
       "Current session configs: <tt>{'proxyUser': 'user_mherzog01', 'conf': {'spark.pyspark.python': 'python3', 'spark.pyspark.virtualenv.enabled': 'true', 'spark.pyspark.virtualenv.type': 'native', 'spark.pyspark.virtualenv.bin.path': '/usr/bin/virtualenv'}, 'kind': 'pyspark'}</tt><br>"
      ],
      "text/plain": [
       "<IPython.core.display.HTML object>"
      ]
     },
     "metadata": {},
     "output_type": "display_data"
    },
    {
     "data": {
      "text/html": [
       "<table>\n",
       "<tr><th>ID</th><th>YARN Application ID</th><th>Kind</th><th>State</th><th>Spark UI</th><th>Driver log</th><th>Current session?</th></tr><tr><td>1</td><td>application_1649886739542_0003</td><td>pyspark</td><td>idle</td><td><a target=\"_blank\" href=\"http://ip-172-31-22-43.us-east-2.compute.internal:20888/proxy/application_1649886739542_0003/\" class=\"emr-proxy-link\" emr-resource=\"j-R01V9M0V3HK7\n",
       "\" application-id=\"application_1649886739542_0003\">Link</a></td><td><a target=\"_blank\" href=\"http://ip-172-31-19-56.us-east-2.compute.internal:8042/node/containerlogs/container_1649886739542_0003_01_000001/livy\" >Link</a></td><td></td></tr><tr><td>2</td><td>application_1649886739542_0004</td><td>pyspark</td><td>idle</td><td><a target=\"_blank\" href=\"http://ip-172-31-22-43.us-east-2.compute.internal:20888/proxy/application_1649886739542_0004/\" class=\"emr-proxy-link\" emr-resource=\"j-R01V9M0V3HK7\n",
       "\" application-id=\"application_1649886739542_0004\">Link</a></td><td><a target=\"_blank\" href=\"http://ip-172-31-31-242.us-east-2.compute.internal:8042/node/containerlogs/container_1649886739542_0004_01_000001/livy\" >Link</a></td><td></td></tr><tr><td>3</td><td>application_1649886739542_0005</td><td>pyspark</td><td>idle</td><td><a target=\"_blank\" href=\"http://ip-172-31-22-43.us-east-2.compute.internal:20888/proxy/application_1649886739542_0005/\" class=\"emr-proxy-link\" emr-resource=\"j-R01V9M0V3HK7\n",
       "\" application-id=\"application_1649886739542_0005\">Link</a></td><td><a target=\"_blank\" href=\"http://ip-172-31-31-242.us-east-2.compute.internal:8042/node/containerlogs/container_1649886739542_0005_01_000001/livy\" >Link</a></td><td>✔</td></tr></table>"
      ],
      "text/plain": [
       "<IPython.core.display.HTML object>"
      ]
     },
     "metadata": {},
     "output_type": "display_data"
    }
   ],
   "source": [
    "%%info"
   ]
  },
  {
   "cell_type": "code",
   "execution_count": 1,
   "id": "53f45d11-35f7-4e96-8d03-27e5deef95f1",
   "metadata": {
    "execution": {
     "iopub.execute_input": "2022-04-14T01:46:16.894972Z",
     "iopub.status.busy": "2022-04-14T01:46:16.894628Z",
     "iopub.status.idle": "2022-04-14T01:46:51.061801Z",
     "shell.execute_reply": "2022-04-14T01:46:51.061172Z",
     "shell.execute_reply.started": "2022-04-14T01:46:16.894932Z"
    },
    "tags": []
   },
   "outputs": [
    {
     "data": {
      "application/vnd.jupyter.widget-view+json": {
       "model_id": "ce021e4c9101475db56279c9814d5c9c",
       "version_major": 2,
       "version_minor": 0
      },
      "text/plain": [
       "VBox()"
      ]
     },
     "metadata": {},
     "output_type": "display_data"
    },
    {
     "name": "stdout",
     "output_type": "stream",
     "text": [
      "Starting Spark application\n"
     ]
    },
    {
     "data": {
      "text/html": [
       "<table>\n",
       "<tr><th>ID</th><th>YARN Application ID</th><th>Kind</th><th>State</th><th>Spark UI</th><th>Driver log</th><th>Current session?</th></tr><tr><td>10</td><td>application_1649886739542_0012</td><td>pyspark</td><td>idle</td><td><a target=\"_blank\" href=\"http://ip-172-31-22-43.us-east-2.compute.internal:20888/proxy/application_1649886739542_0012/\" class=\"emr-proxy-link\" emr-resource=\"j-R01V9M0V3HK7\n",
       "\" application-id=\"application_1649886739542_0012\">Link</a></td><td><a target=\"_blank\" href=\"http://ip-172-31-19-56.us-east-2.compute.internal:8042/node/containerlogs/container_1649886739542_0012_01_000001/livy\" >Link</a></td><td>✔</td></tr></table>"
      ],
      "text/plain": [
       "<IPython.core.display.HTML object>"
      ]
     },
     "metadata": {},
     "output_type": "display_data"
    },
    {
     "data": {
      "application/vnd.jupyter.widget-view+json": {
       "model_id": "",
       "version_major": 2,
       "version_minor": 0
      },
      "text/plain": [
       "FloatProgress(value=0.0, bar_style='info', description='Progress:', layout=Layout(height='25px', width='50%'),…"
      ]
     },
     "metadata": {},
     "output_type": "display_data"
    },
    {
     "name": "stdout",
     "output_type": "stream",
     "text": [
      "SparkSession available as 'spark'.\n"
     ]
    },
    {
     "data": {
      "application/vnd.jupyter.widget-view+json": {
       "model_id": "",
       "version_major": 2,
       "version_minor": 0
      },
      "text/plain": [
       "FloatProgress(value=0.0, bar_style='info', description='Progress:', layout=Layout(height='25px', width='50%'),…"
      ]
     },
     "metadata": {},
     "output_type": "display_data"
    },
    {
     "name": "stdout",
     "output_type": "stream",
     "text": [
      "Requirement already satisfied: matplotlib in /usr/local/lib64/python3.7/site-packages\n",
      "Requirement already satisfied: pyparsing>=2.2.1 in /usr/local/lib/python3.7/site-packages (from matplotlib)\n",
      "Requirement already satisfied: packaging>=20.0 in /usr/local/lib64/python3.7/site-packages (from matplotlib)\n",
      "Requirement already satisfied: python-dateutil>=2.7 in /usr/local/lib/python3.7/site-packages (from matplotlib)\n",
      "Requirement already satisfied: pillow>=6.2.0 in /usr/local/lib64/python3.7/site-packages (from matplotlib)\n",
      "Requirement already satisfied: cycler>=0.10 in /usr/local/lib/python3.7/site-packages (from matplotlib)\n",
      "Requirement already satisfied: fonttools>=4.22.0 in /usr/local/lib/python3.7/site-packages (from matplotlib)\n",
      "Requirement already satisfied: kiwisolver>=1.0.1 in /usr/local/lib64/python3.7/site-packages (from matplotlib)\n",
      "Requirement already satisfied: numpy>=1.17 in /usr/local/lib64/python3.7/site-packages (from matplotlib)\n",
      "Requirement already satisfied: six>=1.5 in /usr/local/lib/python3.7/site-packages (from python-dateutil>=2.7->matplotlib)\n",
      "Requirement already satisfied: typing-extensions; python_version < \"3.8\" in /usr/local/lib64/python3.7/site-packages (from kiwisolver>=1.0.1->matplotlib)\n",
      "\n",
      "You are using pip version 9.0.1, however version 22.0.4 is available.\n",
      "You should consider upgrading via the 'pip install --upgrade pip' command."
     ]
    }
   ],
   "source": [
    "sc.install_pypi_package(\"matplotlib\")"
   ]
  },
  {
   "cell_type": "code",
   "execution_count": 2,
   "id": "2087691d-46ce-480e-ad15-54825c62052d",
   "metadata": {
    "execution": {
     "iopub.execute_input": "2022-04-14T01:47:15.870356Z",
     "iopub.status.busy": "2022-04-14T01:47:15.869998Z",
     "iopub.status.idle": "2022-04-14T01:47:16.145781Z",
     "shell.execute_reply": "2022-04-14T01:47:16.144900Z",
     "shell.execute_reply.started": "2022-04-14T01:47:15.870304Z"
    },
    "tags": []
   },
   "outputs": [
    {
     "data": {
      "application/vnd.jupyter.widget-view+json": {
       "model_id": "56971f3132de4193891d017bf87907fe",
       "version_major": 2,
       "version_minor": 0
      },
      "text/plain": [
       "VBox()"
      ]
     },
     "metadata": {},
     "output_type": "display_data"
    },
    {
     "data": {
      "application/vnd.jupyter.widget-view+json": {
       "model_id": "",
       "version_major": 2,
       "version_minor": 0
      },
      "text/plain": [
       "FloatProgress(value=0.0, bar_style='info', description='Progress:', layout=Layout(height='25px', width='50%'),…"
      ]
     },
     "metadata": {},
     "output_type": "display_data"
    },
    {
     "name": "stderr",
     "output_type": "stream",
     "text": [
      "An error was encountered:\n",
      "Matplotlib requires numpy>=1.17; you have 1.16.5\n",
      "Traceback (most recent call last):\n",
      "  File \"/usr/local/lib64/python3.7/site-packages/matplotlib/__init__.py\", line 208, in <module>\n",
      "    _check_versions()\n",
      "  File \"/usr/local/lib64/python3.7/site-packages/matplotlib/__init__.py\", line 204, in _check_versions\n",
      "    raise ImportError(f\"Matplotlib requires {modname}>={minver}; \"\n",
      "ImportError: Matplotlib requires numpy>=1.17; you have 1.16.5\n",
      "\n"
     ]
    }
   ],
   "source": [
    "import matplotlib"
   ]
  }
 ],
 "metadata": {
  "kernelspec": {
   "display_name": "PySpark",
   "language": "",
   "name": "pysparkkernel"
  },
  "language_info": {
   "codemirror_mode": {
    "name": "python",
    "version": 3
   },
   "mimetype": "text/x-python",
   "name": "pyspark",
   "pygments_lexer": "python3"
  }
 },
 "nbformat": 4,
 "nbformat_minor": 5
}
