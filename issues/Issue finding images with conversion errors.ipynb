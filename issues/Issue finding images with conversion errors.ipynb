{
 "cells": [
  {
   "cell_type": "code",
   "execution_count": 1,
   "id": "17aa5a4c-c74f-489a-aa2f-749237f1bf56",
   "metadata": {
    "execution": {
     "iopub.execute_input": "2022-04-20T04:11:35.149387Z",
     "iopub.status.busy": "2022-04-20T04:11:35.149159Z",
     "iopub.status.idle": "2022-04-20T04:19:40.400011Z",
     "shell.execute_reply": "2022-04-20T04:19:40.399223Z",
     "shell.execute_reply.started": "2022-04-20T04:11:35.149362Z"
    },
    "tags": []
   },
   "outputs": [
    {
     "data": {
      "application/vnd.jupyter.widget-view+json": {
       "model_id": "4546ebf3cf8c4114ab924e977c07a279",
       "version_major": 2,
       "version_minor": 0
      },
      "text/plain": [
       "VBox()"
      ]
     },
     "metadata": {},
     "output_type": "display_data"
    },
    {
     "name": "stdout",
     "output_type": "stream",
     "text": [
      "Starting Spark application\n"
     ]
    },
    {
     "data": {
      "text/html": [
       "<table>\n",
       "<tr><th>ID</th><th>YARN Application ID</th><th>Kind</th><th>State</th><th>Spark UI</th><th>Driver log</th><th>Current session?</th></tr><tr><td>4</td><td>application_1650412208045_0006</td><td>pyspark</td><td>idle</td><td><a target=\"_blank\" href=\"http://ip-172-31-22-251.us-east-2.compute.internal:20888/proxy/application_1650412208045_0006/\" class=\"emr-proxy-link\" emr-resource=\"j-2UAFSXFEUPG7O\n",
       "\" application-id=\"application_1650412208045_0006\">Link</a></td><td><a target=\"_blank\" href=\"http://ip-172-31-21-91.us-east-2.compute.internal:8042/node/containerlogs/container_1650412208045_0006_01_000001/livy\" >Link</a></td><td>✔</td></tr></table>"
      ],
      "text/plain": [
       "<IPython.core.display.HTML object>"
      ]
     },
     "metadata": {},
     "output_type": "display_data"
    },
    {
     "data": {
      "application/vnd.jupyter.widget-view+json": {
       "model_id": "",
       "version_major": 2,
       "version_minor": 0
      },
      "text/plain": [
       "FloatProgress(value=0.0, bar_style='info', description='Progress:', layout=Layout(height='25px', width='50%'),…"
      ]
     },
     "metadata": {},
     "output_type": "display_data"
    },
    {
     "name": "stdout",
     "output_type": "stream",
     "text": [
      "SparkSession available as 'spark'.\n"
     ]
    },
    {
     "data": {
      "application/vnd.jupyter.widget-view+json": {
       "model_id": "",
       "version_major": 2,
       "version_minor": 0
      },
      "text/plain": [
       "FloatProgress(value=0.0, bar_style='info', description='Progress:', layout=Layout(height='25px', width='50%'),…"
      ]
     },
     "metadata": {},
     "output_type": "display_data"
    },
    {
     "name": "stdout",
     "output_type": "stream",
     "text": [
      "root\n",
      " |-- image: struct (nullable = true)\n",
      " |    |-- origin: string (nullable = true)\n",
      " |    |-- height: integer (nullable = true)\n",
      " |    |-- width: integer (nullable = true)\n",
      " |    |-- nChannels: integer (nullable = true)\n",
      " |    |-- mode: integer (nullable = true)\n",
      " |    |-- data: binary (nullable = true)\n",
      "\n",
      "27288"
     ]
    }
   ],
   "source": [
    "# https://sparkbyexamples.com/spark/spark-read-binary-file-into-dataframe/\n",
    "df = spark.read.format(\"image\").option(\"recursiveFileLookup\", True).load(\"s3://multimedia-commons/data/images/{00*,01*}\")\n",
    "df.printSchema()\n",
    "df.count()"
   ]
  },
  {
   "cell_type": "markdown",
   "id": "55f6a929-6f27-4bae-b744-119f7c5bf8d6",
   "metadata": {},
   "source": [
    "## Use the built-in ```toNDArray``` function"
   ]
  },
  {
   "cell_type": "code",
   "execution_count": 2,
   "id": "9efc654e-33e7-494f-82a2-f37013877a2c",
   "metadata": {
    "execution": {
     "iopub.execute_input": "2022-04-20T04:19:40.402763Z",
     "iopub.status.busy": "2022-04-20T04:19:40.402517Z",
     "iopub.status.idle": "2022-04-20T04:20:37.834992Z",
     "shell.execute_reply": "2022-04-20T04:20:37.834288Z",
     "shell.execute_reply.started": "2022-04-20T04:19:40.402735Z"
    },
    "tags": []
   },
   "outputs": [
    {
     "data": {
      "application/vnd.jupyter.widget-view+json": {
       "model_id": "757248df000040f7b9091d7fbd1dc335",
       "version_major": 2,
       "version_minor": 0
      },
      "text/plain": [
       "VBox()"
      ]
     },
     "metadata": {},
     "output_type": "display_data"
    },
    {
     "data": {
      "application/vnd.jupyter.widget-view+json": {
       "model_id": "",
       "version_major": 2,
       "version_minor": 0
      },
      "text/plain": [
       "FloatProgress(value=0.0, bar_style='info', description='Progress:', layout=Layout(height='25px', width='50%'),…"
      ]
     },
     "metadata": {},
     "output_type": "display_data"
    },
    {
     "name": "stdout",
     "output_type": "stream",
     "text": [
      "Image fields = ['origin', 'height', 'width', 'nChannels', 'mode', 'data']\n",
      "+--------------------+--------------------+\n",
      "|               image|                vecs|\n",
      "+--------------------+--------------------+\n",
      "|{s3://multimedia-...|[197.0,198.0,198....|\n",
      "|{s3://multimedia-...|                null|\n",
      "|{s3://multimedia-...|[0.0,149.0,128.0,...|\n",
      "|{s3://multimedia-...|[40.0,52.0,153.0,...|\n",
      "|{s3://multimedia-...|[127.0,111.0,229....|\n",
      "|{s3://multimedia-...|[42.0,143.0,128.0...|\n",
      "|{s3://multimedia-...|[253.0,253.0,253....|\n",
      "|{s3://multimedia-...|[14.0,10.0,9.0,10...|\n",
      "|{s3://multimedia-...|[45.0,108.0,52.0,...|\n",
      "|{s3://multimedia-...|[104.0,53.0,33.0,...|\n",
      "|{s3://multimedia-...|[0.0,0.0,0.0,0.0,...|\n",
      "|{s3://multimedia-...|[209.0,197.0,101....|\n",
      "|{s3://multimedia-...|[118.0,100.0,71.0...|\n",
      "|{s3://multimedia-...|[244.0,248.0,253....|\n",
      "|{s3://multimedia-...|[238.0,250.0,254....|\n",
      "|{s3://multimedia-...|[131.0,220.0,217....|\n",
      "|{s3://multimedia-...|[219.0,194.0,174....|\n",
      "|{s3://multimedia-...|[1.0,1.0,1.0,0.0,...|\n",
      "|{s3://multimedia-...|[0.0,0.0,36.0,0.0...|\n",
      "|{s3://multimedia-...|[20.0,119.0,71.0,...|\n",
      "+--------------------+--------------------+\n",
      "only showing top 20 rows"
     ]
    }
   ],
   "source": [
    "# https://stackoverflow.com/a/69215982/11262633\n",
    "import pyspark.sql.functions as F\n",
    "from pyspark.ml.image import ImageSchema\n",
    "from pyspark.ml.linalg import DenseVector, VectorUDT\n",
    "\n",
    "@F.udf(returnType=VectorUDT())\n",
    "def img2vec(x):\n",
    "    try:\n",
    "        image_np = DenseVector(ImageSchema.toNDArray(x).flatten())\n",
    "    except:\n",
    "        image_np = None\n",
    "    return image_np\n",
    "\n",
    "print(f'Image fields = {ImageSchema.imageFields}')\n",
    "df_new = df.withColumn('vecs',img2vec('image'))\n",
    "df_new.show()\n",
    "#df_new.select('vecs').first().asDict().keys()"
   ]
  },
  {
   "cell_type": "code",
   "execution_count": 3,
   "id": "557811fe-53e1-4cb9-92bb-4d51ac00c924",
   "metadata": {
    "execution": {
     "iopub.execute_input": "2022-04-20T04:20:37.836238Z",
     "iopub.status.busy": "2022-04-20T04:20:37.836067Z",
     "iopub.status.idle": "2022-04-20T05:21:21.850931Z",
     "shell.execute_reply": "2022-04-20T05:21:21.849976Z",
     "shell.execute_reply.started": "2022-04-20T04:20:37.836217Z"
    },
    "tags": []
   },
   "outputs": [
    {
     "data": {
      "application/vnd.jupyter.widget-view+json": {
       "model_id": "fbdd57ca4046416b92d692b9cc751a44",
       "version_major": 2,
       "version_minor": 0
      },
      "text/plain": [
       "VBox()"
      ]
     },
     "metadata": {},
     "output_type": "display_data"
    },
    {
     "data": {
      "application/vnd.jupyter.widget-view+json": {
       "model_id": "2fe7e7568a254b77a9edd27d41033f46",
       "version_major": 2,
       "version_minor": 0
      },
      "text/plain": [
       "FloatProgress(value=0.0, bar_style='info', description='Progress:', layout=Layout(height='25px', width='50%'),…"
      ]
     },
     "metadata": {},
     "output_type": "display_data"
    },
    {
     "name": "stderr",
     "output_type": "stream",
     "text": [
      "An error was encountered:\n",
      "Invalid status code '400' from http://localhost:8998/sessions/4/statements/3 with error payload: {\"msg\":\"requirement failed: Session isn't active.\"}\n"
     ]
    }
   ],
   "source": [
    "df_new.where(df_new.vecs.isNull()).select('image.origin').show(truncate=False)"
   ]
  },
  {
   "cell_type": "code",
   "execution_count": 5,
   "id": "6e68f305-cab4-4bc8-8715-b61c2349db75",
   "metadata": {
    "execution": {
     "iopub.execute_input": "2022-04-20T04:11:10.301084Z",
     "iopub.status.busy": "2022-04-20T04:11:10.300850Z",
     "iopub.status.idle": "2022-04-20T04:11:10.334877Z",
     "shell.execute_reply": "2022-04-20T04:11:10.334291Z",
     "shell.execute_reply.started": "2022-04-20T04:11:10.301058Z"
    },
    "tags": []
   },
   "outputs": [
    {
     "data": {
      "application/vnd.jupyter.widget-view+json": {
       "model_id": "4ac38ab13b2a41e8bfcb5c9378b06cfc",
       "version_major": 2,
       "version_minor": 0
      },
      "text/plain": [
       "VBox()"
      ]
     },
     "metadata": {},
     "output_type": "display_data"
    },
    {
     "name": "stderr",
     "output_type": "stream",
     "text": [
      "An error was encountered:\n",
      "Invalid status code '404' from http://localhost:8998/sessions/2 with error payload: {\"msg\":\"Session '2' not found.\"}\n"
     ]
    }
   ],
   "source": [
    "df_new.count()"
   ]
  }
 ],
 "metadata": {
  "kernelspec": {
   "display_name": "PySpark",
   "language": "",
   "name": "pysparkkernel"
  },
  "language_info": {
   "codemirror_mode": {
    "name": "python",
    "version": 3
   },
   "mimetype": "text/x-python",
   "name": "pyspark",
   "pygments_lexer": "python3"
  }
 },
 "nbformat": 4,
 "nbformat_minor": 5
}
