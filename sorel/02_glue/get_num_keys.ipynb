{
 "cells": [
  {
   "cell_type": "code",
   "execution_count": 4,
   "metadata": {},
   "outputs": [],
   "source": [
    "import boto3\n",
    "from typing import List"
   ]
  },
  {
   "cell_type": "code",
   "execution_count": 1,
   "metadata": {},
   "outputs": [],
   "source": [
    "BUCKET = 'sorel-20m'\n",
    "PREFIX = '09-DEC-2020/binaries'\n",
    "BUCKET_PATH = f's3://{BUCKET}'"
   ]
  },
  {
   "cell_type": "code",
   "execution_count": 16,
   "metadata": {},
   "outputs": [
    {
     "name": "stdout",
     "output_type": "stream",
     "text": [
      "618932 ['s3://sorel-20m/09-DEC-2020/binaries/0000029bfead495a003e43a7ab8406c6209ffb7d5e59dd212607aa358bfd66ea', 's3://sorel-20m/09-DEC-2020/binaries/000003b99c3d4b9860ad0b0ca43450603e5322f2cca3c9b3d543a2d6440305a0', 's3://sorel-20m/09-DEC-2020/binaries/00000533148c26bcc09ab44b1acafe32dde93773d4a7e3dbd06c8232db5e437f', 's3://sorel-20m/09-DEC-2020/binaries/000005920ff4eb85cfc74fd51ef1d5d7518dc16f6cb5c53f94f619473321d594', 's3://sorel-20m/09-DEC-2020/binaries/000008cf1b5ecbed74f31b45e96e0fb6566b6af75a5cd87335aaa91c20a9b822', 's3://sorel-20m/09-DEC-2020/binaries/000008e2ff1b8d64e3f81cbc456d4d51b6e967af0267d5486d4a562df291d0a6', 's3://sorel-20m/09-DEC-2020/binaries/00000b37a3d68384e9ce2c8f969ba3d839514ec6d3b234ed2285dff2aee644bd', 's3://sorel-20m/09-DEC-2020/binaries/00000cae80bac4c4591dd2f4451d0d1543ecd8d62eb8bcdc22a6bd45ba738d7d', 's3://sorel-20m/09-DEC-2020/binaries/0000119640135ca4b5ee0d21459a1f841b9c030a88513581a272fc4740d78f48', 's3://sorel-20m/09-DEC-2020/binaries/0000130e0c5d788a51b1c7e519b0883f0d34485076f9ceb11c1cda4929dffb31']\n"
     ]
    }
   ],
   "source": [
    "filter_chars = '0'\n",
    "\n",
    "boto3_session = boto3.Session(profile_name='personal')\n",
    "s3 = boto3_session.resource('s3')\n",
    "\n",
    "def get_all_filepaths(filter_chars: str, bucket: str, prefix: str) -> List[str]:\n",
    "    bucket = s3.Bucket(bucket)\n",
    "    prefix = f'{prefix}/{filter_chars}'\n",
    "    objects = bucket.objects.filter(Prefix=prefix)\n",
    "    key_list = [f'{BUCKET_PATH}/{o.key}' for o in objects]\n",
    "    return key_list\n",
    "\n",
    "paths = get_all_filepaths(filter_chars, BUCKET, PREFIX)\n",
    "\n",
    "print(len(paths), paths[:10])"
   ]
  },
  {
   "attachments": {},
   "cell_type": "markdown",
   "metadata": {},
   "source": [
    "Delete target"
   ]
  },
  {
   "cell_type": "code",
   "execution_count": 11,
   "metadata": {},
   "outputs": [],
   "source": [
    "bucket = s3.Bucket('sorel-20m-demo')\n",
    "objects = bucket.objects.filter(Prefix='tmp/app_output')"
   ]
  },
  {
   "cell_type": "code",
   "execution_count": 12,
   "metadata": {},
   "outputs": [
    {
     "data": {
      "text/plain": [
       "93"
      ]
     },
     "execution_count": 12,
     "metadata": {},
     "output_type": "execute_result"
    }
   ],
   "source": [
    "len([o for o in objects])"
   ]
  },
  {
   "cell_type": "code",
   "execution_count": 14,
   "metadata": {},
   "outputs": [
    {
     "name": "stdout",
     "output_type": "stream",
     "text": [
      "tmp/app_output/part-00000-04d27cf9-4c67-4111-8ae5-b0eef4a68a1f-c000.csv\n",
      "tmp/app_output/part-00001-04d27cf9-4c67-4111-8ae5-b0eef4a68a1f-c000.csv\n",
      "tmp/app_output/part-00002-04d27cf9-4c67-4111-8ae5-b0eef4a68a1f-c000.csv\n",
      "tmp/app_output/part-00003-04d27cf9-4c67-4111-8ae5-b0eef4a68a1f-c000.csv\n",
      "tmp/app_output/part-00004-04d27cf9-4c67-4111-8ae5-b0eef4a68a1f-c000.csv\n",
      "tmp/app_output/part-00005-04d27cf9-4c67-4111-8ae5-b0eef4a68a1f-c000.csv\n",
      "tmp/app_output/part-00006-04d27cf9-4c67-4111-8ae5-b0eef4a68a1f-c000.csv\n",
      "tmp/app_output/part-00007-04d27cf9-4c67-4111-8ae5-b0eef4a68a1f-c000.csv\n",
      "tmp/app_output/part-00008-04d27cf9-4c67-4111-8ae5-b0eef4a68a1f-c000.csv\n",
      "tmp/app_output/part-00009-04d27cf9-4c67-4111-8ae5-b0eef4a68a1f-c000.csv\n",
      "tmp/app_output/part-00010-04d27cf9-4c67-4111-8ae5-b0eef4a68a1f-c000.csv\n",
      "tmp/app_output/part-00011-04d27cf9-4c67-4111-8ae5-b0eef4a68a1f-c000.csv\n",
      "tmp/app_output/part-00012-04d27cf9-4c67-4111-8ae5-b0eef4a68a1f-c000.csv\n",
      "tmp/app_output/part-00013-04d27cf9-4c67-4111-8ae5-b0eef4a68a1f-c000.csv\n",
      "tmp/app_output/part-00014-04d27cf9-4c67-4111-8ae5-b0eef4a68a1f-c000.csv\n",
      "tmp/app_output/part-00015-04d27cf9-4c67-4111-8ae5-b0eef4a68a1f-c000.csv\n",
      "tmp/app_output/part-00016-04d27cf9-4c67-4111-8ae5-b0eef4a68a1f-c000.csv\n",
      "tmp/app_output/part-00017-04d27cf9-4c67-4111-8ae5-b0eef4a68a1f-c000.csv\n",
      "tmp/app_output/part-00018-04d27cf9-4c67-4111-8ae5-b0eef4a68a1f-c000.csv\n",
      "tmp/app_output/part-00019-04d27cf9-4c67-4111-8ae5-b0eef4a68a1f-c000.csv\n",
      "tmp/app_output/part-00020-04d27cf9-4c67-4111-8ae5-b0eef4a68a1f-c000.csv\n",
      "tmp/app_output/part-00021-04d27cf9-4c67-4111-8ae5-b0eef4a68a1f-c000.csv\n",
      "tmp/app_output/part-00022-04d27cf9-4c67-4111-8ae5-b0eef4a68a1f-c000.csv\n",
      "tmp/app_output/part-00023-04d27cf9-4c67-4111-8ae5-b0eef4a68a1f-c000.csv\n",
      "tmp/app_output/part-00024-04d27cf9-4c67-4111-8ae5-b0eef4a68a1f-c000.csv\n",
      "tmp/app_output/part-00025-04d27cf9-4c67-4111-8ae5-b0eef4a68a1f-c000.csv\n",
      "tmp/app_output/part-00026-04d27cf9-4c67-4111-8ae5-b0eef4a68a1f-c000.csv\n",
      "tmp/app_output/part-00027-04d27cf9-4c67-4111-8ae5-b0eef4a68a1f-c000.csv\n",
      "tmp/app_output/part-00028-04d27cf9-4c67-4111-8ae5-b0eef4a68a1f-c000.csv\n",
      "tmp/app_output/part-00029-04d27cf9-4c67-4111-8ae5-b0eef4a68a1f-c000.csv\n",
      "tmp/app_output/part-00030-04d27cf9-4c67-4111-8ae5-b0eef4a68a1f-c000.csv\n",
      "tmp/app_output/part-00031-04d27cf9-4c67-4111-8ae5-b0eef4a68a1f-c000.csv\n",
      "tmp/app_output/part-00032-04d27cf9-4c67-4111-8ae5-b0eef4a68a1f-c000.csv\n",
      "tmp/app_output/part-00033-04d27cf9-4c67-4111-8ae5-b0eef4a68a1f-c000.csv\n",
      "tmp/app_output/part-00034-04d27cf9-4c67-4111-8ae5-b0eef4a68a1f-c000.csv\n",
      "tmp/app_output/part-00035-04d27cf9-4c67-4111-8ae5-b0eef4a68a1f-c000.csv\n",
      "tmp/app_output/part-00036-04d27cf9-4c67-4111-8ae5-b0eef4a68a1f-c000.csv\n",
      "tmp/app_output/part-00037-04d27cf9-4c67-4111-8ae5-b0eef4a68a1f-c000.csv\n",
      "tmp/app_output/part-00038-04d27cf9-4c67-4111-8ae5-b0eef4a68a1f-c000.csv\n",
      "tmp/app_output/part-00039-04d27cf9-4c67-4111-8ae5-b0eef4a68a1f-c000.csv\n",
      "tmp/app_output/part-00040-04d27cf9-4c67-4111-8ae5-b0eef4a68a1f-c000.csv\n",
      "tmp/app_output/part-00041-04d27cf9-4c67-4111-8ae5-b0eef4a68a1f-c000.csv\n",
      "tmp/app_output/part-00042-04d27cf9-4c67-4111-8ae5-b0eef4a68a1f-c000.csv\n",
      "tmp/app_output/part-00043-04d27cf9-4c67-4111-8ae5-b0eef4a68a1f-c000.csv\n",
      "tmp/app_output/part-00044-04d27cf9-4c67-4111-8ae5-b0eef4a68a1f-c000.csv\n",
      "tmp/app_output/part-00045-04d27cf9-4c67-4111-8ae5-b0eef4a68a1f-c000.csv\n",
      "tmp/app_output/part-00046-04d27cf9-4c67-4111-8ae5-b0eef4a68a1f-c000.csv\n",
      "tmp/app_output/part-00047-04d27cf9-4c67-4111-8ae5-b0eef4a68a1f-c000.csv\n",
      "tmp/app_output/part-00048-04d27cf9-4c67-4111-8ae5-b0eef4a68a1f-c000.csv\n",
      "tmp/app_output/part-00049-04d27cf9-4c67-4111-8ae5-b0eef4a68a1f-c000.csv\n",
      "tmp/app_output/part-00050-04d27cf9-4c67-4111-8ae5-b0eef4a68a1f-c000.csv\n",
      "tmp/app_output/part-00051-04d27cf9-4c67-4111-8ae5-b0eef4a68a1f-c000.csv\n",
      "tmp/app_output/part-00052-04d27cf9-4c67-4111-8ae5-b0eef4a68a1f-c000.csv\n",
      "tmp/app_output/part-00053-04d27cf9-4c67-4111-8ae5-b0eef4a68a1f-c000.csv\n",
      "tmp/app_output/part-00054-04d27cf9-4c67-4111-8ae5-b0eef4a68a1f-c000.csv\n",
      "tmp/app_output/part-00055-04d27cf9-4c67-4111-8ae5-b0eef4a68a1f-c000.csv\n",
      "tmp/app_output/part-00056-04d27cf9-4c67-4111-8ae5-b0eef4a68a1f-c000.csv\n",
      "tmp/app_output/part-00057-04d27cf9-4c67-4111-8ae5-b0eef4a68a1f-c000.csv\n",
      "tmp/app_output/part-00058-04d27cf9-4c67-4111-8ae5-b0eef4a68a1f-c000.csv\n",
      "tmp/app_output/part-00059-04d27cf9-4c67-4111-8ae5-b0eef4a68a1f-c000.csv\n",
      "tmp/app_output/part-00060-04d27cf9-4c67-4111-8ae5-b0eef4a68a1f-c000.csv\n",
      "tmp/app_output/part-00061-04d27cf9-4c67-4111-8ae5-b0eef4a68a1f-c000.csv\n",
      "tmp/app_output/part-00062-04d27cf9-4c67-4111-8ae5-b0eef4a68a1f-c000.csv\n",
      "tmp/app_output/part-00063-04d27cf9-4c67-4111-8ae5-b0eef4a68a1f-c000.csv\n",
      "tmp/app_output/part-00064-04d27cf9-4c67-4111-8ae5-b0eef4a68a1f-c000.csv\n",
      "tmp/app_output/part-00065-04d27cf9-4c67-4111-8ae5-b0eef4a68a1f-c000.csv\n",
      "tmp/app_output/part-00066-04d27cf9-4c67-4111-8ae5-b0eef4a68a1f-c000.csv\n",
      "tmp/app_output/part-00067-04d27cf9-4c67-4111-8ae5-b0eef4a68a1f-c000.csv\n",
      "tmp/app_output/part-00068-04d27cf9-4c67-4111-8ae5-b0eef4a68a1f-c000.csv\n",
      "tmp/app_output/part-00069-04d27cf9-4c67-4111-8ae5-b0eef4a68a1f-c000.csv\n",
      "tmp/app_output/part-00070-04d27cf9-4c67-4111-8ae5-b0eef4a68a1f-c000.csv\n",
      "tmp/app_output/part-00071-04d27cf9-4c67-4111-8ae5-b0eef4a68a1f-c000.csv\n",
      "tmp/app_output/part-00072-04d27cf9-4c67-4111-8ae5-b0eef4a68a1f-c000.csv\n",
      "tmp/app_output/part-00073-04d27cf9-4c67-4111-8ae5-b0eef4a68a1f-c000.csv\n",
      "tmp/app_output/part-00074-04d27cf9-4c67-4111-8ae5-b0eef4a68a1f-c000.csv\n",
      "tmp/app_output/part-00075-04d27cf9-4c67-4111-8ae5-b0eef4a68a1f-c000.csv\n",
      "tmp/app_output/part-00076-04d27cf9-4c67-4111-8ae5-b0eef4a68a1f-c000.csv\n",
      "tmp/app_output/part-00077-04d27cf9-4c67-4111-8ae5-b0eef4a68a1f-c000.csv\n",
      "tmp/app_output/part-00078-04d27cf9-4c67-4111-8ae5-b0eef4a68a1f-c000.csv\n",
      "tmp/app_output/part-00079-04d27cf9-4c67-4111-8ae5-b0eef4a68a1f-c000.csv\n",
      "tmp/app_output/part-00080-04d27cf9-4c67-4111-8ae5-b0eef4a68a1f-c000.csv\n",
      "tmp/app_output/part-00081-04d27cf9-4c67-4111-8ae5-b0eef4a68a1f-c000.csv\n",
      "tmp/app_output/part-00082-04d27cf9-4c67-4111-8ae5-b0eef4a68a1f-c000.csv\n",
      "tmp/app_output/part-00083-04d27cf9-4c67-4111-8ae5-b0eef4a68a1f-c000.csv\n",
      "tmp/app_output/part-00084-04d27cf9-4c67-4111-8ae5-b0eef4a68a1f-c000.csv\n",
      "tmp/app_output/part-00085-04d27cf9-4c67-4111-8ae5-b0eef4a68a1f-c000.csv\n",
      "tmp/app_output/part-00086-04d27cf9-4c67-4111-8ae5-b0eef4a68a1f-c000.csv\n",
      "tmp/app_output/part-00087-04d27cf9-4c67-4111-8ae5-b0eef4a68a1f-c000.csv\n",
      "tmp/app_output/part-00088-04d27cf9-4c67-4111-8ae5-b0eef4a68a1f-c000.csv\n",
      "tmp/app_output/part-00089-04d27cf9-4c67-4111-8ae5-b0eef4a68a1f-c000.csv\n",
      "tmp/app_output/part-00090-04d27cf9-4c67-4111-8ae5-b0eef4a68a1f-c000.csv\n",
      "tmp/app_output/part-00091-04d27cf9-4c67-4111-8ae5-b0eef4a68a1f-c000.csv\n",
      "tmp/app_output/part-00092-04d27cf9-4c67-4111-8ae5-b0eef4a68a1f-c000.csv\n"
     ]
    }
   ],
   "source": [
    "for o in objects:\n",
    "    print(o.key)\n",
    "    o.delete()"
   ]
  }
 ],
 "metadata": {
  "kernelspec": {
   "display_name": "GUIAutomation",
   "language": "python",
   "name": "python3"
  },
  "language_info": {
   "codemirror_mode": {
    "name": "ipython",
    "version": 3
   },
   "file_extension": ".py",
   "mimetype": "text/x-python",
   "name": "python",
   "nbconvert_exporter": "python",
   "pygments_lexer": "ipython3",
   "version": "3.8.10"
  },
  "orig_nbformat": 4
 },
 "nbformat": 4,
 "nbformat_minor": 2
}
