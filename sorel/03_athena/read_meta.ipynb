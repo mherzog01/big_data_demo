{
 "cells": [
  {
   "cell_type": "code",
   "execution_count": 1,
   "metadata": {},
   "outputs": [],
   "source": [
    "import sys"
   ]
  },
  {
   "cell_type": "code",
   "execution_count": 2,
   "metadata": {},
   "outputs": [],
   "source": [
    "sys.path.append('/home/ubuntu/proj/SOREL-20M')"
   ]
  },
  {
   "cell_type": "code",
   "execution_count": 12,
   "metadata": {},
   "outputs": [],
   "source": [
    "import sqlite3"
   ]
  },
  {
   "cell_type": "code",
   "execution_count": 14,
   "metadata": {},
   "outputs": [
    {
     "data": {
      "text/plain": [
       "[('de66443f0fc555753e64a34c99d9667abcf59dacca9198002aea7f5e60c43c6d',\n",
       "  0,\n",
       "  1483228800.0,\n",
       "  1,\n",
       "  0,\n",
       "  0,\n",
       "  0,\n",
       "  0,\n",
       "  0,\n",
       "  0,\n",
       "  0,\n",
       "  0,\n",
       "  0,\n",
       "  0,\n",
       "  0),\n",
       " ('047316c8118e6e4d088c4aaebab34a031e62ecc42ecefc4cf0c3d4f9eb91dc30',\n",
       "  1,\n",
       "  1483228860.0,\n",
       "  5,\n",
       "  0,\n",
       "  0,\n",
       "  0,\n",
       "  0,\n",
       "  0,\n",
       "  0,\n",
       "  0,\n",
       "  0,\n",
       "  0,\n",
       "  0,\n",
       "  0),\n",
       " ('d6953e9740b0b396650bfab9983c557a443bcdbad2d67a7db78adcc691b0dbb7',\n",
       "  0,\n",
       "  1483228860.0,\n",
       "  1,\n",
       "  0,\n",
       "  0,\n",
       "  0,\n",
       "  0,\n",
       "  0,\n",
       "  0,\n",
       "  0,\n",
       "  0,\n",
       "  0,\n",
       "  0,\n",
       "  0),\n",
       " ('7e4ee821a55bfe16596f2e99d4163fa77d455a4961407b595e10817524ebb4d5',\n",
       "  0,\n",
       "  1483228980.0,\n",
       "  1,\n",
       "  0,\n",
       "  0,\n",
       "  0,\n",
       "  0,\n",
       "  0,\n",
       "  0,\n",
       "  0,\n",
       "  0,\n",
       "  0,\n",
       "  0,\n",
       "  0),\n",
       " ('997990bb784a9689e4293d788964c6a76ea7a1ff369a616f887e5fe288485e13',\n",
       "  1,\n",
       "  1483229040.0,\n",
       "  6,\n",
       "  0,\n",
       "  0,\n",
       "  0,\n",
       "  0,\n",
       "  0,\n",
       "  0,\n",
       "  0,\n",
       "  0,\n",
       "  0,\n",
       "  0,\n",
       "  0),\n",
       " ('6916f667e0a88c25afe7319631416af1fe34571d1633eb71d47d5a16ae68a406',\n",
       "  0,\n",
       "  1483229040.0,\n",
       "  0,\n",
       "  0,\n",
       "  0,\n",
       "  0,\n",
       "  0,\n",
       "  0,\n",
       "  0,\n",
       "  0,\n",
       "  0,\n",
       "  0,\n",
       "  0,\n",
       "  0),\n",
       " ('1e2dd25e96deeffb2fd84d1b7f826b5f055224f5d0851181db822ef03ace8406',\n",
       "  0,\n",
       "  1483229040.0,\n",
       "  0,\n",
       "  0,\n",
       "  0,\n",
       "  0,\n",
       "  0,\n",
       "  0,\n",
       "  0,\n",
       "  0,\n",
       "  0,\n",
       "  0,\n",
       "  0,\n",
       "  0),\n",
       " ('79038f03df19471dc74e6f00bd9f42314aa39196e0586be85b5108e18fadad44',\n",
       "  0,\n",
       "  1483229040.0,\n",
       "  1,\n",
       "  0,\n",
       "  0,\n",
       "  0,\n",
       "  0,\n",
       "  0,\n",
       "  0,\n",
       "  0,\n",
       "  0,\n",
       "  0,\n",
       "  0,\n",
       "  0),\n",
       " ('0905e82dc1a94454e73517bd5ef2789ef4266b81a41190febf14e5550f72ed4f',\n",
       "  0,\n",
       "  1483229040.0,\n",
       "  0,\n",
       "  0,\n",
       "  0,\n",
       "  0,\n",
       "  0,\n",
       "  0,\n",
       "  0,\n",
       "  0,\n",
       "  0,\n",
       "  0,\n",
       "  0,\n",
       "  0),\n",
       " ('ec26e1048010d8f6d4289ef65ecfb76ff58579909c6677e9a5f328c2a0a8cf85',\n",
       "  0,\n",
       "  1483229100.0,\n",
       "  1,\n",
       "  0,\n",
       "  0,\n",
       "  0,\n",
       "  0,\n",
       "  0,\n",
       "  0,\n",
       "  0,\n",
       "  0,\n",
       "  0,\n",
       "  0,\n",
       "  0)]"
      ]
     },
     "execution_count": 14,
     "metadata": {},
     "output_type": "execute_result"
    }
   ],
   "source": [
    "metadb_path = '/home/ubuntu/proj/sorel-20m/processed-data/meta.db'\n",
    "#lmdb = dataset.LMDBReader('/home/ubuntu/proj/sorel-20m/processed-data/meta')\n",
    "\n",
    "#dataset = dataset.Dataset(metadb_path, None)\n",
    "conn = sqlite3.connect(metadb_path)\n",
    "sql = 'select * from meta'\n",
    "res = conn.execute(sql).fetchmany(10)\n",
    "res"
   ]
  },
  {
   "cell_type": "code",
   "execution_count": 25,
   "metadata": {},
   "outputs": [
    {
     "ename": "OperationalError",
     "evalue": "unable to open database file",
     "output_type": "error",
     "traceback": [
      "\u001b[0;31m---------------------------------------------------------------------------\u001b[0m",
      "\u001b[0;31mOperationalError\u001b[0m                          Traceback (most recent call last)",
      "\u001b[0;32m<ipython-input-25-fa1a85b2152d>\u001b[0m in \u001b[0;36m<module>\u001b[0;34m()\u001b[0m\n\u001b[1;32m      3\u001b[0m \u001b[0;34m\u001b[0m\u001b[0m\n\u001b[1;32m      4\u001b[0m \u001b[0;31m#dataset = dataset.Dataset(metadb_path, None)\u001b[0m\u001b[0;34m\u001b[0m\u001b[0;34m\u001b[0m\u001b[0;34m\u001b[0m\u001b[0m\n\u001b[0;32m----> 5\u001b[0;31m \u001b[0mconn\u001b[0m \u001b[0;34m=\u001b[0m \u001b[0msqlite3\u001b[0m\u001b[0;34m.\u001b[0m\u001b[0mconnect\u001b[0m\u001b[0;34m(\u001b[0m\u001b[0mmetadb_path\u001b[0m\u001b[0;34m)\u001b[0m\u001b[0;34m\u001b[0m\u001b[0;34m\u001b[0m\u001b[0m\n\u001b[0m\u001b[1;32m      6\u001b[0m \u001b[0msql\u001b[0m \u001b[0;34m=\u001b[0m \u001b[0;34m'select sha256 from meta'\u001b[0m\u001b[0;34m\u001b[0m\u001b[0;34m\u001b[0m\u001b[0m\n\u001b[1;32m      7\u001b[0m \u001b[0mres\u001b[0m \u001b[0;34m=\u001b[0m \u001b[0mconn\u001b[0m\u001b[0;34m.\u001b[0m\u001b[0mexecute\u001b[0m\u001b[0;34m(\u001b[0m\u001b[0msql\u001b[0m\u001b[0;34m)\u001b[0m\u001b[0;34m\u001b[0m\u001b[0;34m\u001b[0m\u001b[0m\n",
      "\u001b[0;31mOperationalError\u001b[0m: unable to open database file"
     ]
    }
   ],
   "source": [
    "metadb_path = 's3://sorel-20m-demo/data/processed-data/meta.db'\n",
    "#lmdb = dataset.LMDBReader('/home/ubuntu/proj/sorel-20m/processed-data/meta')\n",
    "\n",
    "#dataset = dataset.Dataset(metadb_path, None)\n",
    "conn = sqlite3.connect(metadb_path)\n",
    "sql = 'select sha256 from meta'\n",
    "res = conn.execute(sql).fetchmany(10)\n",
    "res"
   ]
  },
  {
   "cell_type": "code",
   "execution_count": 31,
   "metadata": {},
   "outputs": [
    {
     "name": "stdout",
     "output_type": "stream",
     "text": [
      "0\n",
      "1000000\n",
      "2000000\n",
      "3000000\n",
      "4000000\n",
      "5000000\n",
      "6000000\n",
      "7000000\n",
      "8000000\n",
      "9000000\n",
      "10000000\n",
      "11000000\n",
      "12000000\n",
      "13000000\n",
      "14000000\n",
      "15000000\n",
      "16000000\n",
      "17000000\n",
      "18000000\n",
      "19000000\n"
     ]
    }
   ],
   "source": [
    "metadb_path = '/home/ubuntu/proj/sorel-20m/processed-data/meta.db'\n",
    "\n",
    "conn = sqlite3.connect(metadb_path)\n",
    "sql = 'select sha256 from meta'\n",
    "res = conn.execute(sql)\n",
    "\n",
    "with open('/home/ubuntu/proj/sorel-demo/meta_sha256.txt', 'w') as f:\n",
    "    for i, row in enumerate(res):\n",
    "        f.write(row[0] + '\\n')\n",
    "        if i % 1000000 == 0:\n",
    "            print(i)"
   ]
  },
  {
   "cell_type": "code",
   "execution_count": null,
   "metadata": {},
   "outputs": [],
   "source": [
    "# Copy to s3 and remove"
   ]
  },
  {
   "cell_type": "code",
   "execution_count": 17,
   "metadata": {},
   "outputs": [],
   "source": [
    "import boto3"
   ]
  },
  {
   "cell_type": "code",
   "execution_count": 20,
   "metadata": {},
   "outputs": [
    {
     "name": "stderr",
     "output_type": "stream",
     "text": [
      "/home/ubuntu/miniconda3/envs/sorel/lib/python3.6/site-packages/boto3/compat.py:88: PythonDeprecationWarning: Boto3 will no longer support Python 3.6 starting May 30, 2022. To continue receiving service updates, bug fixes, and security updates please upgrade to Python 3.7 or later. More information can be found here: https://aws.amazon.com/blogs/developer/python-support-policy-updates-for-aws-sdks-and-tools/\n",
      "  warnings.warn(warning, PythonDeprecationWarning)\n"
     ]
    }
   ],
   "source": [
    "s3 = boto3.resource('s3')\n",
    "bucket = s3.Bucket('sorel-20m-demo')\n",
    "bucket.download_file('data/processed-data/meta.db', '/tmp/meta.db')\n",
    "! rm /tmp/meta.db"
   ]
  },
  {
   "cell_type": "code",
   "execution_count": 22,
   "metadata": {},
   "outputs": [
    {
     "name": "stderr",
     "output_type": "stream",
     "text": [
      "/home/ubuntu/miniconda3/envs/sorel/lib/python3.6/site-packages/boto3/compat.py:88: PythonDeprecationWarning: Boto3 will no longer support Python 3.6 starting May 30, 2022. To continue receiving service updates, bug fixes, and security updates please upgrade to Python 3.7 or later. More information can be found here: https://aws.amazon.com/blogs/developer/python-support-policy-updates-for-aws-sdks-and-tools/\n",
      "  warnings.warn(warning, PythonDeprecationWarning)\n"
     ]
    },
    {
     "data": {
      "text/plain": [
       "3788979200"
      ]
     },
     "execution_count": 22,
     "metadata": {},
     "output_type": "execute_result"
    }
   ],
   "source": [
    "import boto3\n",
    "\n",
    "# Public bucket\n",
    "s3_client = boto3.client('s3')\n",
    "s3_client.list_objects_v2(Bucket='sorel-20m', Prefix='09-DEC-2020/processed-data/meta.db')['Contents'][0]['Size']"
   ]
  },
  {
   "cell_type": "code",
   "execution_count": 23,
   "metadata": {},
   "outputs": [
    {
     "name": "stderr",
     "output_type": "stream",
     "text": [
      "/home/ubuntu/miniconda3/envs/sorel/lib/python3.6/site-packages/boto3/compat.py:88: PythonDeprecationWarning: Boto3 will no longer support Python 3.6 starting May 30, 2022. To continue receiving service updates, bug fixes, and security updates please upgrade to Python 3.7 or later. More information can be found here: https://aws.amazon.com/blogs/developer/python-support-policy-updates-for-aws-sdks-and-tools/\n",
      "  warnings.warn(warning, PythonDeprecationWarning)\n"
     ]
    },
    {
     "data": {
      "text/plain": [
       "[s3.ObjectSummary(bucket_name='sorel-20m-demo', key='data/processed-data/meta.db'),\n",
       " s3.ObjectSummary(bucket_name='sorel-20m-demo', key='emr-serverless-spark/output/_SUCCESS'),\n",
       " s3.ObjectSummary(bucket_name='sorel-20m-demo', key='emr-serverless-spark/output/part-00000-7e4dfa2c-82f4-4f76-98b9-740b85b7fbd8-c000.csv'),\n",
       " s3.ObjectSummary(bucket_name='sorel-20m-demo', key='emr-serverless-spark/output/part-00001-7e4dfa2c-82f4-4f76-98b9-740b85b7fbd8-c000.csv'),\n",
       " s3.ObjectSummary(bucket_name='sorel-20m-demo', key='emr-serverless-spark/output/part-00002-7e4dfa2c-82f4-4f76-98b9-740b85b7fbd8-c000.csv'),\n",
       " s3.ObjectSummary(bucket_name='sorel-20m-demo', key='emr-serverless-spark/output/part-00004-7e4dfa2c-82f4-4f76-98b9-740b85b7fbd8-c000.csv'),\n",
       " s3.ObjectSummary(bucket_name='sorel-20m-demo', key='emr-serverless-spark/output/part-00009-7e4dfa2c-82f4-4f76-98b9-740b85b7fbd8-c000.csv'),\n",
       " s3.ObjectSummary(bucket_name='sorel-20m-demo', key='emr-serverless-spark/output/part-00010-7e4dfa2c-82f4-4f76-98b9-740b85b7fbd8-c000.csv'),\n",
       " s3.ObjectSummary(bucket_name='sorel-20m-demo', key='emr-serverless-spark/output/part-00011-7e4dfa2c-82f4-4f76-98b9-740b85b7fbd8-c000.csv'),\n",
       " s3.ObjectSummary(bucket_name='sorel-20m-demo', key='jdbc/sqlite-jdbc-3.41.0.0.jar'),\n",
       " s3.ObjectSummary(bucket_name='sorel-20m-demo', key='scripts/wordcount.py')]"
      ]
     },
     "execution_count": 23,
     "metadata": {},
     "output_type": "execute_result"
    }
   ],
   "source": [
    "# Private bucket\n",
    "s3 = boto3.resource('s3')\n",
    "bucket_priv = s3.Bucket('sorel-20m-demo')\n",
    "[o for o in bucket_priv.objects.all()]"
   ]
  }
 ],
 "metadata": {
  "kernelspec": {
   "display_name": "Python 3.6.13 ('sorel': conda)",
   "language": "python",
   "name": "python3"
  },
  "language_info": {
   "codemirror_mode": {
    "name": "ipython",
    "version": 3
   },
   "file_extension": ".py",
   "mimetype": "text/x-python",
   "name": "python",
   "nbconvert_exporter": "python",
   "pygments_lexer": "ipython3",
   "version": "3.6.13"
  },
  "orig_nbformat": 4,
  "vscode": {
   "interpreter": {
    "hash": "3da3c664a20c4740b5a3562669a592e60fb623e516a36d470d6f263f0739d0d0"
   }
  }
 },
 "nbformat": 4,
 "nbformat_minor": 2
}
