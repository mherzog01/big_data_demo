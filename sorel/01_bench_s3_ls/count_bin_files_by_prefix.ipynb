{
 "cells": [
  {
   "attachments": {},
   "cell_type": "markdown",
   "metadata": {},
   "source": [
    "# Queries the sorel-20m binaries directory by prefix"
   ]
  },
  {
   "cell_type": "code",
   "execution_count": null,
   "metadata": {},
   "outputs": [
    {
     "ename": "",
     "evalue": "",
     "output_type": "error",
     "traceback": [
      "\u001b[1;31mRunning cells with 'GUIAutomation' requires the ipykernel package.\n",
      "\u001b[1;31mRun the following command to install 'ipykernel' into the Python environment. \n",
      "\u001b[1;31mCommand: 'conda install -n GUIAutomation ipykernel --update-deps --force-reinstall'"
     ]
    }
   ],
   "source": [
    "import boto3\n",
    "from typing import List\n",
    "import datetime"
   ]
  },
  {
   "cell_type": "code",
   "execution_count": null,
   "metadata": {},
   "outputs": [
    {
     "ename": "",
     "evalue": "",
     "output_type": "error",
     "traceback": [
      "\u001b[1;31mRunning cells with 'GUIAutomation' requires the ipykernel package.\n",
      "\u001b[1;31mRun the following command to install 'ipykernel' into the Python environment. \n",
      "\u001b[1;31mCommand: 'conda install -n GUIAutomation ipykernel --update-deps --force-reinstall'"
     ]
    }
   ],
   "source": [
    "# Source\n",
    "BUCKET = 'sorel-20m'\n",
    "PREFIX = '09-DEC-2020/binaries'\n",
    "BUCKET_PATH = f's3://{BUCKET}'\n",
    "SRC_PATH = f'{BUCKET_PATH}/{PREFIX}'"
   ]
  },
  {
   "cell_type": "code",
   "execution_count": null,
   "metadata": {},
   "outputs": [
    {
     "ename": "",
     "evalue": "",
     "output_type": "error",
     "traceback": [
      "\u001b[1;31mRunning cells with 'GUIAutomation' requires the ipykernel package.\n",
      "\u001b[1;31mRun the following command to install 'ipykernel' into the Python environment. \n",
      "\u001b[1;31mCommand: 'conda install -n GUIAutomation ipykernel --update-deps --force-reinstall'"
     ]
    }
   ],
   "source": [
    "s3 = boto3.resource('s3')\n",
    "\n",
    "def get_objects(filter_chars: str, bucket: str, prefix: str) -> List[str]:\n",
    "    bucket = s3.Bucket(bucket)\n",
    "    prefix = f'{prefix}/{filter_chars}'\n",
    "    objects = bucket.objects.filter(Prefix=prefix)\n",
    "    return objects\n",
    "\n",
    "def get_num_objects(filter_chars):\n",
    "    objects = get_objects(filter_chars, BUCKET, PREFIX)\n",
    "    object_list = [o for o in objects]\n",
    "    return len(object_list)"
   ]
  },
  {
   "cell_type": "code",
   "execution_count": null,
   "metadata": {},
   "outputs": [
    {
     "ename": "",
     "evalue": "",
     "output_type": "error",
     "traceback": [
      "\u001b[1;31mRunning cells with 'GUIAutomation' requires the ipykernel package.\n",
      "\u001b[1;31mRun the following command to install 'ipykernel' into the Python environment. \n",
      "\u001b[1;31mCommand: 'conda install -n GUIAutomation ipykernel --update-deps --force-reinstall'"
     ]
    }
   ],
   "source": [
    "get_num_objects('0')"
   ]
  }
 ],
 "metadata": {
  "kernelspec": {
   "display_name": "GUIAutomation",
   "language": "python",
   "name": "python3"
  },
  "language_info": {
   "codemirror_mode": {
    "name": "ipython",
    "version": 3
   },
   "file_extension": ".py",
   "mimetype": "text/x-python",
   "name": "python",
   "nbconvert_exporter": "python",
   "pygments_lexer": "ipython3",
   "version": "3.8.16"
  },
  "orig_nbformat": 4
 },
 "nbformat": 4,
 "nbformat_minor": 2
}
