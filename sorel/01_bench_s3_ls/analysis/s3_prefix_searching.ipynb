{
 "cells": [
  {
   "attachments": {},
   "cell_type": "markdown",
   "metadata": {},
   "source": [
    "# Ensure S3 bucket search using a prefix find keys greater than the given prefix"
   ]
  },
  {
   "cell_type": "code",
   "execution_count": null,
   "metadata": {},
   "outputs": [],
   "source": [
    "# https://stackoverflow.com/questions/75759423/high-volume-read-of-many-keys-in-an-s3-bucket/75779792#75779792\n",
    "import boto3\n",
    "import ctypes\n",
    "import multiprocessing"
   ]
  },
  {
   "cell_type": "code",
   "execution_count": 2,
   "metadata": {},
   "outputs": [],
   "source": [
    "def validate_hex_digits(s3, bucket, prefix):\n",
    "    # Make sure the first character under the prefix is some hex digit\n",
    "    resp = s3.list_objects_v2(Bucket=bucket, Prefix=prefix, MaxKeys=1)\n",
    "    assert('0' <= resp['Contents'][0]['Key'][len(prefix)] <= 'f')\n",
    "    # Make sure there's nothing after 'f'\n",
    "    resp = s3.list_objects_v2(Bucket=bucket, Prefix=prefix + \"g\", MaxKeys=1, StartAfter=prefix+'g')\n",
    "    assert('Contents' not in resp)"
   ]
  },
  {
   "cell_type": "code",
   "execution_count": 3,
   "metadata": {},
   "outputs": [],
   "source": [
    "bucket = 'sorel-20m'\n",
    "prefix = '09-DEC-2020/binaries/'\n",
    "\n",
    "s3 = boto3.client('s3')\n",
    "\n",
    "# Verify all of the objects are at least two digit hex digits under the prefix\n",
    "validate_hex_digits(s3, bucket, prefix)\n",
    "for i in range(16):\n",
    "    validate_hex_digits(s3, bucket, prefix + f\"{i:x}\")"
   ]
  },
  {
   "cell_type": "code",
   "execution_count": 4,
   "metadata": {},
   "outputs": [
    {
     "name": "stdout",
     "output_type": "stream",
     "text": [
      "{'Key': '09-DEC-2020/binaries/0000029bfead495a003e43a7ab8406c6209ffb7d5e59dd212607aa358bfd66ea', 'LastModified': datetime.datetime(2020, 12, 1, 20, 39, 23, tzinfo=tzutc()), 'ETag': '\"e532ad9cf73b762766117b0e64336702\"', 'Size': 179128, 'StorageClass': 'INTELLIGENT_TIERING'}\n",
      "{'Key': '09-DEC-2020/binaries/000003b99c3d4b9860ad0b0ca43450603e5322f2cca3c9b3d543a2d6440305a0', 'LastModified': datetime.datetime(2020, 12, 1, 20, 39, 23, tzinfo=tzutc()), 'ETag': '\"29ad9300447e6b57bc73da72f2330b2d\"', 'Size': 1786, 'StorageClass': 'STANDARD'}\n",
      "{'Key': '09-DEC-2020/binaries/00000533148c26bcc09ab44b1acafe32dde93773d4a7e3dbd06c8232db5e437f', 'LastModified': datetime.datetime(2020, 12, 1, 20, 39, 23, tzinfo=tzutc()), 'ETag': '\"73474271cd24ddcc0f1e62e53001532b\"', 'Size': 2687186, 'StorageClass': 'INTELLIGENT_TIERING'}\n",
      "{'Key': '09-DEC-2020/binaries/000005920ff4eb85cfc74fd51ef1d5d7518dc16f6cb5c53f94f619473321d594', 'LastModified': datetime.datetime(2020, 12, 1, 20, 39, 23, tzinfo=tzutc()), 'ETag': '\"23959eddd2bcd4816ecccf36b14de2ef\"', 'Size': 154064, 'StorageClass': 'INTELLIGENT_TIERING'}\n",
      "{'Key': '09-DEC-2020/binaries/000008cf1b5ecbed74f31b45e96e0fb6566b6af75a5cd87335aaa91c20a9b822', 'LastModified': datetime.datetime(2020, 12, 1, 20, 39, 23, tzinfo=tzutc()), 'ETag': '\"8b8f01e9cc15302af59e87558b06e503\"', 'Size': 170646, 'StorageClass': 'INTELLIGENT_TIERING'}\n",
      "{'Key': '09-DEC-2020/binaries/000008e2ff1b8d64e3f81cbc456d4d51b6e967af0267d5486d4a562df291d0a6', 'LastModified': datetime.datetime(2020, 12, 1, 20, 39, 23, tzinfo=tzutc()), 'ETag': '\"454db7388d09708c2dd55291abd4aece\"', 'Size': 105479, 'StorageClass': 'STANDARD'}\n",
      "{'Key': '09-DEC-2020/binaries/00000b37a3d68384e9ce2c8f969ba3d839514ec6d3b234ed2285dff2aee644bd', 'LastModified': datetime.datetime(2020, 12, 1, 20, 39, 23, tzinfo=tzutc()), 'ETag': '\"c0c06ad45034fbeb6291e538540b199e\"', 'Size': 44960, 'StorageClass': 'STANDARD'}\n",
      "{'Key': '09-DEC-2020/binaries/00000cae80bac4c4591dd2f4451d0d1543ecd8d62eb8bcdc22a6bd45ba738d7d', 'LastModified': datetime.datetime(2020, 12, 1, 20, 39, 23, tzinfo=tzutc()), 'ETag': '\"9d56d38eea054383611f972e63044f39\"', 'Size': 553005, 'StorageClass': 'INTELLIGENT_TIERING'}\n"
     ]
    }
   ],
   "source": [
    "key = '09-DEC-2020/binaries/0000029bfead495a003e43a7ab8406c6209ffb7d5e59dd212607aa358bfd66ea'\n",
    "#key_short = key[:-25]\n",
    "key_short = f'{prefix}00000'\n",
    "resp = s3.list_objects_v2(Bucket=bucket, Prefix=key_short)\n",
    "for k in resp['Contents']:\n",
    "    print(k)    "
   ]
  },
  {
   "attachments": {},
   "cell_type": "markdown",
   "metadata": {},
   "source": [
    "The keys above do not contain '9' in the 6th position following the prefix.\n",
    "\n",
    "Searching for that does not give other keys greater than '9' (e.g. 'b')"
   ]
  },
  {
   "cell_type": "code",
   "execution_count": 6,
   "metadata": {},
   "outputs": [
    {
     "name": "stdout",
     "output_type": "stream",
     "text": [
      "{'Key': '09-DEC-2020/binaries/00000b37a3d68384e9ce2c8f969ba3d839514ec6d3b234ed2285dff2aee644bd', 'LastModified': datetime.datetime(2020, 12, 1, 20, 39, 23, tzinfo=tzutc()), 'ETag': '\"c0c06ad45034fbeb6291e538540b199e\"', 'Size': 44960, 'StorageClass': 'STANDARD'}\n",
      "{'Key': '09-DEC-2020/binaries/00000cae80bac4c4591dd2f4451d0d1543ecd8d62eb8bcdc22a6bd45ba738d7d', 'LastModified': datetime.datetime(2020, 12, 1, 20, 39, 23, tzinfo=tzutc()), 'ETag': '\"9d56d38eea054383611f972e63044f39\"', 'Size': 553005, 'StorageClass': 'INTELLIGENT_TIERING'}\n"
     ]
    }
   ],
   "source": [
    "key_short = f'{prefix}00000'\n",
    "resp = s3.list_objects_v2(Bucket=bucket, Prefix=key_short, StartAfter=key_short+'9')\n",
    "for k in resp['Contents']:\n",
    "    print(k)    "
   ]
  },
  {
   "cell_type": "code",
   "execution_count": 9,
   "metadata": {},
   "outputs": [
    {
     "name": "stdout",
     "output_type": "stream",
     "text": [
      "Key not found\n"
     ]
    }
   ],
   "source": [
    "key_short = f'{prefix}00000'\n",
    "resp = s3.list_objects_v2(Bucket=bucket, Prefix=key_short, StartAfter=key_short+'d')\n",
    "if 'Contents' in resp:\n",
    "    for k in resp['Contents']:\n",
    "        print(k)    \n",
    "else:\n",
    "    print('Key not found')"
   ]
  }
 ],
 "metadata": {
  "kernelspec": {
   "display_name": "GUIAutomation",
   "language": "python",
   "name": "python3"
  },
  "language_info": {
   "codemirror_mode": {
    "name": "ipython",
    "version": 3
   },
   "file_extension": ".py",
   "mimetype": "text/x-python",
   "name": "python",
   "nbconvert_exporter": "python",
   "pygments_lexer": "ipython3",
   "version": "3.8.16"
  },
  "orig_nbformat": 4
 },
 "nbformat": 4,
 "nbformat_minor": 2
}
